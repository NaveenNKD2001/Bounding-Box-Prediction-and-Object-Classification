{
  "cells": [
    {
      "cell_type": "markdown",
      "metadata": {
        "id": "view-in-github",
        "colab_type": "text"
      },
      "source": [
        "<a href=\"https://colab.research.google.com/github/NaveenNKD2001/Bounding-Box-Prediction-and-Object-Classification/blob/main/yolo_bounding_box.ipynb\" target=\"_parent\"><img src=\"https://colab.research.google.com/assets/colab-badge.svg\" alt=\"Open In Colab\"/></a>"
      ]
    },
    {
      "cell_type": "code",
      "execution_count": 1,
      "metadata": {
        "colab": {
          "base_uri": "https://localhost:8080/"
        },
        "id": "MkmAQhPaZVPA",
        "outputId": "c3310d22-a3b2-4811-cf67-62183f2132f8"
      },
      "outputs": [
        {
          "output_type": "stream",
          "name": "stdout",
          "text": [
            "Mounted at /content/drive\n"
          ]
        }
      ],
      "source": [
        "from google.colab import drive\n",
        "drive.mount('/content/drive')"
      ],
      "id": "MkmAQhPaZVPA"
    },
    {
      "cell_type": "code",
      "execution_count": 2,
      "metadata": {
        "id": "a73a694d"
      },
      "outputs": [],
      "source": [
        "import os\n",
        "from shutil import copy\n",
        "from glob import glob\n",
        "from xml.etree import ElementTree as et\n",
        "import pandas as pd\n",
        "import numpy as np\n",
        "import cv2"
      ],
      "id": "a73a694d"
    },
    {
      "cell_type": "code",
      "execution_count": 3,
      "metadata": {
        "id": "20e2ffe5"
      },
      "outputs": [],
      "source": [
        "xml=glob('/content/drive/MyDrive/drive_folder/Object_detection_dataset/annotations/*.xml')"
      ],
      "id": "20e2ffe5"
    },
    {
      "cell_type": "code",
      "execution_count": 4,
      "metadata": {
        "colab": {
          "base_uri": "https://localhost:8080/"
        },
        "id": "3ca90282",
        "outputId": "7eeb0c85-cee8-4f70-c39f-97bc759b6df7"
      },
      "outputs": [
        {
          "output_type": "execute_result",
          "data": {
            "text/plain": [
              "877"
            ]
          },
          "metadata": {},
          "execution_count": 4
        }
      ],
      "source": [
        "len(xml)"
      ],
      "id": "3ca90282"
    },
    {
      "cell_type": "code",
      "execution_count": 5,
      "metadata": {
        "colab": {
          "base_uri": "https://localhost:8080/",
          "height": 36
        },
        "id": "e8fae877",
        "outputId": "b10629c2-d61e-4c3f-8b85-d5f45aa94369"
      },
      "outputs": [
        {
          "output_type": "execute_result",
          "data": {
            "text/plain": [
              "'/content/drive/MyDrive/drive_folder/Object_detection_dataset/annotations/road129.xml'"
            ],
            "application/vnd.google.colaboratory.intrinsic+json": {
              "type": "string"
            }
          },
          "metadata": {},
          "execution_count": 5
        }
      ],
      "source": [
        "xml[0]"
      ],
      "id": "e8fae877"
    },
    {
      "cell_type": "code",
      "execution_count": null,
      "metadata": {
        "id": "ccf63b83"
      },
      "outputs": [],
      "source": [
        "#xml=list(map(lambda x: x.replace('\\\\','/'),xml))"
      ],
      "id": "ccf63b83"
    },
    {
      "cell_type": "code",
      "execution_count": null,
      "metadata": {
        "id": "44c4dc91"
      },
      "outputs": [],
      "source": [
        "#xml[0]"
      ],
      "id": "44c4dc91"
    },
    {
      "cell_type": "code",
      "execution_count": 6,
      "metadata": {
        "id": "b7fcd9fc"
      },
      "outputs": [],
      "source": [
        "def extract_txt(filename):\n",
        "    tree=et.parse(filename) # parses an XML object into element tree object which allows you to access and manipulate the elements and attributes of the XML document\n",
        "    root=tree.getroot()\n",
        "\n",
        "    image_name=root.find('filename').text\n",
        "    width=int(root.find('size/width').text)\n",
        "    height=int(root.find('size/height').text)\n",
        "    label_name=root.find('object/name').text\n",
        "    x_min=int(root.find('object/bndbox/xmin').text)\n",
        "    x_max=int(root.find('object/bndbox/xmax').text)\n",
        "    y_min=int(root.find('object/bndbox/ymin').text)\n",
        "    y_max=int(root.find('object/bndbox/ymax').text)\n",
        "\n",
        "    return [image_name,width,height,label_name,x_min,x_max,y_min,y_max]"
      ],
      "id": "b7fcd9fc"
    },
    {
      "cell_type": "code",
      "execution_count": 7,
      "metadata": {
        "id": "cf818f1d"
      },
      "outputs": [],
      "source": [
        "parsed_data=[extract_txt(x) for x in xml]"
      ],
      "id": "cf818f1d"
    },
    {
      "cell_type": "code",
      "execution_count": 8,
      "metadata": {
        "id": "57492316"
      },
      "outputs": [],
      "source": [
        "del xml"
      ],
      "id": "57492316"
    },
    {
      "cell_type": "code",
      "execution_count": 9,
      "metadata": {
        "colab": {
          "base_uri": "https://localhost:8080/"
        },
        "id": "ddd468f9",
        "outputId": "dd5ff654-6f99-485d-d1ba-6015b732d1c6"
      },
      "outputs": [
        {
          "output_type": "execute_result",
          "data": {
            "text/plain": [
              "[['road129.png', 400, 267, 'crosswalk', 111, 211, 76, 171],\n",
              " ['road130.png', 400, 281, 'crosswalk', 162, 181, 30, 50],\n",
              " ['road127.png', 400, 265, 'crosswalk', 268, 312, 56, 101],\n",
              " ['road121.png', 400, 301, 'speedlimit', 157, 379, 25, 250],\n",
              " ['road13.png', 267, 400, 'trafficlight', 75, 195, 74, 348],\n",
              " ['road111.png', 400, 267, 'speedlimit', 35, 101, 92, 159],\n",
              " ['road100.png', 400, 385, 'speedlimit', 35, 363, 5, 326],\n",
              " ['road115.png', 400, 225, 'speedlimit', 141, 244, 63, 161],\n",
              " ['road114.png', 400, 247, 'speedlimit', 254, 319, 32, 102],\n",
              " ['road1.png', 400, 283, 'trafficlight', 154, 258, 63, 281]]"
            ]
          },
          "metadata": {},
          "execution_count": 9
        }
      ],
      "source": [
        "parsed_data[:10]"
      ],
      "id": "ddd468f9"
    },
    {
      "cell_type": "code",
      "execution_count": 10,
      "metadata": {
        "id": "aff644d2"
      },
      "outputs": [],
      "source": [
        "df=pd.DataFrame(parsed_data,columns=['image_name','width','height','label','xmin','xmax','ymin','ymax'])"
      ],
      "id": "aff644d2"
    },
    {
      "cell_type": "code",
      "execution_count": 11,
      "metadata": {
        "id": "5259268f"
      },
      "outputs": [],
      "source": [
        "del parsed_data"
      ],
      "id": "5259268f"
    },
    {
      "cell_type": "code",
      "execution_count": 12,
      "metadata": {
        "colab": {
          "base_uri": "https://localhost:8080/",
          "height": 206
        },
        "id": "67debee3",
        "outputId": "b1694f35-4272-408a-a8f3-a5f45985523c"
      },
      "outputs": [
        {
          "output_type": "execute_result",
          "data": {
            "text/plain": [
              "    image_name  width  height         label  xmin  xmax  ymin  ymax\n",
              "0  road129.png    400     267     crosswalk   111   211    76   171\n",
              "1  road130.png    400     281     crosswalk   162   181    30    50\n",
              "2  road127.png    400     265     crosswalk   268   312    56   101\n",
              "3  road121.png    400     301    speedlimit   157   379    25   250\n",
              "4   road13.png    267     400  trafficlight    75   195    74   348"
            ],
            "text/html": [
              "\n",
              "  <div id=\"df-37159c89-1203-4cee-be11-1a7daacdc2f2\" class=\"colab-df-container\">\n",
              "    <div>\n",
              "<style scoped>\n",
              "    .dataframe tbody tr th:only-of-type {\n",
              "        vertical-align: middle;\n",
              "    }\n",
              "\n",
              "    .dataframe tbody tr th {\n",
              "        vertical-align: top;\n",
              "    }\n",
              "\n",
              "    .dataframe thead th {\n",
              "        text-align: right;\n",
              "    }\n",
              "</style>\n",
              "<table border=\"1\" class=\"dataframe\">\n",
              "  <thead>\n",
              "    <tr style=\"text-align: right;\">\n",
              "      <th></th>\n",
              "      <th>image_name</th>\n",
              "      <th>width</th>\n",
              "      <th>height</th>\n",
              "      <th>label</th>\n",
              "      <th>xmin</th>\n",
              "      <th>xmax</th>\n",
              "      <th>ymin</th>\n",
              "      <th>ymax</th>\n",
              "    </tr>\n",
              "  </thead>\n",
              "  <tbody>\n",
              "    <tr>\n",
              "      <th>0</th>\n",
              "      <td>road129.png</td>\n",
              "      <td>400</td>\n",
              "      <td>267</td>\n",
              "      <td>crosswalk</td>\n",
              "      <td>111</td>\n",
              "      <td>211</td>\n",
              "      <td>76</td>\n",
              "      <td>171</td>\n",
              "    </tr>\n",
              "    <tr>\n",
              "      <th>1</th>\n",
              "      <td>road130.png</td>\n",
              "      <td>400</td>\n",
              "      <td>281</td>\n",
              "      <td>crosswalk</td>\n",
              "      <td>162</td>\n",
              "      <td>181</td>\n",
              "      <td>30</td>\n",
              "      <td>50</td>\n",
              "    </tr>\n",
              "    <tr>\n",
              "      <th>2</th>\n",
              "      <td>road127.png</td>\n",
              "      <td>400</td>\n",
              "      <td>265</td>\n",
              "      <td>crosswalk</td>\n",
              "      <td>268</td>\n",
              "      <td>312</td>\n",
              "      <td>56</td>\n",
              "      <td>101</td>\n",
              "    </tr>\n",
              "    <tr>\n",
              "      <th>3</th>\n",
              "      <td>road121.png</td>\n",
              "      <td>400</td>\n",
              "      <td>301</td>\n",
              "      <td>speedlimit</td>\n",
              "      <td>157</td>\n",
              "      <td>379</td>\n",
              "      <td>25</td>\n",
              "      <td>250</td>\n",
              "    </tr>\n",
              "    <tr>\n",
              "      <th>4</th>\n",
              "      <td>road13.png</td>\n",
              "      <td>267</td>\n",
              "      <td>400</td>\n",
              "      <td>trafficlight</td>\n",
              "      <td>75</td>\n",
              "      <td>195</td>\n",
              "      <td>74</td>\n",
              "      <td>348</td>\n",
              "    </tr>\n",
              "  </tbody>\n",
              "</table>\n",
              "</div>\n",
              "    <div class=\"colab-df-buttons\">\n",
              "\n",
              "  <div class=\"colab-df-container\">\n",
              "    <button class=\"colab-df-convert\" onclick=\"convertToInteractive('df-37159c89-1203-4cee-be11-1a7daacdc2f2')\"\n",
              "            title=\"Convert this dataframe to an interactive table.\"\n",
              "            style=\"display:none;\">\n",
              "\n",
              "  <svg xmlns=\"http://www.w3.org/2000/svg\" height=\"24px\" viewBox=\"0 -960 960 960\">\n",
              "    <path d=\"M120-120v-720h720v720H120Zm60-500h600v-160H180v160Zm220 220h160v-160H400v160Zm0 220h160v-160H400v160ZM180-400h160v-160H180v160Zm440 0h160v-160H620v160ZM180-180h160v-160H180v160Zm440 0h160v-160H620v160Z\"/>\n",
              "  </svg>\n",
              "    </button>\n",
              "\n",
              "  <style>\n",
              "    .colab-df-container {\n",
              "      display:flex;\n",
              "      gap: 12px;\n",
              "    }\n",
              "\n",
              "    .colab-df-convert {\n",
              "      background-color: #E8F0FE;\n",
              "      border: none;\n",
              "      border-radius: 50%;\n",
              "      cursor: pointer;\n",
              "      display: none;\n",
              "      fill: #1967D2;\n",
              "      height: 32px;\n",
              "      padding: 0 0 0 0;\n",
              "      width: 32px;\n",
              "    }\n",
              "\n",
              "    .colab-df-convert:hover {\n",
              "      background-color: #E2EBFA;\n",
              "      box-shadow: 0px 1px 2px rgba(60, 64, 67, 0.3), 0px 1px 3px 1px rgba(60, 64, 67, 0.15);\n",
              "      fill: #174EA6;\n",
              "    }\n",
              "\n",
              "    .colab-df-buttons div {\n",
              "      margin-bottom: 4px;\n",
              "    }\n",
              "\n",
              "    [theme=dark] .colab-df-convert {\n",
              "      background-color: #3B4455;\n",
              "      fill: #D2E3FC;\n",
              "    }\n",
              "\n",
              "    [theme=dark] .colab-df-convert:hover {\n",
              "      background-color: #434B5C;\n",
              "      box-shadow: 0px 1px 3px 1px rgba(0, 0, 0, 0.15);\n",
              "      filter: drop-shadow(0px 1px 2px rgba(0, 0, 0, 0.3));\n",
              "      fill: #FFFFFF;\n",
              "    }\n",
              "  </style>\n",
              "\n",
              "    <script>\n",
              "      const buttonEl =\n",
              "        document.querySelector('#df-37159c89-1203-4cee-be11-1a7daacdc2f2 button.colab-df-convert');\n",
              "      buttonEl.style.display =\n",
              "        google.colab.kernel.accessAllowed ? 'block' : 'none';\n",
              "\n",
              "      async function convertToInteractive(key) {\n",
              "        const element = document.querySelector('#df-37159c89-1203-4cee-be11-1a7daacdc2f2');\n",
              "        const dataTable =\n",
              "          await google.colab.kernel.invokeFunction('convertToInteractive',\n",
              "                                                    [key], {});\n",
              "        if (!dataTable) return;\n",
              "\n",
              "        const docLinkHtml = 'Like what you see? Visit the ' +\n",
              "          '<a target=\"_blank\" href=https://colab.research.google.com/notebooks/data_table.ipynb>data table notebook</a>'\n",
              "          + ' to learn more about interactive tables.';\n",
              "        element.innerHTML = '';\n",
              "        dataTable['output_type'] = 'display_data';\n",
              "        await google.colab.output.renderOutput(dataTable, element);\n",
              "        const docLink = document.createElement('div');\n",
              "        docLink.innerHTML = docLinkHtml;\n",
              "        element.appendChild(docLink);\n",
              "      }\n",
              "    </script>\n",
              "  </div>\n",
              "\n",
              "\n",
              "<div id=\"df-0f70aff5-e89e-4833-bfea-96bbdd8931be\">\n",
              "  <button class=\"colab-df-quickchart\" onclick=\"quickchart('df-0f70aff5-e89e-4833-bfea-96bbdd8931be')\"\n",
              "            title=\"Suggest charts\"\n",
              "            style=\"display:none;\">\n",
              "\n",
              "<svg xmlns=\"http://www.w3.org/2000/svg\" height=\"24px\"viewBox=\"0 0 24 24\"\n",
              "     width=\"24px\">\n",
              "    <g>\n",
              "        <path d=\"M19 3H5c-1.1 0-2 .9-2 2v14c0 1.1.9 2 2 2h14c1.1 0 2-.9 2-2V5c0-1.1-.9-2-2-2zM9 17H7v-7h2v7zm4 0h-2V7h2v10zm4 0h-2v-4h2v4z\"/>\n",
              "    </g>\n",
              "</svg>\n",
              "  </button>\n",
              "\n",
              "<style>\n",
              "  .colab-df-quickchart {\n",
              "      --bg-color: #E8F0FE;\n",
              "      --fill-color: #1967D2;\n",
              "      --hover-bg-color: #E2EBFA;\n",
              "      --hover-fill-color: #174EA6;\n",
              "      --disabled-fill-color: #AAA;\n",
              "      --disabled-bg-color: #DDD;\n",
              "  }\n",
              "\n",
              "  [theme=dark] .colab-df-quickchart {\n",
              "      --bg-color: #3B4455;\n",
              "      --fill-color: #D2E3FC;\n",
              "      --hover-bg-color: #434B5C;\n",
              "      --hover-fill-color: #FFFFFF;\n",
              "      --disabled-bg-color: #3B4455;\n",
              "      --disabled-fill-color: #666;\n",
              "  }\n",
              "\n",
              "  .colab-df-quickchart {\n",
              "    background-color: var(--bg-color);\n",
              "    border: none;\n",
              "    border-radius: 50%;\n",
              "    cursor: pointer;\n",
              "    display: none;\n",
              "    fill: var(--fill-color);\n",
              "    height: 32px;\n",
              "    padding: 0;\n",
              "    width: 32px;\n",
              "  }\n",
              "\n",
              "  .colab-df-quickchart:hover {\n",
              "    background-color: var(--hover-bg-color);\n",
              "    box-shadow: 0 1px 2px rgba(60, 64, 67, 0.3), 0 1px 3px 1px rgba(60, 64, 67, 0.15);\n",
              "    fill: var(--button-hover-fill-color);\n",
              "  }\n",
              "\n",
              "  .colab-df-quickchart-complete:disabled,\n",
              "  .colab-df-quickchart-complete:disabled:hover {\n",
              "    background-color: var(--disabled-bg-color);\n",
              "    fill: var(--disabled-fill-color);\n",
              "    box-shadow: none;\n",
              "  }\n",
              "\n",
              "  .colab-df-spinner {\n",
              "    border: 2px solid var(--fill-color);\n",
              "    border-color: transparent;\n",
              "    border-bottom-color: var(--fill-color);\n",
              "    animation:\n",
              "      spin 1s steps(1) infinite;\n",
              "  }\n",
              "\n",
              "  @keyframes spin {\n",
              "    0% {\n",
              "      border-color: transparent;\n",
              "      border-bottom-color: var(--fill-color);\n",
              "      border-left-color: var(--fill-color);\n",
              "    }\n",
              "    20% {\n",
              "      border-color: transparent;\n",
              "      border-left-color: var(--fill-color);\n",
              "      border-top-color: var(--fill-color);\n",
              "    }\n",
              "    30% {\n",
              "      border-color: transparent;\n",
              "      border-left-color: var(--fill-color);\n",
              "      border-top-color: var(--fill-color);\n",
              "      border-right-color: var(--fill-color);\n",
              "    }\n",
              "    40% {\n",
              "      border-color: transparent;\n",
              "      border-right-color: var(--fill-color);\n",
              "      border-top-color: var(--fill-color);\n",
              "    }\n",
              "    60% {\n",
              "      border-color: transparent;\n",
              "      border-right-color: var(--fill-color);\n",
              "    }\n",
              "    80% {\n",
              "      border-color: transparent;\n",
              "      border-right-color: var(--fill-color);\n",
              "      border-bottom-color: var(--fill-color);\n",
              "    }\n",
              "    90% {\n",
              "      border-color: transparent;\n",
              "      border-bottom-color: var(--fill-color);\n",
              "    }\n",
              "  }\n",
              "</style>\n",
              "\n",
              "  <script>\n",
              "    async function quickchart(key) {\n",
              "      const quickchartButtonEl =\n",
              "        document.querySelector('#' + key + ' button');\n",
              "      quickchartButtonEl.disabled = true;  // To prevent multiple clicks.\n",
              "      quickchartButtonEl.classList.add('colab-df-spinner');\n",
              "      try {\n",
              "        const charts = await google.colab.kernel.invokeFunction(\n",
              "            'suggestCharts', [key], {});\n",
              "      } catch (error) {\n",
              "        console.error('Error during call to suggestCharts:', error);\n",
              "      }\n",
              "      quickchartButtonEl.classList.remove('colab-df-spinner');\n",
              "      quickchartButtonEl.classList.add('colab-df-quickchart-complete');\n",
              "    }\n",
              "    (() => {\n",
              "      let quickchartButtonEl =\n",
              "        document.querySelector('#df-0f70aff5-e89e-4833-bfea-96bbdd8931be button');\n",
              "      quickchartButtonEl.style.display =\n",
              "        google.colab.kernel.accessAllowed ? 'block' : 'none';\n",
              "    })();\n",
              "  </script>\n",
              "</div>\n",
              "\n",
              "    </div>\n",
              "  </div>\n"
            ]
          },
          "metadata": {},
          "execution_count": 12
        }
      ],
      "source": [
        "df.head()"
      ],
      "id": "67debee3"
    },
    {
      "cell_type": "code",
      "execution_count": 13,
      "metadata": {
        "colab": {
          "base_uri": "https://localhost:8080/"
        },
        "id": "cd76a618",
        "outputId": "db6abcf8-41c5-410d-e3d3-87080a076f55"
      },
      "outputs": [
        {
          "output_type": "execute_result",
          "data": {
            "text/plain": [
              "array(['crosswalk', 'speedlimit', 'trafficlight', 'stop'], dtype=object)"
            ]
          },
          "metadata": {},
          "execution_count": 13
        }
      ],
      "source": [
        "df['label'].unique()"
      ],
      "id": "cd76a618"
    },
    {
      "cell_type": "code",
      "execution_count": 14,
      "metadata": {
        "id": "5c10d3b6"
      },
      "outputs": [],
      "source": [
        "d={'crosswalk':0, 'speedlimit':1, 'trafficlight':2, 'stop':3}"
      ],
      "id": "5c10d3b6"
    },
    {
      "cell_type": "code",
      "execution_count": 15,
      "metadata": {
        "id": "7082971d"
      },
      "outputs": [],
      "source": [
        "df['label']=[d[i] for i in df['label']]"
      ],
      "id": "7082971d"
    },
    {
      "cell_type": "code",
      "execution_count": 16,
      "metadata": {
        "colab": {
          "base_uri": "https://localhost:8080/",
          "height": 206
        },
        "id": "8a73bc9b",
        "outputId": "9e7455ef-78f1-4c45-e255-430b88864c1d"
      },
      "outputs": [
        {
          "output_type": "execute_result",
          "data": {
            "text/plain": [
              "    image_name  width  height  label  xmin  xmax  ymin  ymax\n",
              "0  road129.png    400     267      0   111   211    76   171\n",
              "1  road130.png    400     281      0   162   181    30    50\n",
              "2  road127.png    400     265      0   268   312    56   101\n",
              "3  road121.png    400     301      1   157   379    25   250\n",
              "4   road13.png    267     400      2    75   195    74   348"
            ],
            "text/html": [
              "\n",
              "  <div id=\"df-0a8c8e37-55f4-41e8-abcf-546d667f2b05\" class=\"colab-df-container\">\n",
              "    <div>\n",
              "<style scoped>\n",
              "    .dataframe tbody tr th:only-of-type {\n",
              "        vertical-align: middle;\n",
              "    }\n",
              "\n",
              "    .dataframe tbody tr th {\n",
              "        vertical-align: top;\n",
              "    }\n",
              "\n",
              "    .dataframe thead th {\n",
              "        text-align: right;\n",
              "    }\n",
              "</style>\n",
              "<table border=\"1\" class=\"dataframe\">\n",
              "  <thead>\n",
              "    <tr style=\"text-align: right;\">\n",
              "      <th></th>\n",
              "      <th>image_name</th>\n",
              "      <th>width</th>\n",
              "      <th>height</th>\n",
              "      <th>label</th>\n",
              "      <th>xmin</th>\n",
              "      <th>xmax</th>\n",
              "      <th>ymin</th>\n",
              "      <th>ymax</th>\n",
              "    </tr>\n",
              "  </thead>\n",
              "  <tbody>\n",
              "    <tr>\n",
              "      <th>0</th>\n",
              "      <td>road129.png</td>\n",
              "      <td>400</td>\n",
              "      <td>267</td>\n",
              "      <td>0</td>\n",
              "      <td>111</td>\n",
              "      <td>211</td>\n",
              "      <td>76</td>\n",
              "      <td>171</td>\n",
              "    </tr>\n",
              "    <tr>\n",
              "      <th>1</th>\n",
              "      <td>road130.png</td>\n",
              "      <td>400</td>\n",
              "      <td>281</td>\n",
              "      <td>0</td>\n",
              "      <td>162</td>\n",
              "      <td>181</td>\n",
              "      <td>30</td>\n",
              "      <td>50</td>\n",
              "    </tr>\n",
              "    <tr>\n",
              "      <th>2</th>\n",
              "      <td>road127.png</td>\n",
              "      <td>400</td>\n",
              "      <td>265</td>\n",
              "      <td>0</td>\n",
              "      <td>268</td>\n",
              "      <td>312</td>\n",
              "      <td>56</td>\n",
              "      <td>101</td>\n",
              "    </tr>\n",
              "    <tr>\n",
              "      <th>3</th>\n",
              "      <td>road121.png</td>\n",
              "      <td>400</td>\n",
              "      <td>301</td>\n",
              "      <td>1</td>\n",
              "      <td>157</td>\n",
              "      <td>379</td>\n",
              "      <td>25</td>\n",
              "      <td>250</td>\n",
              "    </tr>\n",
              "    <tr>\n",
              "      <th>4</th>\n",
              "      <td>road13.png</td>\n",
              "      <td>267</td>\n",
              "      <td>400</td>\n",
              "      <td>2</td>\n",
              "      <td>75</td>\n",
              "      <td>195</td>\n",
              "      <td>74</td>\n",
              "      <td>348</td>\n",
              "    </tr>\n",
              "  </tbody>\n",
              "</table>\n",
              "</div>\n",
              "    <div class=\"colab-df-buttons\">\n",
              "\n",
              "  <div class=\"colab-df-container\">\n",
              "    <button class=\"colab-df-convert\" onclick=\"convertToInteractive('df-0a8c8e37-55f4-41e8-abcf-546d667f2b05')\"\n",
              "            title=\"Convert this dataframe to an interactive table.\"\n",
              "            style=\"display:none;\">\n",
              "\n",
              "  <svg xmlns=\"http://www.w3.org/2000/svg\" height=\"24px\" viewBox=\"0 -960 960 960\">\n",
              "    <path d=\"M120-120v-720h720v720H120Zm60-500h600v-160H180v160Zm220 220h160v-160H400v160Zm0 220h160v-160H400v160ZM180-400h160v-160H180v160Zm440 0h160v-160H620v160ZM180-180h160v-160H180v160Zm440 0h160v-160H620v160Z\"/>\n",
              "  </svg>\n",
              "    </button>\n",
              "\n",
              "  <style>\n",
              "    .colab-df-container {\n",
              "      display:flex;\n",
              "      gap: 12px;\n",
              "    }\n",
              "\n",
              "    .colab-df-convert {\n",
              "      background-color: #E8F0FE;\n",
              "      border: none;\n",
              "      border-radius: 50%;\n",
              "      cursor: pointer;\n",
              "      display: none;\n",
              "      fill: #1967D2;\n",
              "      height: 32px;\n",
              "      padding: 0 0 0 0;\n",
              "      width: 32px;\n",
              "    }\n",
              "\n",
              "    .colab-df-convert:hover {\n",
              "      background-color: #E2EBFA;\n",
              "      box-shadow: 0px 1px 2px rgba(60, 64, 67, 0.3), 0px 1px 3px 1px rgba(60, 64, 67, 0.15);\n",
              "      fill: #174EA6;\n",
              "    }\n",
              "\n",
              "    .colab-df-buttons div {\n",
              "      margin-bottom: 4px;\n",
              "    }\n",
              "\n",
              "    [theme=dark] .colab-df-convert {\n",
              "      background-color: #3B4455;\n",
              "      fill: #D2E3FC;\n",
              "    }\n",
              "\n",
              "    [theme=dark] .colab-df-convert:hover {\n",
              "      background-color: #434B5C;\n",
              "      box-shadow: 0px 1px 3px 1px rgba(0, 0, 0, 0.15);\n",
              "      filter: drop-shadow(0px 1px 2px rgba(0, 0, 0, 0.3));\n",
              "      fill: #FFFFFF;\n",
              "    }\n",
              "  </style>\n",
              "\n",
              "    <script>\n",
              "      const buttonEl =\n",
              "        document.querySelector('#df-0a8c8e37-55f4-41e8-abcf-546d667f2b05 button.colab-df-convert');\n",
              "      buttonEl.style.display =\n",
              "        google.colab.kernel.accessAllowed ? 'block' : 'none';\n",
              "\n",
              "      async function convertToInteractive(key) {\n",
              "        const element = document.querySelector('#df-0a8c8e37-55f4-41e8-abcf-546d667f2b05');\n",
              "        const dataTable =\n",
              "          await google.colab.kernel.invokeFunction('convertToInteractive',\n",
              "                                                    [key], {});\n",
              "        if (!dataTable) return;\n",
              "\n",
              "        const docLinkHtml = 'Like what you see? Visit the ' +\n",
              "          '<a target=\"_blank\" href=https://colab.research.google.com/notebooks/data_table.ipynb>data table notebook</a>'\n",
              "          + ' to learn more about interactive tables.';\n",
              "        element.innerHTML = '';\n",
              "        dataTable['output_type'] = 'display_data';\n",
              "        await google.colab.output.renderOutput(dataTable, element);\n",
              "        const docLink = document.createElement('div');\n",
              "        docLink.innerHTML = docLinkHtml;\n",
              "        element.appendChild(docLink);\n",
              "      }\n",
              "    </script>\n",
              "  </div>\n",
              "\n",
              "\n",
              "<div id=\"df-ac757cf3-26af-4f7c-976b-4901c183ccab\">\n",
              "  <button class=\"colab-df-quickchart\" onclick=\"quickchart('df-ac757cf3-26af-4f7c-976b-4901c183ccab')\"\n",
              "            title=\"Suggest charts\"\n",
              "            style=\"display:none;\">\n",
              "\n",
              "<svg xmlns=\"http://www.w3.org/2000/svg\" height=\"24px\"viewBox=\"0 0 24 24\"\n",
              "     width=\"24px\">\n",
              "    <g>\n",
              "        <path d=\"M19 3H5c-1.1 0-2 .9-2 2v14c0 1.1.9 2 2 2h14c1.1 0 2-.9 2-2V5c0-1.1-.9-2-2-2zM9 17H7v-7h2v7zm4 0h-2V7h2v10zm4 0h-2v-4h2v4z\"/>\n",
              "    </g>\n",
              "</svg>\n",
              "  </button>\n",
              "\n",
              "<style>\n",
              "  .colab-df-quickchart {\n",
              "      --bg-color: #E8F0FE;\n",
              "      --fill-color: #1967D2;\n",
              "      --hover-bg-color: #E2EBFA;\n",
              "      --hover-fill-color: #174EA6;\n",
              "      --disabled-fill-color: #AAA;\n",
              "      --disabled-bg-color: #DDD;\n",
              "  }\n",
              "\n",
              "  [theme=dark] .colab-df-quickchart {\n",
              "      --bg-color: #3B4455;\n",
              "      --fill-color: #D2E3FC;\n",
              "      --hover-bg-color: #434B5C;\n",
              "      --hover-fill-color: #FFFFFF;\n",
              "      --disabled-bg-color: #3B4455;\n",
              "      --disabled-fill-color: #666;\n",
              "  }\n",
              "\n",
              "  .colab-df-quickchart {\n",
              "    background-color: var(--bg-color);\n",
              "    border: none;\n",
              "    border-radius: 50%;\n",
              "    cursor: pointer;\n",
              "    display: none;\n",
              "    fill: var(--fill-color);\n",
              "    height: 32px;\n",
              "    padding: 0;\n",
              "    width: 32px;\n",
              "  }\n",
              "\n",
              "  .colab-df-quickchart:hover {\n",
              "    background-color: var(--hover-bg-color);\n",
              "    box-shadow: 0 1px 2px rgba(60, 64, 67, 0.3), 0 1px 3px 1px rgba(60, 64, 67, 0.15);\n",
              "    fill: var(--button-hover-fill-color);\n",
              "  }\n",
              "\n",
              "  .colab-df-quickchart-complete:disabled,\n",
              "  .colab-df-quickchart-complete:disabled:hover {\n",
              "    background-color: var(--disabled-bg-color);\n",
              "    fill: var(--disabled-fill-color);\n",
              "    box-shadow: none;\n",
              "  }\n",
              "\n",
              "  .colab-df-spinner {\n",
              "    border: 2px solid var(--fill-color);\n",
              "    border-color: transparent;\n",
              "    border-bottom-color: var(--fill-color);\n",
              "    animation:\n",
              "      spin 1s steps(1) infinite;\n",
              "  }\n",
              "\n",
              "  @keyframes spin {\n",
              "    0% {\n",
              "      border-color: transparent;\n",
              "      border-bottom-color: var(--fill-color);\n",
              "      border-left-color: var(--fill-color);\n",
              "    }\n",
              "    20% {\n",
              "      border-color: transparent;\n",
              "      border-left-color: var(--fill-color);\n",
              "      border-top-color: var(--fill-color);\n",
              "    }\n",
              "    30% {\n",
              "      border-color: transparent;\n",
              "      border-left-color: var(--fill-color);\n",
              "      border-top-color: var(--fill-color);\n",
              "      border-right-color: var(--fill-color);\n",
              "    }\n",
              "    40% {\n",
              "      border-color: transparent;\n",
              "      border-right-color: var(--fill-color);\n",
              "      border-top-color: var(--fill-color);\n",
              "    }\n",
              "    60% {\n",
              "      border-color: transparent;\n",
              "      border-right-color: var(--fill-color);\n",
              "    }\n",
              "    80% {\n",
              "      border-color: transparent;\n",
              "      border-right-color: var(--fill-color);\n",
              "      border-bottom-color: var(--fill-color);\n",
              "    }\n",
              "    90% {\n",
              "      border-color: transparent;\n",
              "      border-bottom-color: var(--fill-color);\n",
              "    }\n",
              "  }\n",
              "</style>\n",
              "\n",
              "  <script>\n",
              "    async function quickchart(key) {\n",
              "      const quickchartButtonEl =\n",
              "        document.querySelector('#' + key + ' button');\n",
              "      quickchartButtonEl.disabled = true;  // To prevent multiple clicks.\n",
              "      quickchartButtonEl.classList.add('colab-df-spinner');\n",
              "      try {\n",
              "        const charts = await google.colab.kernel.invokeFunction(\n",
              "            'suggestCharts', [key], {});\n",
              "      } catch (error) {\n",
              "        console.error('Error during call to suggestCharts:', error);\n",
              "      }\n",
              "      quickchartButtonEl.classList.remove('colab-df-spinner');\n",
              "      quickchartButtonEl.classList.add('colab-df-quickchart-complete');\n",
              "    }\n",
              "    (() => {\n",
              "      let quickchartButtonEl =\n",
              "        document.querySelector('#df-ac757cf3-26af-4f7c-976b-4901c183ccab button');\n",
              "      quickchartButtonEl.style.display =\n",
              "        google.colab.kernel.accessAllowed ? 'block' : 'none';\n",
              "    })();\n",
              "  </script>\n",
              "</div>\n",
              "\n",
              "    </div>\n",
              "  </div>\n"
            ]
          },
          "metadata": {},
          "execution_count": 16
        }
      ],
      "source": [
        "df.head()"
      ],
      "id": "8a73bc9b"
    },
    {
      "cell_type": "code",
      "execution_count": 17,
      "metadata": {
        "id": "5840f06f"
      },
      "outputs": [],
      "source": [
        "df['center_x']=((df['xmin']+df['xmax'])/2)/df['width']\n",
        "df['center_y']=((df['ymin']+df['ymax'])/2)/df['height']\n",
        "df['w']=(df['xmax']-df['xmin'])/df['width']\n",
        "df['h']=(df['ymax']-df['ymin'])/df['height']"
      ],
      "id": "5840f06f"
    },
    {
      "cell_type": "code",
      "execution_count": 18,
      "metadata": {
        "colab": {
          "base_uri": "https://localhost:8080/",
          "height": 206
        },
        "id": "0b3f756d",
        "outputId": "3ff555f3-58f1-46b3-dde6-44c528770958"
      },
      "outputs": [
        {
          "output_type": "execute_result",
          "data": {
            "text/plain": [
              "    image_name  width  height  label  xmin  xmax  ymin  ymax  center_x  \\\n",
              "0  road129.png    400     267      0   111   211    76   171  0.402500   \n",
              "1  road130.png    400     281      0   162   181    30    50  0.428750   \n",
              "2  road127.png    400     265      0   268   312    56   101  0.725000   \n",
              "3  road121.png    400     301      1   157   379    25   250  0.670000   \n",
              "4   road13.png    267     400      2    75   195    74   348  0.505618   \n",
              "\n",
              "   center_y         w         h  \n",
              "0  0.462547  0.250000  0.355805  \n",
              "1  0.142349  0.047500  0.071174  \n",
              "2  0.296226  0.110000  0.169811  \n",
              "3  0.456811  0.555000  0.747508  \n",
              "4  0.527500  0.449438  0.685000  "
            ],
            "text/html": [
              "\n",
              "  <div id=\"df-a14321eb-3a3a-4ccf-b97c-5d48ac903933\" class=\"colab-df-container\">\n",
              "    <div>\n",
              "<style scoped>\n",
              "    .dataframe tbody tr th:only-of-type {\n",
              "        vertical-align: middle;\n",
              "    }\n",
              "\n",
              "    .dataframe tbody tr th {\n",
              "        vertical-align: top;\n",
              "    }\n",
              "\n",
              "    .dataframe thead th {\n",
              "        text-align: right;\n",
              "    }\n",
              "</style>\n",
              "<table border=\"1\" class=\"dataframe\">\n",
              "  <thead>\n",
              "    <tr style=\"text-align: right;\">\n",
              "      <th></th>\n",
              "      <th>image_name</th>\n",
              "      <th>width</th>\n",
              "      <th>height</th>\n",
              "      <th>label</th>\n",
              "      <th>xmin</th>\n",
              "      <th>xmax</th>\n",
              "      <th>ymin</th>\n",
              "      <th>ymax</th>\n",
              "      <th>center_x</th>\n",
              "      <th>center_y</th>\n",
              "      <th>w</th>\n",
              "      <th>h</th>\n",
              "    </tr>\n",
              "  </thead>\n",
              "  <tbody>\n",
              "    <tr>\n",
              "      <th>0</th>\n",
              "      <td>road129.png</td>\n",
              "      <td>400</td>\n",
              "      <td>267</td>\n",
              "      <td>0</td>\n",
              "      <td>111</td>\n",
              "      <td>211</td>\n",
              "      <td>76</td>\n",
              "      <td>171</td>\n",
              "      <td>0.402500</td>\n",
              "      <td>0.462547</td>\n",
              "      <td>0.250000</td>\n",
              "      <td>0.355805</td>\n",
              "    </tr>\n",
              "    <tr>\n",
              "      <th>1</th>\n",
              "      <td>road130.png</td>\n",
              "      <td>400</td>\n",
              "      <td>281</td>\n",
              "      <td>0</td>\n",
              "      <td>162</td>\n",
              "      <td>181</td>\n",
              "      <td>30</td>\n",
              "      <td>50</td>\n",
              "      <td>0.428750</td>\n",
              "      <td>0.142349</td>\n",
              "      <td>0.047500</td>\n",
              "      <td>0.071174</td>\n",
              "    </tr>\n",
              "    <tr>\n",
              "      <th>2</th>\n",
              "      <td>road127.png</td>\n",
              "      <td>400</td>\n",
              "      <td>265</td>\n",
              "      <td>0</td>\n",
              "      <td>268</td>\n",
              "      <td>312</td>\n",
              "      <td>56</td>\n",
              "      <td>101</td>\n",
              "      <td>0.725000</td>\n",
              "      <td>0.296226</td>\n",
              "      <td>0.110000</td>\n",
              "      <td>0.169811</td>\n",
              "    </tr>\n",
              "    <tr>\n",
              "      <th>3</th>\n",
              "      <td>road121.png</td>\n",
              "      <td>400</td>\n",
              "      <td>301</td>\n",
              "      <td>1</td>\n",
              "      <td>157</td>\n",
              "      <td>379</td>\n",
              "      <td>25</td>\n",
              "      <td>250</td>\n",
              "      <td>0.670000</td>\n",
              "      <td>0.456811</td>\n",
              "      <td>0.555000</td>\n",
              "      <td>0.747508</td>\n",
              "    </tr>\n",
              "    <tr>\n",
              "      <th>4</th>\n",
              "      <td>road13.png</td>\n",
              "      <td>267</td>\n",
              "      <td>400</td>\n",
              "      <td>2</td>\n",
              "      <td>75</td>\n",
              "      <td>195</td>\n",
              "      <td>74</td>\n",
              "      <td>348</td>\n",
              "      <td>0.505618</td>\n",
              "      <td>0.527500</td>\n",
              "      <td>0.449438</td>\n",
              "      <td>0.685000</td>\n",
              "    </tr>\n",
              "  </tbody>\n",
              "</table>\n",
              "</div>\n",
              "    <div class=\"colab-df-buttons\">\n",
              "\n",
              "  <div class=\"colab-df-container\">\n",
              "    <button class=\"colab-df-convert\" onclick=\"convertToInteractive('df-a14321eb-3a3a-4ccf-b97c-5d48ac903933')\"\n",
              "            title=\"Convert this dataframe to an interactive table.\"\n",
              "            style=\"display:none;\">\n",
              "\n",
              "  <svg xmlns=\"http://www.w3.org/2000/svg\" height=\"24px\" viewBox=\"0 -960 960 960\">\n",
              "    <path d=\"M120-120v-720h720v720H120Zm60-500h600v-160H180v160Zm220 220h160v-160H400v160Zm0 220h160v-160H400v160ZM180-400h160v-160H180v160Zm440 0h160v-160H620v160ZM180-180h160v-160H180v160Zm440 0h160v-160H620v160Z\"/>\n",
              "  </svg>\n",
              "    </button>\n",
              "\n",
              "  <style>\n",
              "    .colab-df-container {\n",
              "      display:flex;\n",
              "      gap: 12px;\n",
              "    }\n",
              "\n",
              "    .colab-df-convert {\n",
              "      background-color: #E8F0FE;\n",
              "      border: none;\n",
              "      border-radius: 50%;\n",
              "      cursor: pointer;\n",
              "      display: none;\n",
              "      fill: #1967D2;\n",
              "      height: 32px;\n",
              "      padding: 0 0 0 0;\n",
              "      width: 32px;\n",
              "    }\n",
              "\n",
              "    .colab-df-convert:hover {\n",
              "      background-color: #E2EBFA;\n",
              "      box-shadow: 0px 1px 2px rgba(60, 64, 67, 0.3), 0px 1px 3px 1px rgba(60, 64, 67, 0.15);\n",
              "      fill: #174EA6;\n",
              "    }\n",
              "\n",
              "    .colab-df-buttons div {\n",
              "      margin-bottom: 4px;\n",
              "    }\n",
              "\n",
              "    [theme=dark] .colab-df-convert {\n",
              "      background-color: #3B4455;\n",
              "      fill: #D2E3FC;\n",
              "    }\n",
              "\n",
              "    [theme=dark] .colab-df-convert:hover {\n",
              "      background-color: #434B5C;\n",
              "      box-shadow: 0px 1px 3px 1px rgba(0, 0, 0, 0.15);\n",
              "      filter: drop-shadow(0px 1px 2px rgba(0, 0, 0, 0.3));\n",
              "      fill: #FFFFFF;\n",
              "    }\n",
              "  </style>\n",
              "\n",
              "    <script>\n",
              "      const buttonEl =\n",
              "        document.querySelector('#df-a14321eb-3a3a-4ccf-b97c-5d48ac903933 button.colab-df-convert');\n",
              "      buttonEl.style.display =\n",
              "        google.colab.kernel.accessAllowed ? 'block' : 'none';\n",
              "\n",
              "      async function convertToInteractive(key) {\n",
              "        const element = document.querySelector('#df-a14321eb-3a3a-4ccf-b97c-5d48ac903933');\n",
              "        const dataTable =\n",
              "          await google.colab.kernel.invokeFunction('convertToInteractive',\n",
              "                                                    [key], {});\n",
              "        if (!dataTable) return;\n",
              "\n",
              "        const docLinkHtml = 'Like what you see? Visit the ' +\n",
              "          '<a target=\"_blank\" href=https://colab.research.google.com/notebooks/data_table.ipynb>data table notebook</a>'\n",
              "          + ' to learn more about interactive tables.';\n",
              "        element.innerHTML = '';\n",
              "        dataTable['output_type'] = 'display_data';\n",
              "        await google.colab.output.renderOutput(dataTable, element);\n",
              "        const docLink = document.createElement('div');\n",
              "        docLink.innerHTML = docLinkHtml;\n",
              "        element.appendChild(docLink);\n",
              "      }\n",
              "    </script>\n",
              "  </div>\n",
              "\n",
              "\n",
              "<div id=\"df-93c8abe1-565a-4275-87d6-531120121aff\">\n",
              "  <button class=\"colab-df-quickchart\" onclick=\"quickchart('df-93c8abe1-565a-4275-87d6-531120121aff')\"\n",
              "            title=\"Suggest charts\"\n",
              "            style=\"display:none;\">\n",
              "\n",
              "<svg xmlns=\"http://www.w3.org/2000/svg\" height=\"24px\"viewBox=\"0 0 24 24\"\n",
              "     width=\"24px\">\n",
              "    <g>\n",
              "        <path d=\"M19 3H5c-1.1 0-2 .9-2 2v14c0 1.1.9 2 2 2h14c1.1 0 2-.9 2-2V5c0-1.1-.9-2-2-2zM9 17H7v-7h2v7zm4 0h-2V7h2v10zm4 0h-2v-4h2v4z\"/>\n",
              "    </g>\n",
              "</svg>\n",
              "  </button>\n",
              "\n",
              "<style>\n",
              "  .colab-df-quickchart {\n",
              "      --bg-color: #E8F0FE;\n",
              "      --fill-color: #1967D2;\n",
              "      --hover-bg-color: #E2EBFA;\n",
              "      --hover-fill-color: #174EA6;\n",
              "      --disabled-fill-color: #AAA;\n",
              "      --disabled-bg-color: #DDD;\n",
              "  }\n",
              "\n",
              "  [theme=dark] .colab-df-quickchart {\n",
              "      --bg-color: #3B4455;\n",
              "      --fill-color: #D2E3FC;\n",
              "      --hover-bg-color: #434B5C;\n",
              "      --hover-fill-color: #FFFFFF;\n",
              "      --disabled-bg-color: #3B4455;\n",
              "      --disabled-fill-color: #666;\n",
              "  }\n",
              "\n",
              "  .colab-df-quickchart {\n",
              "    background-color: var(--bg-color);\n",
              "    border: none;\n",
              "    border-radius: 50%;\n",
              "    cursor: pointer;\n",
              "    display: none;\n",
              "    fill: var(--fill-color);\n",
              "    height: 32px;\n",
              "    padding: 0;\n",
              "    width: 32px;\n",
              "  }\n",
              "\n",
              "  .colab-df-quickchart:hover {\n",
              "    background-color: var(--hover-bg-color);\n",
              "    box-shadow: 0 1px 2px rgba(60, 64, 67, 0.3), 0 1px 3px 1px rgba(60, 64, 67, 0.15);\n",
              "    fill: var(--button-hover-fill-color);\n",
              "  }\n",
              "\n",
              "  .colab-df-quickchart-complete:disabled,\n",
              "  .colab-df-quickchart-complete:disabled:hover {\n",
              "    background-color: var(--disabled-bg-color);\n",
              "    fill: var(--disabled-fill-color);\n",
              "    box-shadow: none;\n",
              "  }\n",
              "\n",
              "  .colab-df-spinner {\n",
              "    border: 2px solid var(--fill-color);\n",
              "    border-color: transparent;\n",
              "    border-bottom-color: var(--fill-color);\n",
              "    animation:\n",
              "      spin 1s steps(1) infinite;\n",
              "  }\n",
              "\n",
              "  @keyframes spin {\n",
              "    0% {\n",
              "      border-color: transparent;\n",
              "      border-bottom-color: var(--fill-color);\n",
              "      border-left-color: var(--fill-color);\n",
              "    }\n",
              "    20% {\n",
              "      border-color: transparent;\n",
              "      border-left-color: var(--fill-color);\n",
              "      border-top-color: var(--fill-color);\n",
              "    }\n",
              "    30% {\n",
              "      border-color: transparent;\n",
              "      border-left-color: var(--fill-color);\n",
              "      border-top-color: var(--fill-color);\n",
              "      border-right-color: var(--fill-color);\n",
              "    }\n",
              "    40% {\n",
              "      border-color: transparent;\n",
              "      border-right-color: var(--fill-color);\n",
              "      border-top-color: var(--fill-color);\n",
              "    }\n",
              "    60% {\n",
              "      border-color: transparent;\n",
              "      border-right-color: var(--fill-color);\n",
              "    }\n",
              "    80% {\n",
              "      border-color: transparent;\n",
              "      border-right-color: var(--fill-color);\n",
              "      border-bottom-color: var(--fill-color);\n",
              "    }\n",
              "    90% {\n",
              "      border-color: transparent;\n",
              "      border-bottom-color: var(--fill-color);\n",
              "    }\n",
              "  }\n",
              "</style>\n",
              "\n",
              "  <script>\n",
              "    async function quickchart(key) {\n",
              "      const quickchartButtonEl =\n",
              "        document.querySelector('#' + key + ' button');\n",
              "      quickchartButtonEl.disabled = true;  // To prevent multiple clicks.\n",
              "      quickchartButtonEl.classList.add('colab-df-spinner');\n",
              "      try {\n",
              "        const charts = await google.colab.kernel.invokeFunction(\n",
              "            'suggestCharts', [key], {});\n",
              "      } catch (error) {\n",
              "        console.error('Error during call to suggestCharts:', error);\n",
              "      }\n",
              "      quickchartButtonEl.classList.remove('colab-df-spinner');\n",
              "      quickchartButtonEl.classList.add('colab-df-quickchart-complete');\n",
              "    }\n",
              "    (() => {\n",
              "      let quickchartButtonEl =\n",
              "        document.querySelector('#df-93c8abe1-565a-4275-87d6-531120121aff button');\n",
              "      quickchartButtonEl.style.display =\n",
              "        google.colab.kernel.accessAllowed ? 'block' : 'none';\n",
              "    })();\n",
              "  </script>\n",
              "</div>\n",
              "\n",
              "    </div>\n",
              "  </div>\n"
            ]
          },
          "metadata": {},
          "execution_count": 18
        }
      ],
      "source": [
        "df.head()"
      ],
      "id": "0b3f756d"
    },
    {
      "cell_type": "code",
      "execution_count": 19,
      "metadata": {
        "id": "02a237ea"
      },
      "outputs": [],
      "source": [
        "img_df=pd.DataFrame(df['image_name'],columns=['image_name'])"
      ],
      "id": "02a237ea"
    },
    {
      "cell_type": "code",
      "execution_count": 20,
      "metadata": {
        "id": "7f8ef221"
      },
      "outputs": [],
      "source": [
        "img_train=tuple(img_df.sample(frac=0.8)['image_name'])\n",
        "img_test=tuple(img_df.query(f'image_name not in {img_train}')['image_name'])"
      ],
      "id": "7f8ef221"
    },
    {
      "cell_type": "code",
      "execution_count": 21,
      "metadata": {
        "colab": {
          "base_uri": "https://localhost:8080/"
        },
        "id": "caf16af8",
        "outputId": "0335d0d1-946c-4678-927d-f99f9a7a5ac2"
      },
      "outputs": [
        {
          "output_type": "execute_result",
          "data": {
            "text/plain": [
              "(702, 175)"
            ]
          },
          "metadata": {},
          "execution_count": 21
        }
      ],
      "source": [
        "len(img_train),len(img_test)"
      ],
      "id": "caf16af8"
    },
    {
      "cell_type": "code",
      "execution_count": 22,
      "metadata": {
        "id": "5916e178"
      },
      "outputs": [],
      "source": [
        "train_df=df.query(f'image_name in {img_train}')\n",
        "test_df=df.query(f'image_name in {img_test}')"
      ],
      "id": "5916e178"
    },
    {
      "cell_type": "code",
      "execution_count": 23,
      "metadata": {
        "id": "3cf89f66"
      },
      "outputs": [],
      "source": [
        "del img_df,img_train,img_test,df"
      ],
      "id": "3cf89f66"
    },
    {
      "cell_type": "code",
      "execution_count": 24,
      "metadata": {
        "colab": {
          "base_uri": "https://localhost:8080/",
          "height": 206
        },
        "id": "a0d785c0",
        "outputId": "6483769c-2c4f-43b4-c0d9-29c59c936b95"
      },
      "outputs": [
        {
          "output_type": "execute_result",
          "data": {
            "text/plain": [
              "    image_name  width  height  label  xmin  xmax  ymin  ymax  center_x  \\\n",
              "0  road129.png    400     267      0   111   211    76   171  0.402500   \n",
              "1  road130.png    400     281      0   162   181    30    50  0.428750   \n",
              "2  road127.png    400     265      0   268   312    56   101  0.725000   \n",
              "3  road121.png    400     301      1   157   379    25   250  0.670000   \n",
              "4   road13.png    267     400      2    75   195    74   348  0.505618   \n",
              "\n",
              "   center_y         w         h  \n",
              "0  0.462547  0.250000  0.355805  \n",
              "1  0.142349  0.047500  0.071174  \n",
              "2  0.296226  0.110000  0.169811  \n",
              "3  0.456811  0.555000  0.747508  \n",
              "4  0.527500  0.449438  0.685000  "
            ],
            "text/html": [
              "\n",
              "  <div id=\"df-9f4013da-96a4-46e2-a77b-74f499a71b03\" class=\"colab-df-container\">\n",
              "    <div>\n",
              "<style scoped>\n",
              "    .dataframe tbody tr th:only-of-type {\n",
              "        vertical-align: middle;\n",
              "    }\n",
              "\n",
              "    .dataframe tbody tr th {\n",
              "        vertical-align: top;\n",
              "    }\n",
              "\n",
              "    .dataframe thead th {\n",
              "        text-align: right;\n",
              "    }\n",
              "</style>\n",
              "<table border=\"1\" class=\"dataframe\">\n",
              "  <thead>\n",
              "    <tr style=\"text-align: right;\">\n",
              "      <th></th>\n",
              "      <th>image_name</th>\n",
              "      <th>width</th>\n",
              "      <th>height</th>\n",
              "      <th>label</th>\n",
              "      <th>xmin</th>\n",
              "      <th>xmax</th>\n",
              "      <th>ymin</th>\n",
              "      <th>ymax</th>\n",
              "      <th>center_x</th>\n",
              "      <th>center_y</th>\n",
              "      <th>w</th>\n",
              "      <th>h</th>\n",
              "    </tr>\n",
              "  </thead>\n",
              "  <tbody>\n",
              "    <tr>\n",
              "      <th>0</th>\n",
              "      <td>road129.png</td>\n",
              "      <td>400</td>\n",
              "      <td>267</td>\n",
              "      <td>0</td>\n",
              "      <td>111</td>\n",
              "      <td>211</td>\n",
              "      <td>76</td>\n",
              "      <td>171</td>\n",
              "      <td>0.402500</td>\n",
              "      <td>0.462547</td>\n",
              "      <td>0.250000</td>\n",
              "      <td>0.355805</td>\n",
              "    </tr>\n",
              "    <tr>\n",
              "      <th>1</th>\n",
              "      <td>road130.png</td>\n",
              "      <td>400</td>\n",
              "      <td>281</td>\n",
              "      <td>0</td>\n",
              "      <td>162</td>\n",
              "      <td>181</td>\n",
              "      <td>30</td>\n",
              "      <td>50</td>\n",
              "      <td>0.428750</td>\n",
              "      <td>0.142349</td>\n",
              "      <td>0.047500</td>\n",
              "      <td>0.071174</td>\n",
              "    </tr>\n",
              "    <tr>\n",
              "      <th>2</th>\n",
              "      <td>road127.png</td>\n",
              "      <td>400</td>\n",
              "      <td>265</td>\n",
              "      <td>0</td>\n",
              "      <td>268</td>\n",
              "      <td>312</td>\n",
              "      <td>56</td>\n",
              "      <td>101</td>\n",
              "      <td>0.725000</td>\n",
              "      <td>0.296226</td>\n",
              "      <td>0.110000</td>\n",
              "      <td>0.169811</td>\n",
              "    </tr>\n",
              "    <tr>\n",
              "      <th>3</th>\n",
              "      <td>road121.png</td>\n",
              "      <td>400</td>\n",
              "      <td>301</td>\n",
              "      <td>1</td>\n",
              "      <td>157</td>\n",
              "      <td>379</td>\n",
              "      <td>25</td>\n",
              "      <td>250</td>\n",
              "      <td>0.670000</td>\n",
              "      <td>0.456811</td>\n",
              "      <td>0.555000</td>\n",
              "      <td>0.747508</td>\n",
              "    </tr>\n",
              "    <tr>\n",
              "      <th>4</th>\n",
              "      <td>road13.png</td>\n",
              "      <td>267</td>\n",
              "      <td>400</td>\n",
              "      <td>2</td>\n",
              "      <td>75</td>\n",
              "      <td>195</td>\n",
              "      <td>74</td>\n",
              "      <td>348</td>\n",
              "      <td>0.505618</td>\n",
              "      <td>0.527500</td>\n",
              "      <td>0.449438</td>\n",
              "      <td>0.685000</td>\n",
              "    </tr>\n",
              "  </tbody>\n",
              "</table>\n",
              "</div>\n",
              "    <div class=\"colab-df-buttons\">\n",
              "\n",
              "  <div class=\"colab-df-container\">\n",
              "    <button class=\"colab-df-convert\" onclick=\"convertToInteractive('df-9f4013da-96a4-46e2-a77b-74f499a71b03')\"\n",
              "            title=\"Convert this dataframe to an interactive table.\"\n",
              "            style=\"display:none;\">\n",
              "\n",
              "  <svg xmlns=\"http://www.w3.org/2000/svg\" height=\"24px\" viewBox=\"0 -960 960 960\">\n",
              "    <path d=\"M120-120v-720h720v720H120Zm60-500h600v-160H180v160Zm220 220h160v-160H400v160Zm0 220h160v-160H400v160ZM180-400h160v-160H180v160Zm440 0h160v-160H620v160ZM180-180h160v-160H180v160Zm440 0h160v-160H620v160Z\"/>\n",
              "  </svg>\n",
              "    </button>\n",
              "\n",
              "  <style>\n",
              "    .colab-df-container {\n",
              "      display:flex;\n",
              "      gap: 12px;\n",
              "    }\n",
              "\n",
              "    .colab-df-convert {\n",
              "      background-color: #E8F0FE;\n",
              "      border: none;\n",
              "      border-radius: 50%;\n",
              "      cursor: pointer;\n",
              "      display: none;\n",
              "      fill: #1967D2;\n",
              "      height: 32px;\n",
              "      padding: 0 0 0 0;\n",
              "      width: 32px;\n",
              "    }\n",
              "\n",
              "    .colab-df-convert:hover {\n",
              "      background-color: #E2EBFA;\n",
              "      box-shadow: 0px 1px 2px rgba(60, 64, 67, 0.3), 0px 1px 3px 1px rgba(60, 64, 67, 0.15);\n",
              "      fill: #174EA6;\n",
              "    }\n",
              "\n",
              "    .colab-df-buttons div {\n",
              "      margin-bottom: 4px;\n",
              "    }\n",
              "\n",
              "    [theme=dark] .colab-df-convert {\n",
              "      background-color: #3B4455;\n",
              "      fill: #D2E3FC;\n",
              "    }\n",
              "\n",
              "    [theme=dark] .colab-df-convert:hover {\n",
              "      background-color: #434B5C;\n",
              "      box-shadow: 0px 1px 3px 1px rgba(0, 0, 0, 0.15);\n",
              "      filter: drop-shadow(0px 1px 2px rgba(0, 0, 0, 0.3));\n",
              "      fill: #FFFFFF;\n",
              "    }\n",
              "  </style>\n",
              "\n",
              "    <script>\n",
              "      const buttonEl =\n",
              "        document.querySelector('#df-9f4013da-96a4-46e2-a77b-74f499a71b03 button.colab-df-convert');\n",
              "      buttonEl.style.display =\n",
              "        google.colab.kernel.accessAllowed ? 'block' : 'none';\n",
              "\n",
              "      async function convertToInteractive(key) {\n",
              "        const element = document.querySelector('#df-9f4013da-96a4-46e2-a77b-74f499a71b03');\n",
              "        const dataTable =\n",
              "          await google.colab.kernel.invokeFunction('convertToInteractive',\n",
              "                                                    [key], {});\n",
              "        if (!dataTable) return;\n",
              "\n",
              "        const docLinkHtml = 'Like what you see? Visit the ' +\n",
              "          '<a target=\"_blank\" href=https://colab.research.google.com/notebooks/data_table.ipynb>data table notebook</a>'\n",
              "          + ' to learn more about interactive tables.';\n",
              "        element.innerHTML = '';\n",
              "        dataTable['output_type'] = 'display_data';\n",
              "        await google.colab.output.renderOutput(dataTable, element);\n",
              "        const docLink = document.createElement('div');\n",
              "        docLink.innerHTML = docLinkHtml;\n",
              "        element.appendChild(docLink);\n",
              "      }\n",
              "    </script>\n",
              "  </div>\n",
              "\n",
              "\n",
              "<div id=\"df-514a6694-1d9b-4863-81c7-947150ec9938\">\n",
              "  <button class=\"colab-df-quickchart\" onclick=\"quickchart('df-514a6694-1d9b-4863-81c7-947150ec9938')\"\n",
              "            title=\"Suggest charts\"\n",
              "            style=\"display:none;\">\n",
              "\n",
              "<svg xmlns=\"http://www.w3.org/2000/svg\" height=\"24px\"viewBox=\"0 0 24 24\"\n",
              "     width=\"24px\">\n",
              "    <g>\n",
              "        <path d=\"M19 3H5c-1.1 0-2 .9-2 2v14c0 1.1.9 2 2 2h14c1.1 0 2-.9 2-2V5c0-1.1-.9-2-2-2zM9 17H7v-7h2v7zm4 0h-2V7h2v10zm4 0h-2v-4h2v4z\"/>\n",
              "    </g>\n",
              "</svg>\n",
              "  </button>\n",
              "\n",
              "<style>\n",
              "  .colab-df-quickchart {\n",
              "      --bg-color: #E8F0FE;\n",
              "      --fill-color: #1967D2;\n",
              "      --hover-bg-color: #E2EBFA;\n",
              "      --hover-fill-color: #174EA6;\n",
              "      --disabled-fill-color: #AAA;\n",
              "      --disabled-bg-color: #DDD;\n",
              "  }\n",
              "\n",
              "  [theme=dark] .colab-df-quickchart {\n",
              "      --bg-color: #3B4455;\n",
              "      --fill-color: #D2E3FC;\n",
              "      --hover-bg-color: #434B5C;\n",
              "      --hover-fill-color: #FFFFFF;\n",
              "      --disabled-bg-color: #3B4455;\n",
              "      --disabled-fill-color: #666;\n",
              "  }\n",
              "\n",
              "  .colab-df-quickchart {\n",
              "    background-color: var(--bg-color);\n",
              "    border: none;\n",
              "    border-radius: 50%;\n",
              "    cursor: pointer;\n",
              "    display: none;\n",
              "    fill: var(--fill-color);\n",
              "    height: 32px;\n",
              "    padding: 0;\n",
              "    width: 32px;\n",
              "  }\n",
              "\n",
              "  .colab-df-quickchart:hover {\n",
              "    background-color: var(--hover-bg-color);\n",
              "    box-shadow: 0 1px 2px rgba(60, 64, 67, 0.3), 0 1px 3px 1px rgba(60, 64, 67, 0.15);\n",
              "    fill: var(--button-hover-fill-color);\n",
              "  }\n",
              "\n",
              "  .colab-df-quickchart-complete:disabled,\n",
              "  .colab-df-quickchart-complete:disabled:hover {\n",
              "    background-color: var(--disabled-bg-color);\n",
              "    fill: var(--disabled-fill-color);\n",
              "    box-shadow: none;\n",
              "  }\n",
              "\n",
              "  .colab-df-spinner {\n",
              "    border: 2px solid var(--fill-color);\n",
              "    border-color: transparent;\n",
              "    border-bottom-color: var(--fill-color);\n",
              "    animation:\n",
              "      spin 1s steps(1) infinite;\n",
              "  }\n",
              "\n",
              "  @keyframes spin {\n",
              "    0% {\n",
              "      border-color: transparent;\n",
              "      border-bottom-color: var(--fill-color);\n",
              "      border-left-color: var(--fill-color);\n",
              "    }\n",
              "    20% {\n",
              "      border-color: transparent;\n",
              "      border-left-color: var(--fill-color);\n",
              "      border-top-color: var(--fill-color);\n",
              "    }\n",
              "    30% {\n",
              "      border-color: transparent;\n",
              "      border-left-color: var(--fill-color);\n",
              "      border-top-color: var(--fill-color);\n",
              "      border-right-color: var(--fill-color);\n",
              "    }\n",
              "    40% {\n",
              "      border-color: transparent;\n",
              "      border-right-color: var(--fill-color);\n",
              "      border-top-color: var(--fill-color);\n",
              "    }\n",
              "    60% {\n",
              "      border-color: transparent;\n",
              "      border-right-color: var(--fill-color);\n",
              "    }\n",
              "    80% {\n",
              "      border-color: transparent;\n",
              "      border-right-color: var(--fill-color);\n",
              "      border-bottom-color: var(--fill-color);\n",
              "    }\n",
              "    90% {\n",
              "      border-color: transparent;\n",
              "      border-bottom-color: var(--fill-color);\n",
              "    }\n",
              "  }\n",
              "</style>\n",
              "\n",
              "  <script>\n",
              "    async function quickchart(key) {\n",
              "      const quickchartButtonEl =\n",
              "        document.querySelector('#' + key + ' button');\n",
              "      quickchartButtonEl.disabled = true;  // To prevent multiple clicks.\n",
              "      quickchartButtonEl.classList.add('colab-df-spinner');\n",
              "      try {\n",
              "        const charts = await google.colab.kernel.invokeFunction(\n",
              "            'suggestCharts', [key], {});\n",
              "      } catch (error) {\n",
              "        console.error('Error during call to suggestCharts:', error);\n",
              "      }\n",
              "      quickchartButtonEl.classList.remove('colab-df-spinner');\n",
              "      quickchartButtonEl.classList.add('colab-df-quickchart-complete');\n",
              "    }\n",
              "    (() => {\n",
              "      let quickchartButtonEl =\n",
              "        document.querySelector('#df-514a6694-1d9b-4863-81c7-947150ec9938 button');\n",
              "      quickchartButtonEl.style.display =\n",
              "        google.colab.kernel.accessAllowed ? 'block' : 'none';\n",
              "    })();\n",
              "  </script>\n",
              "</div>\n",
              "\n",
              "    </div>\n",
              "  </div>\n"
            ]
          },
          "metadata": {},
          "execution_count": 24
        }
      ],
      "source": [
        "train_df.head()"
      ],
      "id": "a0d785c0"
    },
    {
      "cell_type": "code",
      "execution_count": 25,
      "metadata": {
        "colab": {
          "base_uri": "https://localhost:8080/",
          "height": 206
        },
        "id": "1125ef95",
        "outputId": "aea5cb94-1699-4d27-ad9f-371b11937eb8"
      },
      "outputs": [
        {
          "output_type": "execute_result",
          "data": {
            "text/plain": [
              "     image_name  width  height  label  xmin  xmax  ymin  ymax  center_x  \\\n",
              "5   road111.png    400     267      1    35   101    92   159   0.17000   \n",
              "9     road1.png    400     283      2   154   258    63   281   0.51500   \n",
              "10  road103.png    400     301      1    89   297    25   272   0.48250   \n",
              "23  road117.png    400     225      1   224   289    32   103   0.64125   \n",
              "25  road131.png    400     267      0   156   177     8    31   0.41625   \n",
              "\n",
              "    center_y       w         h  \n",
              "5   0.470037  0.1650  0.250936  \n",
              "9   0.607774  0.2600  0.770318  \n",
              "10  0.493355  0.5200  0.820598  \n",
              "23  0.300000  0.1625  0.315556  \n",
              "25  0.073034  0.0525  0.086142  "
            ],
            "text/html": [
              "\n",
              "  <div id=\"df-9edb19dc-bc6e-40d8-9f29-49596b842ef0\" class=\"colab-df-container\">\n",
              "    <div>\n",
              "<style scoped>\n",
              "    .dataframe tbody tr th:only-of-type {\n",
              "        vertical-align: middle;\n",
              "    }\n",
              "\n",
              "    .dataframe tbody tr th {\n",
              "        vertical-align: top;\n",
              "    }\n",
              "\n",
              "    .dataframe thead th {\n",
              "        text-align: right;\n",
              "    }\n",
              "</style>\n",
              "<table border=\"1\" class=\"dataframe\">\n",
              "  <thead>\n",
              "    <tr style=\"text-align: right;\">\n",
              "      <th></th>\n",
              "      <th>image_name</th>\n",
              "      <th>width</th>\n",
              "      <th>height</th>\n",
              "      <th>label</th>\n",
              "      <th>xmin</th>\n",
              "      <th>xmax</th>\n",
              "      <th>ymin</th>\n",
              "      <th>ymax</th>\n",
              "      <th>center_x</th>\n",
              "      <th>center_y</th>\n",
              "      <th>w</th>\n",
              "      <th>h</th>\n",
              "    </tr>\n",
              "  </thead>\n",
              "  <tbody>\n",
              "    <tr>\n",
              "      <th>5</th>\n",
              "      <td>road111.png</td>\n",
              "      <td>400</td>\n",
              "      <td>267</td>\n",
              "      <td>1</td>\n",
              "      <td>35</td>\n",
              "      <td>101</td>\n",
              "      <td>92</td>\n",
              "      <td>159</td>\n",
              "      <td>0.17000</td>\n",
              "      <td>0.470037</td>\n",
              "      <td>0.1650</td>\n",
              "      <td>0.250936</td>\n",
              "    </tr>\n",
              "    <tr>\n",
              "      <th>9</th>\n",
              "      <td>road1.png</td>\n",
              "      <td>400</td>\n",
              "      <td>283</td>\n",
              "      <td>2</td>\n",
              "      <td>154</td>\n",
              "      <td>258</td>\n",
              "      <td>63</td>\n",
              "      <td>281</td>\n",
              "      <td>0.51500</td>\n",
              "      <td>0.607774</td>\n",
              "      <td>0.2600</td>\n",
              "      <td>0.770318</td>\n",
              "    </tr>\n",
              "    <tr>\n",
              "      <th>10</th>\n",
              "      <td>road103.png</td>\n",
              "      <td>400</td>\n",
              "      <td>301</td>\n",
              "      <td>1</td>\n",
              "      <td>89</td>\n",
              "      <td>297</td>\n",
              "      <td>25</td>\n",
              "      <td>272</td>\n",
              "      <td>0.48250</td>\n",
              "      <td>0.493355</td>\n",
              "      <td>0.5200</td>\n",
              "      <td>0.820598</td>\n",
              "    </tr>\n",
              "    <tr>\n",
              "      <th>23</th>\n",
              "      <td>road117.png</td>\n",
              "      <td>400</td>\n",
              "      <td>225</td>\n",
              "      <td>1</td>\n",
              "      <td>224</td>\n",
              "      <td>289</td>\n",
              "      <td>32</td>\n",
              "      <td>103</td>\n",
              "      <td>0.64125</td>\n",
              "      <td>0.300000</td>\n",
              "      <td>0.1625</td>\n",
              "      <td>0.315556</td>\n",
              "    </tr>\n",
              "    <tr>\n",
              "      <th>25</th>\n",
              "      <td>road131.png</td>\n",
              "      <td>400</td>\n",
              "      <td>267</td>\n",
              "      <td>0</td>\n",
              "      <td>156</td>\n",
              "      <td>177</td>\n",
              "      <td>8</td>\n",
              "      <td>31</td>\n",
              "      <td>0.41625</td>\n",
              "      <td>0.073034</td>\n",
              "      <td>0.0525</td>\n",
              "      <td>0.086142</td>\n",
              "    </tr>\n",
              "  </tbody>\n",
              "</table>\n",
              "</div>\n",
              "    <div class=\"colab-df-buttons\">\n",
              "\n",
              "  <div class=\"colab-df-container\">\n",
              "    <button class=\"colab-df-convert\" onclick=\"convertToInteractive('df-9edb19dc-bc6e-40d8-9f29-49596b842ef0')\"\n",
              "            title=\"Convert this dataframe to an interactive table.\"\n",
              "            style=\"display:none;\">\n",
              "\n",
              "  <svg xmlns=\"http://www.w3.org/2000/svg\" height=\"24px\" viewBox=\"0 -960 960 960\">\n",
              "    <path d=\"M120-120v-720h720v720H120Zm60-500h600v-160H180v160Zm220 220h160v-160H400v160Zm0 220h160v-160H400v160ZM180-400h160v-160H180v160Zm440 0h160v-160H620v160ZM180-180h160v-160H180v160Zm440 0h160v-160H620v160Z\"/>\n",
              "  </svg>\n",
              "    </button>\n",
              "\n",
              "  <style>\n",
              "    .colab-df-container {\n",
              "      display:flex;\n",
              "      gap: 12px;\n",
              "    }\n",
              "\n",
              "    .colab-df-convert {\n",
              "      background-color: #E8F0FE;\n",
              "      border: none;\n",
              "      border-radius: 50%;\n",
              "      cursor: pointer;\n",
              "      display: none;\n",
              "      fill: #1967D2;\n",
              "      height: 32px;\n",
              "      padding: 0 0 0 0;\n",
              "      width: 32px;\n",
              "    }\n",
              "\n",
              "    .colab-df-convert:hover {\n",
              "      background-color: #E2EBFA;\n",
              "      box-shadow: 0px 1px 2px rgba(60, 64, 67, 0.3), 0px 1px 3px 1px rgba(60, 64, 67, 0.15);\n",
              "      fill: #174EA6;\n",
              "    }\n",
              "\n",
              "    .colab-df-buttons div {\n",
              "      margin-bottom: 4px;\n",
              "    }\n",
              "\n",
              "    [theme=dark] .colab-df-convert {\n",
              "      background-color: #3B4455;\n",
              "      fill: #D2E3FC;\n",
              "    }\n",
              "\n",
              "    [theme=dark] .colab-df-convert:hover {\n",
              "      background-color: #434B5C;\n",
              "      box-shadow: 0px 1px 3px 1px rgba(0, 0, 0, 0.15);\n",
              "      filter: drop-shadow(0px 1px 2px rgba(0, 0, 0, 0.3));\n",
              "      fill: #FFFFFF;\n",
              "    }\n",
              "  </style>\n",
              "\n",
              "    <script>\n",
              "      const buttonEl =\n",
              "        document.querySelector('#df-9edb19dc-bc6e-40d8-9f29-49596b842ef0 button.colab-df-convert');\n",
              "      buttonEl.style.display =\n",
              "        google.colab.kernel.accessAllowed ? 'block' : 'none';\n",
              "\n",
              "      async function convertToInteractive(key) {\n",
              "        const element = document.querySelector('#df-9edb19dc-bc6e-40d8-9f29-49596b842ef0');\n",
              "        const dataTable =\n",
              "          await google.colab.kernel.invokeFunction('convertToInteractive',\n",
              "                                                    [key], {});\n",
              "        if (!dataTable) return;\n",
              "\n",
              "        const docLinkHtml = 'Like what you see? Visit the ' +\n",
              "          '<a target=\"_blank\" href=https://colab.research.google.com/notebooks/data_table.ipynb>data table notebook</a>'\n",
              "          + ' to learn more about interactive tables.';\n",
              "        element.innerHTML = '';\n",
              "        dataTable['output_type'] = 'display_data';\n",
              "        await google.colab.output.renderOutput(dataTable, element);\n",
              "        const docLink = document.createElement('div');\n",
              "        docLink.innerHTML = docLinkHtml;\n",
              "        element.appendChild(docLink);\n",
              "      }\n",
              "    </script>\n",
              "  </div>\n",
              "\n",
              "\n",
              "<div id=\"df-253e3d78-9899-4f45-b464-8ad7a5e15525\">\n",
              "  <button class=\"colab-df-quickchart\" onclick=\"quickchart('df-253e3d78-9899-4f45-b464-8ad7a5e15525')\"\n",
              "            title=\"Suggest charts\"\n",
              "            style=\"display:none;\">\n",
              "\n",
              "<svg xmlns=\"http://www.w3.org/2000/svg\" height=\"24px\"viewBox=\"0 0 24 24\"\n",
              "     width=\"24px\">\n",
              "    <g>\n",
              "        <path d=\"M19 3H5c-1.1 0-2 .9-2 2v14c0 1.1.9 2 2 2h14c1.1 0 2-.9 2-2V5c0-1.1-.9-2-2-2zM9 17H7v-7h2v7zm4 0h-2V7h2v10zm4 0h-2v-4h2v4z\"/>\n",
              "    </g>\n",
              "</svg>\n",
              "  </button>\n",
              "\n",
              "<style>\n",
              "  .colab-df-quickchart {\n",
              "      --bg-color: #E8F0FE;\n",
              "      --fill-color: #1967D2;\n",
              "      --hover-bg-color: #E2EBFA;\n",
              "      --hover-fill-color: #174EA6;\n",
              "      --disabled-fill-color: #AAA;\n",
              "      --disabled-bg-color: #DDD;\n",
              "  }\n",
              "\n",
              "  [theme=dark] .colab-df-quickchart {\n",
              "      --bg-color: #3B4455;\n",
              "      --fill-color: #D2E3FC;\n",
              "      --hover-bg-color: #434B5C;\n",
              "      --hover-fill-color: #FFFFFF;\n",
              "      --disabled-bg-color: #3B4455;\n",
              "      --disabled-fill-color: #666;\n",
              "  }\n",
              "\n",
              "  .colab-df-quickchart {\n",
              "    background-color: var(--bg-color);\n",
              "    border: none;\n",
              "    border-radius: 50%;\n",
              "    cursor: pointer;\n",
              "    display: none;\n",
              "    fill: var(--fill-color);\n",
              "    height: 32px;\n",
              "    padding: 0;\n",
              "    width: 32px;\n",
              "  }\n",
              "\n",
              "  .colab-df-quickchart:hover {\n",
              "    background-color: var(--hover-bg-color);\n",
              "    box-shadow: 0 1px 2px rgba(60, 64, 67, 0.3), 0 1px 3px 1px rgba(60, 64, 67, 0.15);\n",
              "    fill: var(--button-hover-fill-color);\n",
              "  }\n",
              "\n",
              "  .colab-df-quickchart-complete:disabled,\n",
              "  .colab-df-quickchart-complete:disabled:hover {\n",
              "    background-color: var(--disabled-bg-color);\n",
              "    fill: var(--disabled-fill-color);\n",
              "    box-shadow: none;\n",
              "  }\n",
              "\n",
              "  .colab-df-spinner {\n",
              "    border: 2px solid var(--fill-color);\n",
              "    border-color: transparent;\n",
              "    border-bottom-color: var(--fill-color);\n",
              "    animation:\n",
              "      spin 1s steps(1) infinite;\n",
              "  }\n",
              "\n",
              "  @keyframes spin {\n",
              "    0% {\n",
              "      border-color: transparent;\n",
              "      border-bottom-color: var(--fill-color);\n",
              "      border-left-color: var(--fill-color);\n",
              "    }\n",
              "    20% {\n",
              "      border-color: transparent;\n",
              "      border-left-color: var(--fill-color);\n",
              "      border-top-color: var(--fill-color);\n",
              "    }\n",
              "    30% {\n",
              "      border-color: transparent;\n",
              "      border-left-color: var(--fill-color);\n",
              "      border-top-color: var(--fill-color);\n",
              "      border-right-color: var(--fill-color);\n",
              "    }\n",
              "    40% {\n",
              "      border-color: transparent;\n",
              "      border-right-color: var(--fill-color);\n",
              "      border-top-color: var(--fill-color);\n",
              "    }\n",
              "    60% {\n",
              "      border-color: transparent;\n",
              "      border-right-color: var(--fill-color);\n",
              "    }\n",
              "    80% {\n",
              "      border-color: transparent;\n",
              "      border-right-color: var(--fill-color);\n",
              "      border-bottom-color: var(--fill-color);\n",
              "    }\n",
              "    90% {\n",
              "      border-color: transparent;\n",
              "      border-bottom-color: var(--fill-color);\n",
              "    }\n",
              "  }\n",
              "</style>\n",
              "\n",
              "  <script>\n",
              "    async function quickchart(key) {\n",
              "      const quickchartButtonEl =\n",
              "        document.querySelector('#' + key + ' button');\n",
              "      quickchartButtonEl.disabled = true;  // To prevent multiple clicks.\n",
              "      quickchartButtonEl.classList.add('colab-df-spinner');\n",
              "      try {\n",
              "        const charts = await google.colab.kernel.invokeFunction(\n",
              "            'suggestCharts', [key], {});\n",
              "      } catch (error) {\n",
              "        console.error('Error during call to suggestCharts:', error);\n",
              "      }\n",
              "      quickchartButtonEl.classList.remove('colab-df-spinner');\n",
              "      quickchartButtonEl.classList.add('colab-df-quickchart-complete');\n",
              "    }\n",
              "    (() => {\n",
              "      let quickchartButtonEl =\n",
              "        document.querySelector('#df-253e3d78-9899-4f45-b464-8ad7a5e15525 button');\n",
              "      quickchartButtonEl.style.display =\n",
              "        google.colab.kernel.accessAllowed ? 'block' : 'none';\n",
              "    })();\n",
              "  </script>\n",
              "</div>\n",
              "\n",
              "    </div>\n",
              "  </div>\n"
            ]
          },
          "metadata": {},
          "execution_count": 25
        }
      ],
      "source": [
        "test_df.head()"
      ],
      "id": "1125ef95"
    },
    {
      "cell_type": "code",
      "execution_count": 26,
      "metadata": {
        "id": "h_d0EjZ4Ftmp"
      },
      "outputs": [],
      "source": [
        "os.mkdir('/content/drive/MyDrive/drive_folder/images_labels_yolo')\n",
        "\n",
        "os.mkdir('/content/drive/MyDrive/drive_folder/images_labels_yolo/train')\n",
        "os.mkdir('/content/drive/MyDrive/drive_folder/images_labels_yolo/test')\n",
        "\n",
        "os.mkdir('/content/drive/MyDrive/drive_folder/images_labels_yolo/train/images')\n",
        "os.mkdir('/content/drive/MyDrive/drive_folder/images_labels_yolo/train/labels')\n",
        "\n",
        "os.mkdir('/content/drive/MyDrive/drive_folder/images_labels_yolo/test/images')\n",
        "os.mkdir('/content/drive/MyDrive/drive_folder/images_labels_yolo/test/labels')"
      ],
      "id": "h_d0EjZ4Ftmp"
    },
    {
      "cell_type": "code",
      "execution_count": 27,
      "metadata": {
        "id": "020d2f1b"
      },
      "outputs": [],
      "source": [
        "train_folder='/content/drive/MyDrive/drive_folder/images_labels_yolo/train'\n",
        "test_folder='/content/drive/MyDrive/drive_folder/images_labels_yolo/test'"
      ],
      "id": "020d2f1b"
    },
    {
      "cell_type": "code",
      "execution_count": 28,
      "metadata": {
        "id": "31a32323"
      },
      "outputs": [],
      "source": [
        "cols=['image_name','label','center_x','center_y','w','h']\n",
        "group_train=train_df[cols].groupby('image_name')\n",
        "group_test=test_df[cols].groupby('image_name')"
      ],
      "id": "31a32323"
    },
    {
      "cell_type": "code",
      "execution_count": 29,
      "metadata": {
        "colab": {
          "base_uri": "https://localhost:8080/"
        },
        "id": "19f13179",
        "outputId": "7586645d-d13c-4ec9-d5a8-219f4e6e20a5"
      },
      "outputs": [
        {
          "output_type": "execute_result",
          "data": {
            "text/plain": [
              "<pandas.core.groupby.generic.DataFrameGroupBy object at 0x7c5acd356860>"
            ]
          },
          "metadata": {},
          "execution_count": 29
        }
      ],
      "source": [
        "group_train"
      ],
      "id": "19f13179"
    },
    {
      "cell_type": "code",
      "execution_count": 30,
      "metadata": {
        "colab": {
          "base_uri": "https://localhost:8080/",
          "height": 81
        },
        "id": "3e9c7491",
        "outputId": "edd550f2-4757-4a66-a894-00294877ec8c"
      },
      "outputs": [
        {
          "output_type": "execute_result",
          "data": {
            "text/plain": [
              "    image_name  label  center_x  center_y      w         h\n",
              "15  road10.png      2    0.4375  0.498127  0.345  0.973783"
            ],
            "text/html": [
              "\n",
              "  <div id=\"df-2733000a-47de-46f4-a208-9aebc71cd9fc\" class=\"colab-df-container\">\n",
              "    <div>\n",
              "<style scoped>\n",
              "    .dataframe tbody tr th:only-of-type {\n",
              "        vertical-align: middle;\n",
              "    }\n",
              "\n",
              "    .dataframe tbody tr th {\n",
              "        vertical-align: top;\n",
              "    }\n",
              "\n",
              "    .dataframe thead th {\n",
              "        text-align: right;\n",
              "    }\n",
              "</style>\n",
              "<table border=\"1\" class=\"dataframe\">\n",
              "  <thead>\n",
              "    <tr style=\"text-align: right;\">\n",
              "      <th></th>\n",
              "      <th>image_name</th>\n",
              "      <th>label</th>\n",
              "      <th>center_x</th>\n",
              "      <th>center_y</th>\n",
              "      <th>w</th>\n",
              "      <th>h</th>\n",
              "    </tr>\n",
              "  </thead>\n",
              "  <tbody>\n",
              "    <tr>\n",
              "      <th>15</th>\n",
              "      <td>road10.png</td>\n",
              "      <td>2</td>\n",
              "      <td>0.4375</td>\n",
              "      <td>0.498127</td>\n",
              "      <td>0.345</td>\n",
              "      <td>0.973783</td>\n",
              "    </tr>\n",
              "  </tbody>\n",
              "</table>\n",
              "</div>\n",
              "    <div class=\"colab-df-buttons\">\n",
              "\n",
              "  <div class=\"colab-df-container\">\n",
              "    <button class=\"colab-df-convert\" onclick=\"convertToInteractive('df-2733000a-47de-46f4-a208-9aebc71cd9fc')\"\n",
              "            title=\"Convert this dataframe to an interactive table.\"\n",
              "            style=\"display:none;\">\n",
              "\n",
              "  <svg xmlns=\"http://www.w3.org/2000/svg\" height=\"24px\" viewBox=\"0 -960 960 960\">\n",
              "    <path d=\"M120-120v-720h720v720H120Zm60-500h600v-160H180v160Zm220 220h160v-160H400v160Zm0 220h160v-160H400v160ZM180-400h160v-160H180v160Zm440 0h160v-160H620v160ZM180-180h160v-160H180v160Zm440 0h160v-160H620v160Z\"/>\n",
              "  </svg>\n",
              "    </button>\n",
              "\n",
              "  <style>\n",
              "    .colab-df-container {\n",
              "      display:flex;\n",
              "      gap: 12px;\n",
              "    }\n",
              "\n",
              "    .colab-df-convert {\n",
              "      background-color: #E8F0FE;\n",
              "      border: none;\n",
              "      border-radius: 50%;\n",
              "      cursor: pointer;\n",
              "      display: none;\n",
              "      fill: #1967D2;\n",
              "      height: 32px;\n",
              "      padding: 0 0 0 0;\n",
              "      width: 32px;\n",
              "    }\n",
              "\n",
              "    .colab-df-convert:hover {\n",
              "      background-color: #E2EBFA;\n",
              "      box-shadow: 0px 1px 2px rgba(60, 64, 67, 0.3), 0px 1px 3px 1px rgba(60, 64, 67, 0.15);\n",
              "      fill: #174EA6;\n",
              "    }\n",
              "\n",
              "    .colab-df-buttons div {\n",
              "      margin-bottom: 4px;\n",
              "    }\n",
              "\n",
              "    [theme=dark] .colab-df-convert {\n",
              "      background-color: #3B4455;\n",
              "      fill: #D2E3FC;\n",
              "    }\n",
              "\n",
              "    [theme=dark] .colab-df-convert:hover {\n",
              "      background-color: #434B5C;\n",
              "      box-shadow: 0px 1px 3px 1px rgba(0, 0, 0, 0.15);\n",
              "      filter: drop-shadow(0px 1px 2px rgba(0, 0, 0, 0.3));\n",
              "      fill: #FFFFFF;\n",
              "    }\n",
              "  </style>\n",
              "\n",
              "    <script>\n",
              "      const buttonEl =\n",
              "        document.querySelector('#df-2733000a-47de-46f4-a208-9aebc71cd9fc button.colab-df-convert');\n",
              "      buttonEl.style.display =\n",
              "        google.colab.kernel.accessAllowed ? 'block' : 'none';\n",
              "\n",
              "      async function convertToInteractive(key) {\n",
              "        const element = document.querySelector('#df-2733000a-47de-46f4-a208-9aebc71cd9fc');\n",
              "        const dataTable =\n",
              "          await google.colab.kernel.invokeFunction('convertToInteractive',\n",
              "                                                    [key], {});\n",
              "        if (!dataTable) return;\n",
              "\n",
              "        const docLinkHtml = 'Like what you see? Visit the ' +\n",
              "          '<a target=\"_blank\" href=https://colab.research.google.com/notebooks/data_table.ipynb>data table notebook</a>'\n",
              "          + ' to learn more about interactive tables.';\n",
              "        element.innerHTML = '';\n",
              "        dataTable['output_type'] = 'display_data';\n",
              "        await google.colab.output.renderOutput(dataTable, element);\n",
              "        const docLink = document.createElement('div');\n",
              "        docLink.innerHTML = docLinkHtml;\n",
              "        element.appendChild(docLink);\n",
              "      }\n",
              "    </script>\n",
              "  </div>\n",
              "\n",
              "\n",
              "    </div>\n",
              "  </div>\n"
            ]
          },
          "metadata": {},
          "execution_count": 30
        }
      ],
      "source": [
        "group_train.get_group('road10.png')"
      ],
      "id": "3e9c7491"
    },
    {
      "cell_type": "code",
      "execution_count": 31,
      "metadata": {
        "id": "0658fb5b"
      },
      "outputs": [],
      "source": [
        "def save_data(image_name,folder_path,group_obj):\n",
        "    try:\n",
        "        src=os.path.join('/content/drive/MyDrive/drive_folder/Object_detection_dataset/images',image_name)\n",
        "        dest=os.path.join(folder_path,'images',image_name)\n",
        "        copy(src,dest)\n",
        "\n",
        "        text_filename=os.path.join(folder_path,'labels',os.path.splitext(image_name)[0]+'.txt')\n",
        "        group_obj.get_group(image_name).set_index('image_name').to_csv(text_filename,sep=' ',index=False,header=False)\n",
        "\n",
        "    except Exception as e:\n",
        "        print('filename',image_name)\n",
        "        print('e',e)"
      ],
      "id": "0658fb5b"
    },
    {
      "cell_type": "code",
      "execution_count": 32,
      "metadata": {
        "id": "2a986468"
      },
      "outputs": [],
      "source": [
        "train_filename_series=pd.Series(group_train.groups.keys())\n",
        "test_filename_series=pd.Series(group_test.groups.keys())"
      ],
      "id": "2a986468"
    },
    {
      "cell_type": "code",
      "execution_count": 33,
      "metadata": {
        "colab": {
          "base_uri": "https://localhost:8080/"
        },
        "id": "66f4d513",
        "outputId": "238d6d85-9eb7-43d1-9ddc-4162435658c1"
      },
      "outputs": [
        {
          "output_type": "execute_result",
          "data": {
            "text/plain": [
              "0      None\n",
              "1      None\n",
              "2      None\n",
              "3      None\n",
              "4      None\n",
              "       ... \n",
              "697    None\n",
              "698    None\n",
              "699    None\n",
              "700    None\n",
              "701    None\n",
              "Length: 702, dtype: object"
            ]
          },
          "metadata": {},
          "execution_count": 33
        }
      ],
      "source": [
        "train_filename_series.apply(save_data,args=(train_folder,group_train))"
      ],
      "id": "66f4d513"
    },
    {
      "cell_type": "code",
      "execution_count": 34,
      "metadata": {
        "colab": {
          "base_uri": "https://localhost:8080/"
        },
        "id": "3692d2b0",
        "outputId": "7f401636-61b1-497a-fae4-efcd24d10e76"
      },
      "outputs": [
        {
          "output_type": "execute_result",
          "data": {
            "text/plain": [
              "0      None\n",
              "1      None\n",
              "2      None\n",
              "3      None\n",
              "4      None\n",
              "       ... \n",
              "170    None\n",
              "171    None\n",
              "172    None\n",
              "173    None\n",
              "174    None\n",
              "Length: 175, dtype: object"
            ]
          },
          "metadata": {},
          "execution_count": 34
        }
      ],
      "source": [
        "test_filename_series.apply(save_data,args=(test_folder,group_test))"
      ],
      "id": "3692d2b0"
    },
    {
      "cell_type": "code",
      "execution_count": 35,
      "metadata": {
        "id": "5416f841"
      },
      "outputs": [],
      "source": [
        "def remove_spaces(d):\n",
        "    files=os.listdir(d)\n",
        "\n",
        "    for file_name in files:\n",
        "        if file_name.endswith('.txt') and ' ' in file_name:\n",
        "            new_file_name=file_name.replace(' ','')\n",
        "            old_path=os.path.join(d,file_name)\n",
        "            new_path=os.path.join(d,new_file_name)\n",
        "\n",
        "            os.rename(old_path,new_path)\n",
        "            print(old_path,'-->',new_path)"
      ],
      "id": "5416f841"
    },
    {
      "cell_type": "code",
      "execution_count": 36,
      "metadata": {
        "id": "1b933811"
      },
      "outputs": [],
      "source": [
        "remove_spaces('/content/drive/MyDrive/drive_folder/images_labels_yolo/train/labels')"
      ],
      "id": "1b933811"
    },
    {
      "cell_type": "code",
      "execution_count": 37,
      "metadata": {
        "id": "74d84710"
      },
      "outputs": [],
      "source": [
        "remove_spaces('/content/drive/MyDrive/drive_folder/images_labels_yolo/test/labels')"
      ],
      "id": "74d84710"
    },
    {
      "cell_type": "code",
      "execution_count": 38,
      "metadata": {
        "colab": {
          "base_uri": "https://localhost:8080/"
        },
        "id": "nzhSFBRBKCFq",
        "outputId": "834217d1-70ca-4fb8-ca0c-7f40a7c64509"
      },
      "outputs": [
        {
          "output_type": "stream",
          "name": "stdout",
          "text": [
            "Collecting ultralytics\n",
            "  Downloading ultralytics-8.1.9-py3-none-any.whl (709 kB)\n",
            "\u001b[2K     \u001b[90m━━━━━━━━━━━━━━━━━━━━━━━━━━━━━━━━━━━━━━━━\u001b[0m \u001b[32m709.3/709.3 kB\u001b[0m \u001b[31m6.2 MB/s\u001b[0m eta \u001b[36m0:00:00\u001b[0m\n",
            "\u001b[?25hRequirement already satisfied: matplotlib>=3.3.0 in /usr/local/lib/python3.10/dist-packages (from ultralytics) (3.7.1)\n",
            "Requirement already satisfied: numpy>=1.22.2 in /usr/local/lib/python3.10/dist-packages (from ultralytics) (1.23.5)\n",
            "Requirement already satisfied: opencv-python>=4.6.0 in /usr/local/lib/python3.10/dist-packages (from ultralytics) (4.8.0.76)\n",
            "Requirement already satisfied: pillow>=7.1.2 in /usr/local/lib/python3.10/dist-packages (from ultralytics) (9.4.0)\n",
            "Requirement already satisfied: pyyaml>=5.3.1 in /usr/local/lib/python3.10/dist-packages (from ultralytics) (6.0.1)\n",
            "Requirement already satisfied: requests>=2.23.0 in /usr/local/lib/python3.10/dist-packages (from ultralytics) (2.31.0)\n",
            "Requirement already satisfied: scipy>=1.4.1 in /usr/local/lib/python3.10/dist-packages (from ultralytics) (1.11.4)\n",
            "Requirement already satisfied: torch>=1.8.0 in /usr/local/lib/python3.10/dist-packages (from ultralytics) (2.1.0+cu121)\n",
            "Requirement already satisfied: torchvision>=0.9.0 in /usr/local/lib/python3.10/dist-packages (from ultralytics) (0.16.0+cu121)\n",
            "Requirement already satisfied: tqdm>=4.64.0 in /usr/local/lib/python3.10/dist-packages (from ultralytics) (4.66.1)\n",
            "Requirement already satisfied: psutil in /usr/local/lib/python3.10/dist-packages (from ultralytics) (5.9.5)\n",
            "Requirement already satisfied: py-cpuinfo in /usr/local/lib/python3.10/dist-packages (from ultralytics) (9.0.0)\n",
            "Collecting thop>=0.1.1 (from ultralytics)\n",
            "  Downloading thop-0.1.1.post2209072238-py3-none-any.whl (15 kB)\n",
            "Requirement already satisfied: pandas>=1.1.4 in /usr/local/lib/python3.10/dist-packages (from ultralytics) (1.5.3)\n",
            "Requirement already satisfied: seaborn>=0.11.0 in /usr/local/lib/python3.10/dist-packages (from ultralytics) (0.13.1)\n",
            "Requirement already satisfied: contourpy>=1.0.1 in /usr/local/lib/python3.10/dist-packages (from matplotlib>=3.3.0->ultralytics) (1.2.0)\n",
            "Requirement already satisfied: cycler>=0.10 in /usr/local/lib/python3.10/dist-packages (from matplotlib>=3.3.0->ultralytics) (0.12.1)\n",
            "Requirement already satisfied: fonttools>=4.22.0 in /usr/local/lib/python3.10/dist-packages (from matplotlib>=3.3.0->ultralytics) (4.47.2)\n",
            "Requirement already satisfied: kiwisolver>=1.0.1 in /usr/local/lib/python3.10/dist-packages (from matplotlib>=3.3.0->ultralytics) (1.4.5)\n",
            "Requirement already satisfied: packaging>=20.0 in /usr/local/lib/python3.10/dist-packages (from matplotlib>=3.3.0->ultralytics) (23.2)\n",
            "Requirement already satisfied: pyparsing>=2.3.1 in /usr/local/lib/python3.10/dist-packages (from matplotlib>=3.3.0->ultralytics) (3.1.1)\n",
            "Requirement already satisfied: python-dateutil>=2.7 in /usr/local/lib/python3.10/dist-packages (from matplotlib>=3.3.0->ultralytics) (2.8.2)\n",
            "Requirement already satisfied: pytz>=2020.1 in /usr/local/lib/python3.10/dist-packages (from pandas>=1.1.4->ultralytics) (2023.4)\n",
            "Requirement already satisfied: charset-normalizer<4,>=2 in /usr/local/lib/python3.10/dist-packages (from requests>=2.23.0->ultralytics) (3.3.2)\n",
            "Requirement already satisfied: idna<4,>=2.5 in /usr/local/lib/python3.10/dist-packages (from requests>=2.23.0->ultralytics) (3.6)\n",
            "Requirement already satisfied: urllib3<3,>=1.21.1 in /usr/local/lib/python3.10/dist-packages (from requests>=2.23.0->ultralytics) (2.0.7)\n",
            "Requirement already satisfied: certifi>=2017.4.17 in /usr/local/lib/python3.10/dist-packages (from requests>=2.23.0->ultralytics) (2023.11.17)\n",
            "Requirement already satisfied: filelock in /usr/local/lib/python3.10/dist-packages (from torch>=1.8.0->ultralytics) (3.13.1)\n",
            "Requirement already satisfied: typing-extensions in /usr/local/lib/python3.10/dist-packages (from torch>=1.8.0->ultralytics) (4.5.0)\n",
            "Requirement already satisfied: sympy in /usr/local/lib/python3.10/dist-packages (from torch>=1.8.0->ultralytics) (1.12)\n",
            "Requirement already satisfied: networkx in /usr/local/lib/python3.10/dist-packages (from torch>=1.8.0->ultralytics) (3.2.1)\n",
            "Requirement already satisfied: jinja2 in /usr/local/lib/python3.10/dist-packages (from torch>=1.8.0->ultralytics) (3.1.3)\n",
            "Requirement already satisfied: fsspec in /usr/local/lib/python3.10/dist-packages (from torch>=1.8.0->ultralytics) (2023.6.0)\n",
            "Requirement already satisfied: triton==2.1.0 in /usr/local/lib/python3.10/dist-packages (from torch>=1.8.0->ultralytics) (2.1.0)\n",
            "Requirement already satisfied: six>=1.5 in /usr/local/lib/python3.10/dist-packages (from python-dateutil>=2.7->matplotlib>=3.3.0->ultralytics) (1.16.0)\n",
            "Requirement already satisfied: MarkupSafe>=2.0 in /usr/local/lib/python3.10/dist-packages (from jinja2->torch>=1.8.0->ultralytics) (2.1.4)\n",
            "Requirement already satisfied: mpmath>=0.19 in /usr/local/lib/python3.10/dist-packages (from sympy->torch>=1.8.0->ultralytics) (1.3.0)\n",
            "Installing collected packages: thop, ultralytics\n",
            "Successfully installed thop-0.1.1.post2209072238 ultralytics-8.1.9\n"
          ]
        }
      ],
      "source": [
        "!pip install ultralytics"
      ],
      "id": "nzhSFBRBKCFq"
    },
    {
      "cell_type": "code",
      "execution_count": 39,
      "metadata": {
        "id": "3ca540ca",
        "colab": {
          "base_uri": "https://localhost:8080/"
        },
        "outputId": "a6b00ea5-d917-475b-b204-69cc168dc80e"
      },
      "outputs": [
        {
          "output_type": "stream",
          "name": "stdout",
          "text": [
            "Downloading https://github.com/ultralytics/assets/releases/download/v8.1.0/yolov8n.pt to 'yolov8n.pt'...\n"
          ]
        },
        {
          "output_type": "stream",
          "name": "stderr",
          "text": [
            "100%|██████████| 6.23M/6.23M [00:00<00:00, 53.1MB/s]\n"
          ]
        }
      ],
      "source": [
        "from ultralytics import YOLO\n",
        "import yaml\n",
        "\n",
        "model=YOLO('yolov8n.pt')"
      ],
      "id": "3ca540ca"
    },
    {
      "cell_type": "code",
      "execution_count": 40,
      "metadata": {
        "id": "b5d5876c"
      },
      "outputs": [],
      "source": [
        "data={\n",
        "    'train':'/content/drive/MyDrive/drive_folder/images_labels_yolo/train',\n",
        "    'val':'/content/drive/MyDrive/drive_folder/images_labels_yolo/test',\n",
        "    'nc':4,\n",
        "    'names':[0, 1, 2, 3]\n",
        "}\n",
        "\n",
        "with open('/content/drive/MyDrive/drive_folder/data.yaml','w') as file:\n",
        "    yaml.dump(data,file)"
      ],
      "id": "b5d5876c"
    },
    {
      "cell_type": "code",
      "execution_count": null,
      "metadata": {
        "colab": {
          "background_save": true
        },
        "id": "efd8c182"
      },
      "outputs": [],
      "source": [
        "# with open('data.yaml','r') as file:\n",
        "#     data=yaml.safe_load(file)"
      ],
      "id": "efd8c182"
    },
    {
      "cell_type": "code",
      "execution_count": 41,
      "metadata": {
        "id": "657354dc",
        "colab": {
          "base_uri": "https://localhost:8080/"
        },
        "outputId": "37d971af-e573-455b-af5a-9ceb9b026c1c"
      },
      "outputs": [
        {
          "output_type": "stream",
          "name": "stdout",
          "text": [
            "Ultralytics YOLOv8.1.9 🚀 Python-3.10.12 torch-2.1.0+cu121 CUDA:0 (Tesla T4, 15102MiB)\n",
            "\u001b[34m\u001b[1mengine/trainer: \u001b[0mtask=detect, mode=train, model=yolov8n.pt, data=/content/drive/MyDrive/drive_folder/data.yaml, epochs=100, time=None, patience=50, batch=16, imgsz=640, save=True, save_period=-1, cache=False, device=None, workers=8, project=None, name=train, exist_ok=False, pretrained=True, optimizer=auto, verbose=True, seed=0, deterministic=True, single_cls=False, rect=False, cos_lr=False, close_mosaic=10, resume=False, amp=True, fraction=1.0, profile=False, freeze=None, multi_scale=False, overlap_mask=True, mask_ratio=4, dropout=0.0, val=True, split=val, save_json=False, save_hybrid=False, conf=None, iou=0.7, max_det=300, half=False, dnn=False, plots=True, source=None, vid_stride=1, stream_buffer=False, visualize=False, augment=False, agnostic_nms=False, classes=None, retina_masks=False, embed=None, show=False, save_frames=False, save_txt=False, save_conf=False, save_crop=False, show_labels=True, show_conf=True, show_boxes=True, line_width=None, format=torchscript, keras=False, optimize=False, int8=False, dynamic=False, simplify=False, opset=None, workspace=4, nms=False, lr0=0.01, lrf=0.01, momentum=0.937, weight_decay=0.0005, warmup_epochs=3.0, warmup_momentum=0.8, warmup_bias_lr=0.1, box=7.5, cls=0.5, dfl=1.5, pose=12.0, kobj=1.0, label_smoothing=0.0, nbs=64, hsv_h=0.015, hsv_s=0.7, hsv_v=0.4, degrees=0.0, translate=0.1, scale=0.5, shear=0.0, perspective=0.0, flipud=0.0, fliplr=0.5, mosaic=1.0, mixup=0.0, copy_paste=0.0, auto_augment=randaugment, erasing=0.4, crop_fraction=1.0, cfg=None, tracker=botsort.yaml, save_dir=runs/detect/train\n",
            "Downloading https://ultralytics.com/assets/Arial.ttf to '/root/.config/Ultralytics/Arial.ttf'...\n"
          ]
        },
        {
          "output_type": "stream",
          "name": "stderr",
          "text": [
            "100%|██████████| 755k/755k [00:00<00:00, 18.0MB/s]\n"
          ]
        },
        {
          "output_type": "stream",
          "name": "stdout",
          "text": [
            "Overriding model.yaml nc=80 with nc=4\n",
            "\n",
            "                   from  n    params  module                                       arguments                     \n",
            "  0                  -1  1       464  ultralytics.nn.modules.conv.Conv             [3, 16, 3, 2]                 \n",
            "  1                  -1  1      4672  ultralytics.nn.modules.conv.Conv             [16, 32, 3, 2]                \n",
            "  2                  -1  1      7360  ultralytics.nn.modules.block.C2f             [32, 32, 1, True]             \n",
            "  3                  -1  1     18560  ultralytics.nn.modules.conv.Conv             [32, 64, 3, 2]                \n",
            "  4                  -1  2     49664  ultralytics.nn.modules.block.C2f             [64, 64, 2, True]             \n",
            "  5                  -1  1     73984  ultralytics.nn.modules.conv.Conv             [64, 128, 3, 2]               \n",
            "  6                  -1  2    197632  ultralytics.nn.modules.block.C2f             [128, 128, 2, True]           \n",
            "  7                  -1  1    295424  ultralytics.nn.modules.conv.Conv             [128, 256, 3, 2]              \n",
            "  8                  -1  1    460288  ultralytics.nn.modules.block.C2f             [256, 256, 1, True]           \n",
            "  9                  -1  1    164608  ultralytics.nn.modules.block.SPPF            [256, 256, 5]                 \n",
            " 10                  -1  1         0  torch.nn.modules.upsampling.Upsample         [None, 2, 'nearest']          \n",
            " 11             [-1, 6]  1         0  ultralytics.nn.modules.conv.Concat           [1]                           \n",
            " 12                  -1  1    148224  ultralytics.nn.modules.block.C2f             [384, 128, 1]                 \n",
            " 13                  -1  1         0  torch.nn.modules.upsampling.Upsample         [None, 2, 'nearest']          \n",
            " 14             [-1, 4]  1         0  ultralytics.nn.modules.conv.Concat           [1]                           \n",
            " 15                  -1  1     37248  ultralytics.nn.modules.block.C2f             [192, 64, 1]                  \n",
            " 16                  -1  1     36992  ultralytics.nn.modules.conv.Conv             [64, 64, 3, 2]                \n",
            " 17            [-1, 12]  1         0  ultralytics.nn.modules.conv.Concat           [1]                           \n",
            " 18                  -1  1    123648  ultralytics.nn.modules.block.C2f             [192, 128, 1]                 \n",
            " 19                  -1  1    147712  ultralytics.nn.modules.conv.Conv             [128, 128, 3, 2]              \n",
            " 20             [-1, 9]  1         0  ultralytics.nn.modules.conv.Concat           [1]                           \n",
            " 21                  -1  1    493056  ultralytics.nn.modules.block.C2f             [384, 256, 1]                 \n",
            " 22        [15, 18, 21]  1    752092  ultralytics.nn.modules.head.Detect           [4, [64, 128, 256]]           \n",
            "Model summary: 225 layers, 3011628 parameters, 3011612 gradients, 8.2 GFLOPs\n",
            "\n",
            "Transferred 319/355 items from pretrained weights\n",
            "\u001b[34m\u001b[1mTensorBoard: \u001b[0mStart with 'tensorboard --logdir runs/detect/train', view at http://localhost:6006/\n",
            "Freezing layer 'model.22.dfl.conv.weight'\n",
            "\u001b[34m\u001b[1mAMP: \u001b[0mrunning Automatic Mixed Precision (AMP) checks with YOLOv8n...\n",
            "\u001b[34m\u001b[1mAMP: \u001b[0mchecks passed ✅\n"
          ]
        },
        {
          "output_type": "stream",
          "name": "stderr",
          "text": [
            "\u001b[34m\u001b[1mtrain: \u001b[0mScanning /content/drive/MyDrive/drive_folder/images_labels_yolo/train/labels... 702 images, 0 backgrounds, 0 corrupt: 100%|██████████| 702/702 [00:08<00:00, 80.17it/s] \n"
          ]
        },
        {
          "output_type": "stream",
          "name": "stdout",
          "text": [
            "\u001b[34m\u001b[1mtrain: \u001b[0mNew cache created: /content/drive/MyDrive/drive_folder/images_labels_yolo/train/labels.cache\n",
            "\u001b[34m\u001b[1malbumentations: \u001b[0mBlur(p=0.01, blur_limit=(3, 7)), MedianBlur(p=0.01, blur_limit=(3, 7)), ToGray(p=0.01), CLAHE(p=0.01, clip_limit=(1, 4.0), tile_grid_size=(8, 8))\n"
          ]
        },
        {
          "output_type": "stream",
          "name": "stderr",
          "text": [
            "\u001b[34m\u001b[1mval: \u001b[0mScanning /content/drive/MyDrive/drive_folder/images_labels_yolo/test/labels... 175 images, 0 backgrounds, 0 corrupt: 100%|██████████| 175/175 [00:02<00:00, 62.94it/s]\n"
          ]
        },
        {
          "output_type": "stream",
          "name": "stdout",
          "text": [
            "\u001b[34m\u001b[1mval: \u001b[0mNew cache created: /content/drive/MyDrive/drive_folder/images_labels_yolo/test/labels.cache\n",
            "Plotting labels to runs/detect/train/labels.jpg... \n",
            "\u001b[34m\u001b[1moptimizer:\u001b[0m 'optimizer=auto' found, ignoring 'lr0=0.01' and 'momentum=0.937' and determining best 'optimizer', 'lr0' and 'momentum' automatically... \n",
            "\u001b[34m\u001b[1moptimizer:\u001b[0m AdamW(lr=0.00125, momentum=0.9) with parameter groups 57 weight(decay=0.0), 64 weight(decay=0.0005), 63 bias(decay=0.0)\n",
            "\u001b[34m\u001b[1mTensorBoard: \u001b[0mmodel graph visualization added ✅\n",
            "Image sizes 640 train, 640 val\n",
            "Using 2 dataloader workers\n",
            "Logging results to \u001b[1mruns/detect/train\u001b[0m\n",
            "Starting training for 100 epochs...\n",
            "\n",
            "      Epoch    GPU_mem   box_loss   cls_loss   dfl_loss  Instances       Size\n"
          ]
        },
        {
          "output_type": "stream",
          "name": "stderr",
          "text": [
            "      1/100      2.39G     0.7311      2.762     0.9529         37        640: 100%|██████████| 44/44 [00:27<00:00,  1.63it/s]\n",
            "                 Class     Images  Instances      Box(P          R      mAP50  mAP50-95): 100%|██████████| 6/6 [00:04<00:00,  1.44it/s]"
          ]
        },
        {
          "output_type": "stream",
          "name": "stdout",
          "text": [
            "                   all        175        175      0.944      0.107      0.539      0.433\n"
          ]
        },
        {
          "output_type": "stream",
          "name": "stderr",
          "text": [
            "\n"
          ]
        },
        {
          "output_type": "stream",
          "name": "stdout",
          "text": [
            "\n",
            "      Epoch    GPU_mem   box_loss   cls_loss   dfl_loss  Instances       Size\n"
          ]
        },
        {
          "output_type": "stream",
          "name": "stderr",
          "text": [
            "      2/100      2.25G     0.7405      1.657     0.9331         23        640: 100%|██████████| 44/44 [00:23<00:00,  1.88it/s]\n",
            "                 Class     Images  Instances      Box(P          R      mAP50  mAP50-95): 100%|██████████| 6/6 [00:02<00:00,  2.07it/s]"
          ]
        },
        {
          "output_type": "stream",
          "name": "stdout",
          "text": [
            "                   all        175        175      0.475      0.476      0.558      0.455\n"
          ]
        },
        {
          "output_type": "stream",
          "name": "stderr",
          "text": [
            "\n"
          ]
        },
        {
          "output_type": "stream",
          "name": "stdout",
          "text": [
            "\n",
            "      Epoch    GPU_mem   box_loss   cls_loss   dfl_loss  Instances       Size\n"
          ]
        },
        {
          "output_type": "stream",
          "name": "stderr",
          "text": [
            "      3/100      2.26G      0.769      1.615     0.9495         26        640: 100%|██████████| 44/44 [00:22<00:00,  1.96it/s]\n",
            "                 Class     Images  Instances      Box(P          R      mAP50  mAP50-95): 100%|██████████| 6/6 [00:04<00:00,  1.49it/s]"
          ]
        },
        {
          "output_type": "stream",
          "name": "stdout",
          "text": [
            "                   all        175        175      0.678      0.486      0.518      0.376\n"
          ]
        },
        {
          "output_type": "stream",
          "name": "stderr",
          "text": [
            "\n"
          ]
        },
        {
          "output_type": "stream",
          "name": "stdout",
          "text": [
            "\n",
            "      Epoch    GPU_mem   box_loss   cls_loss   dfl_loss  Instances       Size\n"
          ]
        },
        {
          "output_type": "stream",
          "name": "stderr",
          "text": [
            "      4/100      2.25G     0.7313      1.393     0.9438         19        640: 100%|██████████| 44/44 [00:21<00:00,  2.07it/s]\n",
            "                 Class     Images  Instances      Box(P          R      mAP50  mAP50-95): 100%|██████████| 6/6 [00:04<00:00,  1.46it/s]"
          ]
        },
        {
          "output_type": "stream",
          "name": "stdout",
          "text": [
            "                   all        175        175      0.515      0.561      0.552      0.442\n"
          ]
        },
        {
          "output_type": "stream",
          "name": "stderr",
          "text": [
            "\n"
          ]
        },
        {
          "output_type": "stream",
          "name": "stdout",
          "text": [
            "\n",
            "      Epoch    GPU_mem   box_loss   cls_loss   dfl_loss  Instances       Size\n"
          ]
        },
        {
          "output_type": "stream",
          "name": "stderr",
          "text": [
            "      5/100      2.25G     0.7097      1.256     0.9436         21        640: 100%|██████████| 44/44 [00:21<00:00,  2.06it/s]\n",
            "                 Class     Images  Instances      Box(P          R      mAP50  mAP50-95): 100%|██████████| 6/6 [00:02<00:00,  2.16it/s]"
          ]
        },
        {
          "output_type": "stream",
          "name": "stdout",
          "text": [
            "                   all        175        175      0.774      0.537      0.575       0.45\n"
          ]
        },
        {
          "output_type": "stream",
          "name": "stderr",
          "text": [
            "\n"
          ]
        },
        {
          "output_type": "stream",
          "name": "stdout",
          "text": [
            "\n",
            "      Epoch    GPU_mem   box_loss   cls_loss   dfl_loss  Instances       Size\n"
          ]
        },
        {
          "output_type": "stream",
          "name": "stderr",
          "text": [
            "      6/100      2.25G     0.6785      1.123     0.9313         22        640: 100%|██████████| 44/44 [00:22<00:00,  1.93it/s]\n",
            "                 Class     Images  Instances      Box(P          R      mAP50  mAP50-95): 100%|██████████| 6/6 [00:02<00:00,  2.34it/s]"
          ]
        },
        {
          "output_type": "stream",
          "name": "stdout",
          "text": [
            "                   all        175        175      0.733      0.754      0.763      0.593\n"
          ]
        },
        {
          "output_type": "stream",
          "name": "stderr",
          "text": [
            "\n"
          ]
        },
        {
          "output_type": "stream",
          "name": "stdout",
          "text": [
            "\n",
            "      Epoch    GPU_mem   box_loss   cls_loss   dfl_loss  Instances       Size\n"
          ]
        },
        {
          "output_type": "stream",
          "name": "stderr",
          "text": [
            "      7/100      2.25G     0.6828      1.019     0.9331         28        640: 100%|██████████| 44/44 [00:24<00:00,  1.79it/s]\n",
            "                 Class     Images  Instances      Box(P          R      mAP50  mAP50-95): 100%|██████████| 6/6 [00:02<00:00,  2.36it/s]"
          ]
        },
        {
          "output_type": "stream",
          "name": "stdout",
          "text": [
            "                   all        175        175       0.69      0.599      0.599      0.496\n"
          ]
        },
        {
          "output_type": "stream",
          "name": "stderr",
          "text": [
            "\n"
          ]
        },
        {
          "output_type": "stream",
          "name": "stdout",
          "text": [
            "\n",
            "      Epoch    GPU_mem   box_loss   cls_loss   dfl_loss  Instances       Size\n"
          ]
        },
        {
          "output_type": "stream",
          "name": "stderr",
          "text": [
            "      8/100      2.25G     0.6536     0.9513     0.9256         25        640: 100%|██████████| 44/44 [00:23<00:00,  1.89it/s]\n",
            "                 Class     Images  Instances      Box(P          R      mAP50  mAP50-95): 100%|██████████| 6/6 [00:02<00:00,  2.45it/s]"
          ]
        },
        {
          "output_type": "stream",
          "name": "stdout",
          "text": [
            "                   all        175        175      0.662      0.724      0.744      0.588\n"
          ]
        },
        {
          "output_type": "stream",
          "name": "stderr",
          "text": [
            "\n"
          ]
        },
        {
          "output_type": "stream",
          "name": "stdout",
          "text": [
            "\n",
            "      Epoch    GPU_mem   box_loss   cls_loss   dfl_loss  Instances       Size\n"
          ]
        },
        {
          "output_type": "stream",
          "name": "stderr",
          "text": [
            "      9/100      2.25G     0.6724      0.902     0.9228         25        640: 100%|██████████| 44/44 [00:20<00:00,  2.12it/s]\n",
            "                 Class     Images  Instances      Box(P          R      mAP50  mAP50-95): 100%|██████████| 6/6 [00:04<00:00,  1.37it/s]"
          ]
        },
        {
          "output_type": "stream",
          "name": "stdout",
          "text": [
            "                   all        175        175      0.724      0.828       0.78      0.637\n"
          ]
        },
        {
          "output_type": "stream",
          "name": "stderr",
          "text": [
            "\n"
          ]
        },
        {
          "output_type": "stream",
          "name": "stdout",
          "text": [
            "\n",
            "      Epoch    GPU_mem   box_loss   cls_loss   dfl_loss  Instances       Size\n"
          ]
        },
        {
          "output_type": "stream",
          "name": "stderr",
          "text": [
            "     10/100      2.25G     0.6798     0.8538     0.9286         32        640: 100%|██████████| 44/44 [00:21<00:00,  2.08it/s]\n",
            "                 Class     Images  Instances      Box(P          R      mAP50  mAP50-95): 100%|██████████| 6/6 [00:03<00:00,  1.88it/s]"
          ]
        },
        {
          "output_type": "stream",
          "name": "stdout",
          "text": [
            "                   all        175        175       0.73      0.736      0.732      0.597\n"
          ]
        },
        {
          "output_type": "stream",
          "name": "stderr",
          "text": [
            "\n"
          ]
        },
        {
          "output_type": "stream",
          "name": "stdout",
          "text": [
            "\n",
            "      Epoch    GPU_mem   box_loss   cls_loss   dfl_loss  Instances       Size\n"
          ]
        },
        {
          "output_type": "stream",
          "name": "stderr",
          "text": [
            "     11/100      2.25G     0.6402     0.8086     0.9181         35        640: 100%|██████████| 44/44 [00:21<00:00,  2.03it/s]\n",
            "                 Class     Images  Instances      Box(P          R      mAP50  mAP50-95): 100%|██████████| 6/6 [00:02<00:00,  2.34it/s]\n"
          ]
        },
        {
          "output_type": "stream",
          "name": "stdout",
          "text": [
            "                   all        175        175      0.728      0.742      0.759      0.624\n",
            "\n",
            "      Epoch    GPU_mem   box_loss   cls_loss   dfl_loss  Instances       Size\n"
          ]
        },
        {
          "output_type": "stream",
          "name": "stderr",
          "text": [
            "     12/100      2.25G     0.6375      0.733     0.9148         31        640: 100%|██████████| 44/44 [00:23<00:00,  1.90it/s]\n",
            "                 Class     Images  Instances      Box(P          R      mAP50  mAP50-95): 100%|██████████| 6/6 [00:02<00:00,  2.31it/s]"
          ]
        },
        {
          "output_type": "stream",
          "name": "stdout",
          "text": [
            "                   all        175        175      0.804       0.76      0.831      0.659\n"
          ]
        },
        {
          "output_type": "stream",
          "name": "stderr",
          "text": [
            "\n"
          ]
        },
        {
          "output_type": "stream",
          "name": "stdout",
          "text": [
            "\n",
            "      Epoch    GPU_mem   box_loss   cls_loss   dfl_loss  Instances       Size\n"
          ]
        },
        {
          "output_type": "stream",
          "name": "stderr",
          "text": [
            "     13/100      2.25G     0.6213     0.7143      0.901         31        640: 100%|██████████| 44/44 [00:22<00:00,  1.92it/s]\n",
            "                 Class     Images  Instances      Box(P          R      mAP50  mAP50-95): 100%|██████████| 6/6 [00:02<00:00,  2.05it/s]"
          ]
        },
        {
          "output_type": "stream",
          "name": "stdout",
          "text": [
            "                   all        175        175       0.65      0.791      0.721      0.604\n"
          ]
        },
        {
          "output_type": "stream",
          "name": "stderr",
          "text": [
            "\n"
          ]
        },
        {
          "output_type": "stream",
          "name": "stdout",
          "text": [
            "\n",
            "      Epoch    GPU_mem   box_loss   cls_loss   dfl_loss  Instances       Size\n"
          ]
        },
        {
          "output_type": "stream",
          "name": "stderr",
          "text": [
            "     14/100      2.25G      0.611     0.7181     0.9192         21        640: 100%|██████████| 44/44 [00:21<00:00,  2.02it/s]\n",
            "                 Class     Images  Instances      Box(P          R      mAP50  mAP50-95): 100%|██████████| 6/6 [00:03<00:00,  1.63it/s]"
          ]
        },
        {
          "output_type": "stream",
          "name": "stdout",
          "text": [
            "                   all        175        175      0.832      0.719      0.815      0.636\n"
          ]
        },
        {
          "output_type": "stream",
          "name": "stderr",
          "text": [
            "\n"
          ]
        },
        {
          "output_type": "stream",
          "name": "stdout",
          "text": [
            "\n",
            "      Epoch    GPU_mem   box_loss   cls_loss   dfl_loss  Instances       Size\n"
          ]
        },
        {
          "output_type": "stream",
          "name": "stderr",
          "text": [
            "     15/100      2.25G     0.6082     0.6877     0.9093         27        640: 100%|██████████| 44/44 [00:21<00:00,  2.07it/s]\n",
            "                 Class     Images  Instances      Box(P          R      mAP50  mAP50-95): 100%|██████████| 6/6 [00:04<00:00,  1.43it/s]"
          ]
        },
        {
          "output_type": "stream",
          "name": "stdout",
          "text": [
            "                   all        175        175      0.729      0.761      0.732      0.595\n"
          ]
        },
        {
          "output_type": "stream",
          "name": "stderr",
          "text": [
            "\n"
          ]
        },
        {
          "output_type": "stream",
          "name": "stdout",
          "text": [
            "\n",
            "      Epoch    GPU_mem   box_loss   cls_loss   dfl_loss  Instances       Size\n"
          ]
        },
        {
          "output_type": "stream",
          "name": "stderr",
          "text": [
            "     16/100      2.25G     0.5975     0.6757     0.9009         27        640: 100%|██████████| 44/44 [00:21<00:00,  2.03it/s]\n",
            "                 Class     Images  Instances      Box(P          R      mAP50  mAP50-95): 100%|██████████| 6/6 [00:02<00:00,  2.19it/s]"
          ]
        },
        {
          "output_type": "stream",
          "name": "stdout",
          "text": [
            "                   all        175        175      0.747        0.8      0.806      0.659\n"
          ]
        },
        {
          "output_type": "stream",
          "name": "stderr",
          "text": [
            "\n"
          ]
        },
        {
          "output_type": "stream",
          "name": "stdout",
          "text": [
            "\n",
            "      Epoch    GPU_mem   box_loss   cls_loss   dfl_loss  Instances       Size\n"
          ]
        },
        {
          "output_type": "stream",
          "name": "stderr",
          "text": [
            "     17/100      2.25G     0.6099     0.6487     0.9061         21        640: 100%|██████████| 44/44 [00:22<00:00,  1.95it/s]\n",
            "                 Class     Images  Instances      Box(P          R      mAP50  mAP50-95): 100%|██████████| 6/6 [00:02<00:00,  2.17it/s]"
          ]
        },
        {
          "output_type": "stream",
          "name": "stdout",
          "text": [
            "                   all        175        175      0.672      0.812      0.768      0.647\n"
          ]
        },
        {
          "output_type": "stream",
          "name": "stderr",
          "text": [
            "\n"
          ]
        },
        {
          "output_type": "stream",
          "name": "stdout",
          "text": [
            "\n",
            "      Epoch    GPU_mem   box_loss   cls_loss   dfl_loss  Instances       Size\n"
          ]
        },
        {
          "output_type": "stream",
          "name": "stderr",
          "text": [
            "     18/100      2.25G     0.5967      0.656     0.9079         25        640: 100%|██████████| 44/44 [00:23<00:00,  1.91it/s]\n",
            "                 Class     Images  Instances      Box(P          R      mAP50  mAP50-95): 100%|██████████| 6/6 [00:02<00:00,  2.03it/s]\n"
          ]
        },
        {
          "output_type": "stream",
          "name": "stdout",
          "text": [
            "                   all        175        175      0.838      0.752      0.791      0.653\n",
            "\n",
            "      Epoch    GPU_mem   box_loss   cls_loss   dfl_loss  Instances       Size\n"
          ]
        },
        {
          "output_type": "stream",
          "name": "stderr",
          "text": [
            "     19/100      2.25G     0.5915     0.6534     0.9002         28        640: 100%|██████████| 44/44 [00:23<00:00,  1.90it/s]\n",
            "                 Class     Images  Instances      Box(P          R      mAP50  mAP50-95): 100%|██████████| 6/6 [00:02<00:00,  2.77it/s]"
          ]
        },
        {
          "output_type": "stream",
          "name": "stdout",
          "text": [
            "                   all        175        175      0.857      0.722      0.792      0.658\n"
          ]
        },
        {
          "output_type": "stream",
          "name": "stderr",
          "text": [
            "\n"
          ]
        },
        {
          "output_type": "stream",
          "name": "stdout",
          "text": [
            "\n",
            "      Epoch    GPU_mem   box_loss   cls_loss   dfl_loss  Instances       Size\n"
          ]
        },
        {
          "output_type": "stream",
          "name": "stderr",
          "text": [
            "     20/100      2.25G     0.5866     0.6148     0.8884         24        640: 100%|██████████| 44/44 [00:21<00:00,  2.04it/s]\n",
            "                 Class     Images  Instances      Box(P          R      mAP50  mAP50-95): 100%|██████████| 6/6 [00:04<00:00,  1.48it/s]"
          ]
        },
        {
          "output_type": "stream",
          "name": "stdout",
          "text": [
            "                   all        175        175      0.761      0.749      0.817      0.681\n"
          ]
        },
        {
          "output_type": "stream",
          "name": "stderr",
          "text": [
            "\n"
          ]
        },
        {
          "output_type": "stream",
          "name": "stdout",
          "text": [
            "\n",
            "      Epoch    GPU_mem   box_loss   cls_loss   dfl_loss  Instances       Size\n"
          ]
        },
        {
          "output_type": "stream",
          "name": "stderr",
          "text": [
            "     21/100      2.25G     0.5602     0.5788     0.8829         23        640: 100%|██████████| 44/44 [00:20<00:00,  2.10it/s]\n",
            "                 Class     Images  Instances      Box(P          R      mAP50  mAP50-95): 100%|██████████| 6/6 [00:03<00:00,  1.69it/s]"
          ]
        },
        {
          "output_type": "stream",
          "name": "stdout",
          "text": [
            "                   all        175        175      0.736      0.716      0.747      0.629\n"
          ]
        },
        {
          "output_type": "stream",
          "name": "stderr",
          "text": [
            "\n"
          ]
        },
        {
          "output_type": "stream",
          "name": "stdout",
          "text": [
            "\n",
            "      Epoch    GPU_mem   box_loss   cls_loss   dfl_loss  Instances       Size\n"
          ]
        },
        {
          "output_type": "stream",
          "name": "stderr",
          "text": [
            "     22/100      2.25G     0.5879     0.6073     0.9089         27        640: 100%|██████████| 44/44 [00:21<00:00,  2.05it/s]\n",
            "                 Class     Images  Instances      Box(P          R      mAP50  mAP50-95): 100%|██████████| 6/6 [00:02<00:00,  2.10it/s]"
          ]
        },
        {
          "output_type": "stream",
          "name": "stdout",
          "text": [
            "                   all        175        175      0.663      0.757      0.759      0.638\n"
          ]
        },
        {
          "output_type": "stream",
          "name": "stderr",
          "text": [
            "\n"
          ]
        },
        {
          "output_type": "stream",
          "name": "stdout",
          "text": [
            "\n",
            "      Epoch    GPU_mem   box_loss   cls_loss   dfl_loss  Instances       Size\n"
          ]
        },
        {
          "output_type": "stream",
          "name": "stderr",
          "text": [
            "     23/100      2.25G     0.5668     0.5734     0.9036         22        640: 100%|██████████| 44/44 [00:22<00:00,  1.97it/s]\n",
            "                 Class     Images  Instances      Box(P          R      mAP50  mAP50-95): 100%|██████████| 6/6 [00:02<00:00,  2.25it/s]"
          ]
        },
        {
          "output_type": "stream",
          "name": "stdout",
          "text": [
            "                   all        175        175      0.808      0.723      0.779      0.653\n"
          ]
        },
        {
          "output_type": "stream",
          "name": "stderr",
          "text": [
            "\n"
          ]
        },
        {
          "output_type": "stream",
          "name": "stdout",
          "text": [
            "\n",
            "      Epoch    GPU_mem   box_loss   cls_loss   dfl_loss  Instances       Size\n"
          ]
        },
        {
          "output_type": "stream",
          "name": "stderr",
          "text": [
            "     24/100      2.25G     0.5698     0.5717     0.8902         28        640: 100%|██████████| 44/44 [00:22<00:00,  1.93it/s]\n",
            "                 Class     Images  Instances      Box(P          R      mAP50  mAP50-95): 100%|██████████| 6/6 [00:02<00:00,  2.13it/s]"
          ]
        },
        {
          "output_type": "stream",
          "name": "stdout",
          "text": [
            "                   all        175        175      0.695       0.78      0.776      0.637\n"
          ]
        },
        {
          "output_type": "stream",
          "name": "stderr",
          "text": [
            "\n"
          ]
        },
        {
          "output_type": "stream",
          "name": "stdout",
          "text": [
            "\n",
            "      Epoch    GPU_mem   box_loss   cls_loss   dfl_loss  Instances       Size\n"
          ]
        },
        {
          "output_type": "stream",
          "name": "stderr",
          "text": [
            "     25/100      2.25G     0.5853     0.5842     0.9048         20        640: 100%|██████████| 44/44 [00:22<00:00,  1.92it/s]\n",
            "                 Class     Images  Instances      Box(P          R      mAP50  mAP50-95): 100%|██████████| 6/6 [00:02<00:00,  2.52it/s]"
          ]
        },
        {
          "output_type": "stream",
          "name": "stdout",
          "text": [
            "                   all        175        175      0.762       0.84      0.809      0.692\n"
          ]
        },
        {
          "output_type": "stream",
          "name": "stderr",
          "text": [
            "\n"
          ]
        },
        {
          "output_type": "stream",
          "name": "stdout",
          "text": [
            "\n",
            "      Epoch    GPU_mem   box_loss   cls_loss   dfl_loss  Instances       Size\n"
          ]
        },
        {
          "output_type": "stream",
          "name": "stderr",
          "text": [
            "     26/100      2.25G     0.5721     0.5801     0.8959         28        640: 100%|██████████| 44/44 [00:22<00:00,  1.97it/s]\n",
            "                 Class     Images  Instances      Box(P          R      mAP50  mAP50-95): 100%|██████████| 6/6 [00:02<00:00,  2.22it/s]"
          ]
        },
        {
          "output_type": "stream",
          "name": "stdout",
          "text": [
            "                   all        175        175      0.809       0.77      0.805      0.687\n"
          ]
        },
        {
          "output_type": "stream",
          "name": "stderr",
          "text": [
            "\n"
          ]
        },
        {
          "output_type": "stream",
          "name": "stdout",
          "text": [
            "\n",
            "      Epoch    GPU_mem   box_loss   cls_loss   dfl_loss  Instances       Size\n"
          ]
        },
        {
          "output_type": "stream",
          "name": "stderr",
          "text": [
            "     27/100      2.25G     0.5648     0.5593     0.8898         34        640: 100%|██████████| 44/44 [00:21<00:00,  2.06it/s]\n",
            "                 Class     Images  Instances      Box(P          R      mAP50  mAP50-95): 100%|██████████| 6/6 [00:04<00:00,  1.46it/s]"
          ]
        },
        {
          "output_type": "stream",
          "name": "stdout",
          "text": [
            "                   all        175        175       0.79      0.797      0.832      0.687\n"
          ]
        },
        {
          "output_type": "stream",
          "name": "stderr",
          "text": [
            "\n"
          ]
        },
        {
          "output_type": "stream",
          "name": "stdout",
          "text": [
            "\n",
            "      Epoch    GPU_mem   box_loss   cls_loss   dfl_loss  Instances       Size\n"
          ]
        },
        {
          "output_type": "stream",
          "name": "stderr",
          "text": [
            "     28/100      2.25G     0.5654     0.5623     0.8862         26        640: 100%|██████████| 44/44 [00:22<00:00,  1.99it/s]\n",
            "                 Class     Images  Instances      Box(P          R      mAP50  mAP50-95): 100%|██████████| 6/6 [00:04<00:00,  1.34it/s]"
          ]
        },
        {
          "output_type": "stream",
          "name": "stdout",
          "text": [
            "                   all        175        175      0.763        0.8      0.813       0.68\n"
          ]
        },
        {
          "output_type": "stream",
          "name": "stderr",
          "text": [
            "\n"
          ]
        },
        {
          "output_type": "stream",
          "name": "stdout",
          "text": [
            "\n",
            "      Epoch    GPU_mem   box_loss   cls_loss   dfl_loss  Instances       Size\n"
          ]
        },
        {
          "output_type": "stream",
          "name": "stderr",
          "text": [
            "     29/100      2.25G     0.5519     0.5185     0.8849         29        640: 100%|██████████| 44/44 [00:20<00:00,  2.11it/s]\n",
            "                 Class     Images  Instances      Box(P          R      mAP50  mAP50-95): 100%|██████████| 6/6 [00:03<00:00,  1.75it/s]"
          ]
        },
        {
          "output_type": "stream",
          "name": "stdout",
          "text": [
            "                   all        175        175      0.864      0.778      0.845       0.72\n"
          ]
        },
        {
          "output_type": "stream",
          "name": "stderr",
          "text": [
            "\n"
          ]
        },
        {
          "output_type": "stream",
          "name": "stdout",
          "text": [
            "\n",
            "      Epoch    GPU_mem   box_loss   cls_loss   dfl_loss  Instances       Size\n"
          ]
        },
        {
          "output_type": "stream",
          "name": "stderr",
          "text": [
            "     30/100      2.25G     0.5471     0.5026     0.8791         17        640: 100%|██████████| 44/44 [00:20<00:00,  2.12it/s]\n",
            "                 Class     Images  Instances      Box(P          R      mAP50  mAP50-95): 100%|██████████| 6/6 [00:02<00:00,  2.62it/s]"
          ]
        },
        {
          "output_type": "stream",
          "name": "stdout",
          "text": [
            "                   all        175        175      0.715      0.788      0.813      0.692\n"
          ]
        },
        {
          "output_type": "stream",
          "name": "stderr",
          "text": [
            "\n"
          ]
        },
        {
          "output_type": "stream",
          "name": "stdout",
          "text": [
            "\n",
            "      Epoch    GPU_mem   box_loss   cls_loss   dfl_loss  Instances       Size\n"
          ]
        },
        {
          "output_type": "stream",
          "name": "stderr",
          "text": [
            "     31/100      2.25G     0.5484     0.5202     0.8799         22        640: 100%|██████████| 44/44 [00:22<00:00,  1.96it/s]\n",
            "                 Class     Images  Instances      Box(P          R      mAP50  mAP50-95): 100%|██████████| 6/6 [00:02<00:00,  2.37it/s]"
          ]
        },
        {
          "output_type": "stream",
          "name": "stdout",
          "text": [
            "                   all        175        175      0.717      0.778      0.776      0.667\n"
          ]
        },
        {
          "output_type": "stream",
          "name": "stderr",
          "text": [
            "\n"
          ]
        },
        {
          "output_type": "stream",
          "name": "stdout",
          "text": [
            "\n",
            "      Epoch    GPU_mem   box_loss   cls_loss   dfl_loss  Instances       Size\n"
          ]
        },
        {
          "output_type": "stream",
          "name": "stderr",
          "text": [
            "     32/100      2.25G     0.5274     0.4972     0.8729         21        640: 100%|██████████| 44/44 [00:22<00:00,  1.93it/s]\n",
            "                 Class     Images  Instances      Box(P          R      mAP50  mAP50-95): 100%|██████████| 6/6 [00:02<00:00,  2.27it/s]"
          ]
        },
        {
          "output_type": "stream",
          "name": "stdout",
          "text": [
            "                   all        175        175      0.859      0.783      0.852      0.695\n"
          ]
        },
        {
          "output_type": "stream",
          "name": "stderr",
          "text": [
            "\n"
          ]
        },
        {
          "output_type": "stream",
          "name": "stdout",
          "text": [
            "\n",
            "      Epoch    GPU_mem   box_loss   cls_loss   dfl_loss  Instances       Size\n"
          ]
        },
        {
          "output_type": "stream",
          "name": "stderr",
          "text": [
            "     33/100      2.25G     0.5455     0.5072     0.8807         25        640: 100%|██████████| 44/44 [00:22<00:00,  1.94it/s]\n",
            "                 Class     Images  Instances      Box(P          R      mAP50  mAP50-95): 100%|██████████| 6/6 [00:02<00:00,  2.01it/s]\n"
          ]
        },
        {
          "output_type": "stream",
          "name": "stdout",
          "text": [
            "                   all        175        175      0.708      0.861       0.82      0.691\n",
            "\n",
            "      Epoch    GPU_mem   box_loss   cls_loss   dfl_loss  Instances       Size\n"
          ]
        },
        {
          "output_type": "stream",
          "name": "stderr",
          "text": [
            "     34/100      2.25G     0.5535     0.5409     0.8827         30        640: 100%|██████████| 44/44 [00:21<00:00,  2.04it/s]\n",
            "                 Class     Images  Instances      Box(P          R      mAP50  mAP50-95): 100%|██████████| 6/6 [00:03<00:00,  1.76it/s]"
          ]
        },
        {
          "output_type": "stream",
          "name": "stdout",
          "text": [
            "                   all        175        175      0.789      0.805      0.833      0.728\n"
          ]
        },
        {
          "output_type": "stream",
          "name": "stderr",
          "text": [
            "\n"
          ]
        },
        {
          "output_type": "stream",
          "name": "stdout",
          "text": [
            "\n",
            "      Epoch    GPU_mem   box_loss   cls_loss   dfl_loss  Instances       Size\n"
          ]
        },
        {
          "output_type": "stream",
          "name": "stderr",
          "text": [
            "     35/100      2.25G     0.5249     0.4984     0.8807         24        640: 100%|██████████| 44/44 [00:20<00:00,  2.14it/s]\n",
            "                 Class     Images  Instances      Box(P          R      mAP50  mAP50-95): 100%|██████████| 6/6 [00:04<00:00,  1.45it/s]"
          ]
        },
        {
          "output_type": "stream",
          "name": "stdout",
          "text": [
            "                   all        175        175      0.744      0.861      0.844      0.711\n"
          ]
        },
        {
          "output_type": "stream",
          "name": "stderr",
          "text": [
            "\n"
          ]
        },
        {
          "output_type": "stream",
          "name": "stdout",
          "text": [
            "\n",
            "      Epoch    GPU_mem   box_loss   cls_loss   dfl_loss  Instances       Size\n"
          ]
        },
        {
          "output_type": "stream",
          "name": "stderr",
          "text": [
            "     36/100      2.25G     0.5281     0.4892     0.8706         31        640: 100%|██████████| 44/44 [00:20<00:00,  2.12it/s]\n",
            "                 Class     Images  Instances      Box(P          R      mAP50  mAP50-95): 100%|██████████| 6/6 [00:02<00:00,  2.05it/s]"
          ]
        },
        {
          "output_type": "stream",
          "name": "stdout",
          "text": [
            "                   all        175        175      0.707      0.839      0.821      0.684\n"
          ]
        },
        {
          "output_type": "stream",
          "name": "stderr",
          "text": [
            "\n"
          ]
        },
        {
          "output_type": "stream",
          "name": "stdout",
          "text": [
            "\n",
            "      Epoch    GPU_mem   box_loss   cls_loss   dfl_loss  Instances       Size\n"
          ]
        },
        {
          "output_type": "stream",
          "name": "stderr",
          "text": [
            "     37/100      2.25G     0.5289     0.4897     0.8794         31        640: 100%|██████████| 44/44 [00:22<00:00,  1.98it/s]\n",
            "                 Class     Images  Instances      Box(P          R      mAP50  mAP50-95): 100%|██████████| 6/6 [00:02<00:00,  2.30it/s]"
          ]
        },
        {
          "output_type": "stream",
          "name": "stdout",
          "text": [
            "                   all        175        175      0.723       0.76      0.806      0.681\n"
          ]
        },
        {
          "output_type": "stream",
          "name": "stderr",
          "text": [
            "\n"
          ]
        },
        {
          "output_type": "stream",
          "name": "stdout",
          "text": [
            "\n",
            "      Epoch    GPU_mem   box_loss   cls_loss   dfl_loss  Instances       Size\n"
          ]
        },
        {
          "output_type": "stream",
          "name": "stderr",
          "text": [
            "     38/100      2.25G     0.5262     0.4748      0.872         24        640: 100%|██████████| 44/44 [00:22<00:00,  1.92it/s]\n",
            "                 Class     Images  Instances      Box(P          R      mAP50  mAP50-95): 100%|██████████| 6/6 [00:02<00:00,  2.29it/s]"
          ]
        },
        {
          "output_type": "stream",
          "name": "stdout",
          "text": [
            "                   all        175        175      0.787      0.835      0.846      0.716\n"
          ]
        },
        {
          "output_type": "stream",
          "name": "stderr",
          "text": [
            "\n"
          ]
        },
        {
          "output_type": "stream",
          "name": "stdout",
          "text": [
            "\n",
            "      Epoch    GPU_mem   box_loss   cls_loss   dfl_loss  Instances       Size\n"
          ]
        },
        {
          "output_type": "stream",
          "name": "stderr",
          "text": [
            "     39/100      2.25G     0.5286     0.4755     0.8837         25        640: 100%|██████████| 44/44 [00:22<00:00,  1.92it/s]\n",
            "                 Class     Images  Instances      Box(P          R      mAP50  mAP50-95): 100%|██████████| 6/6 [00:02<00:00,  2.60it/s]"
          ]
        },
        {
          "output_type": "stream",
          "name": "stdout",
          "text": [
            "                   all        175        175      0.787       0.78      0.825      0.705\n"
          ]
        },
        {
          "output_type": "stream",
          "name": "stderr",
          "text": [
            "\n"
          ]
        },
        {
          "output_type": "stream",
          "name": "stdout",
          "text": [
            "\n",
            "      Epoch    GPU_mem   box_loss   cls_loss   dfl_loss  Instances       Size\n"
          ]
        },
        {
          "output_type": "stream",
          "name": "stderr",
          "text": [
            "     40/100      2.25G     0.5209     0.4874      0.875         20        640: 100%|██████████| 44/44 [00:22<00:00,  1.97it/s]\n",
            "                 Class     Images  Instances      Box(P          R      mAP50  mAP50-95): 100%|██████████| 6/6 [00:03<00:00,  1.86it/s]"
          ]
        },
        {
          "output_type": "stream",
          "name": "stdout",
          "text": [
            "                   all        175        175      0.719      0.802      0.797      0.685\n"
          ]
        },
        {
          "output_type": "stream",
          "name": "stderr",
          "text": [
            "\n"
          ]
        },
        {
          "output_type": "stream",
          "name": "stdout",
          "text": [
            "\n",
            "      Epoch    GPU_mem   box_loss   cls_loss   dfl_loss  Instances       Size\n"
          ]
        },
        {
          "output_type": "stream",
          "name": "stderr",
          "text": [
            "     41/100      2.25G     0.5148     0.4733     0.8753         31        640: 100%|██████████| 44/44 [00:20<00:00,  2.12it/s]\n",
            "                 Class     Images  Instances      Box(P          R      mAP50  mAP50-95): 100%|██████████| 6/6 [00:04<00:00,  1.50it/s]"
          ]
        },
        {
          "output_type": "stream",
          "name": "stdout",
          "text": [
            "                   all        175        175      0.781      0.783       0.81      0.695\n"
          ]
        },
        {
          "output_type": "stream",
          "name": "stderr",
          "text": [
            "\n"
          ]
        },
        {
          "output_type": "stream",
          "name": "stdout",
          "text": [
            "\n",
            "      Epoch    GPU_mem   box_loss   cls_loss   dfl_loss  Instances       Size\n"
          ]
        },
        {
          "output_type": "stream",
          "name": "stderr",
          "text": [
            "     42/100      2.25G     0.4993      0.474     0.8656         24        640: 100%|██████████| 44/44 [00:21<00:00,  2.07it/s]\n",
            "                 Class     Images  Instances      Box(P          R      mAP50  mAP50-95): 100%|██████████| 6/6 [00:02<00:00,  2.38it/s]"
          ]
        },
        {
          "output_type": "stream",
          "name": "stdout",
          "text": [
            "                   all        175        175      0.709      0.823      0.818      0.717\n"
          ]
        },
        {
          "output_type": "stream",
          "name": "stderr",
          "text": [
            "\n"
          ]
        },
        {
          "output_type": "stream",
          "name": "stdout",
          "text": [
            "\n",
            "      Epoch    GPU_mem   box_loss   cls_loss   dfl_loss  Instances       Size\n"
          ]
        },
        {
          "output_type": "stream",
          "name": "stderr",
          "text": [
            "     43/100      2.25G     0.5036     0.4415     0.8646         26        640: 100%|██████████| 44/44 [00:21<00:00,  2.01it/s]\n",
            "                 Class     Images  Instances      Box(P          R      mAP50  mAP50-95): 100%|██████████| 6/6 [00:02<00:00,  2.39it/s]"
          ]
        },
        {
          "output_type": "stream",
          "name": "stdout",
          "text": [
            "                   all        175        175      0.774       0.79      0.827      0.723\n"
          ]
        },
        {
          "output_type": "stream",
          "name": "stderr",
          "text": [
            "\n"
          ]
        },
        {
          "output_type": "stream",
          "name": "stdout",
          "text": [
            "\n",
            "      Epoch    GPU_mem   box_loss   cls_loss   dfl_loss  Instances       Size\n"
          ]
        },
        {
          "output_type": "stream",
          "name": "stderr",
          "text": [
            "     44/100      2.25G     0.5039     0.4549     0.8745         28        640: 100%|██████████| 44/44 [00:23<00:00,  1.90it/s]\n",
            "                 Class     Images  Instances      Box(P          R      mAP50  mAP50-95): 100%|██████████| 6/6 [00:02<00:00,  2.24it/s]"
          ]
        },
        {
          "output_type": "stream",
          "name": "stdout",
          "text": [
            "                   all        175        175      0.733      0.855      0.833      0.705\n"
          ]
        },
        {
          "output_type": "stream",
          "name": "stderr",
          "text": [
            "\n"
          ]
        },
        {
          "output_type": "stream",
          "name": "stdout",
          "text": [
            "\n",
            "      Epoch    GPU_mem   box_loss   cls_loss   dfl_loss  Instances       Size\n"
          ]
        },
        {
          "output_type": "stream",
          "name": "stderr",
          "text": [
            "     45/100      2.25G     0.4974     0.4544     0.8762         24        640: 100%|██████████| 44/44 [00:22<00:00,  1.92it/s]\n",
            "                 Class     Images  Instances      Box(P          R      mAP50  mAP50-95): 100%|██████████| 6/6 [00:02<00:00,  2.42it/s]"
          ]
        },
        {
          "output_type": "stream",
          "name": "stdout",
          "text": [
            "                   all        175        175      0.792      0.791      0.839      0.697\n"
          ]
        },
        {
          "output_type": "stream",
          "name": "stderr",
          "text": [
            "\n"
          ]
        },
        {
          "output_type": "stream",
          "name": "stdout",
          "text": [
            "\n",
            "      Epoch    GPU_mem   box_loss   cls_loss   dfl_loss  Instances       Size\n"
          ]
        },
        {
          "output_type": "stream",
          "name": "stderr",
          "text": [
            "     46/100      2.25G     0.5025     0.4352     0.8654         31        640: 100%|██████████| 44/44 [00:23<00:00,  1.89it/s]\n",
            "                 Class     Images  Instances      Box(P          R      mAP50  mAP50-95): 100%|██████████| 6/6 [00:02<00:00,  2.20it/s]"
          ]
        },
        {
          "output_type": "stream",
          "name": "stdout",
          "text": [
            "                   all        175        175      0.828      0.772       0.84      0.702\n"
          ]
        },
        {
          "output_type": "stream",
          "name": "stderr",
          "text": [
            "\n"
          ]
        },
        {
          "output_type": "stream",
          "name": "stdout",
          "text": [
            "\n",
            "      Epoch    GPU_mem   box_loss   cls_loss   dfl_loss  Instances       Size\n"
          ]
        },
        {
          "output_type": "stream",
          "name": "stderr",
          "text": [
            "     47/100      2.25G     0.4919     0.4541     0.8669         25        640: 100%|██████████| 44/44 [00:22<00:00,  1.95it/s]\n",
            "                 Class     Images  Instances      Box(P          R      mAP50  mAP50-95): 100%|██████████| 6/6 [00:02<00:00,  2.05it/s]"
          ]
        },
        {
          "output_type": "stream",
          "name": "stdout",
          "text": [
            "                   all        175        175      0.733      0.851      0.812      0.691\n"
          ]
        },
        {
          "output_type": "stream",
          "name": "stderr",
          "text": [
            "\n"
          ]
        },
        {
          "output_type": "stream",
          "name": "stdout",
          "text": [
            "\n",
            "      Epoch    GPU_mem   box_loss   cls_loss   dfl_loss  Instances       Size\n"
          ]
        },
        {
          "output_type": "stream",
          "name": "stderr",
          "text": [
            "     48/100      2.25G     0.4875     0.4518     0.8657         30        640: 100%|██████████| 44/44 [00:21<00:00,  2.09it/s]\n",
            "                 Class     Images  Instances      Box(P          R      mAP50  mAP50-95): 100%|██████████| 6/6 [00:04<00:00,  1.37it/s]"
          ]
        },
        {
          "output_type": "stream",
          "name": "stdout",
          "text": [
            "                   all        175        175      0.778      0.844      0.839      0.723\n"
          ]
        },
        {
          "output_type": "stream",
          "name": "stderr",
          "text": [
            "\n"
          ]
        },
        {
          "output_type": "stream",
          "name": "stdout",
          "text": [
            "\n",
            "      Epoch    GPU_mem   box_loss   cls_loss   dfl_loss  Instances       Size\n"
          ]
        },
        {
          "output_type": "stream",
          "name": "stderr",
          "text": [
            "     49/100      2.25G     0.4828     0.4181     0.8642         22        640: 100%|██████████| 44/44 [00:22<00:00,  1.92it/s]\n",
            "                 Class     Images  Instances      Box(P          R      mAP50  mAP50-95): 100%|██████████| 6/6 [00:03<00:00,  1.91it/s]"
          ]
        },
        {
          "output_type": "stream",
          "name": "stdout",
          "text": [
            "                   all        175        175      0.783      0.865      0.872      0.741\n"
          ]
        },
        {
          "output_type": "stream",
          "name": "stderr",
          "text": [
            "\n"
          ]
        },
        {
          "output_type": "stream",
          "name": "stdout",
          "text": [
            "\n",
            "      Epoch    GPU_mem   box_loss   cls_loss   dfl_loss  Instances       Size\n"
          ]
        },
        {
          "output_type": "stream",
          "name": "stderr",
          "text": [
            "     50/100      2.25G     0.4972     0.4361     0.8611         28        640: 100%|██████████| 44/44 [00:21<00:00,  2.06it/s]\n",
            "                 Class     Images  Instances      Box(P          R      mAP50  mAP50-95): 100%|██████████| 6/6 [00:02<00:00,  2.34it/s]"
          ]
        },
        {
          "output_type": "stream",
          "name": "stdout",
          "text": [
            "                   all        175        175       0.79       0.83      0.845      0.703\n"
          ]
        },
        {
          "output_type": "stream",
          "name": "stderr",
          "text": [
            "\n"
          ]
        },
        {
          "output_type": "stream",
          "name": "stdout",
          "text": [
            "\n",
            "      Epoch    GPU_mem   box_loss   cls_loss   dfl_loss  Instances       Size\n"
          ]
        },
        {
          "output_type": "stream",
          "name": "stderr",
          "text": [
            "     51/100      2.25G      0.494     0.4305     0.8686         31        640: 100%|██████████| 44/44 [00:22<00:00,  1.94it/s]\n",
            "                 Class     Images  Instances      Box(P          R      mAP50  mAP50-95): 100%|██████████| 6/6 [00:02<00:00,  2.52it/s]"
          ]
        },
        {
          "output_type": "stream",
          "name": "stdout",
          "text": [
            "                   all        175        175      0.874      0.764      0.851      0.726\n"
          ]
        },
        {
          "output_type": "stream",
          "name": "stderr",
          "text": [
            "\n"
          ]
        },
        {
          "output_type": "stream",
          "name": "stdout",
          "text": [
            "\n",
            "      Epoch    GPU_mem   box_loss   cls_loss   dfl_loss  Instances       Size\n"
          ]
        },
        {
          "output_type": "stream",
          "name": "stderr",
          "text": [
            "     52/100      2.25G     0.4825     0.4114     0.8558         26        640: 100%|██████████| 44/44 [00:22<00:00,  1.92it/s]\n",
            "                 Class     Images  Instances      Box(P          R      mAP50  mAP50-95): 100%|██████████| 6/6 [00:02<00:00,  2.31it/s]"
          ]
        },
        {
          "output_type": "stream",
          "name": "stdout",
          "text": [
            "                   all        175        175      0.777      0.856       0.85      0.719\n"
          ]
        },
        {
          "output_type": "stream",
          "name": "stderr",
          "text": [
            "\n"
          ]
        },
        {
          "output_type": "stream",
          "name": "stdout",
          "text": [
            "\n",
            "      Epoch    GPU_mem   box_loss   cls_loss   dfl_loss  Instances       Size\n"
          ]
        },
        {
          "output_type": "stream",
          "name": "stderr",
          "text": [
            "     53/100      2.25G     0.4897     0.4264     0.8566         24        640: 100%|██████████| 44/44 [00:22<00:00,  1.95it/s]\n",
            "                 Class     Images  Instances      Box(P          R      mAP50  mAP50-95): 100%|██████████| 6/6 [00:02<00:00,  2.30it/s]"
          ]
        },
        {
          "output_type": "stream",
          "name": "stdout",
          "text": [
            "                   all        175        175      0.813      0.799      0.857      0.728\n"
          ]
        },
        {
          "output_type": "stream",
          "name": "stderr",
          "text": [
            "\n"
          ]
        },
        {
          "output_type": "stream",
          "name": "stdout",
          "text": [
            "\n",
            "      Epoch    GPU_mem   box_loss   cls_loss   dfl_loss  Instances       Size\n"
          ]
        },
        {
          "output_type": "stream",
          "name": "stderr",
          "text": [
            "     54/100      2.25G      0.486     0.4242     0.8723         27        640: 100%|██████████| 44/44 [00:23<00:00,  1.91it/s]\n",
            "                 Class     Images  Instances      Box(P          R      mAP50  mAP50-95): 100%|██████████| 6/6 [00:02<00:00,  2.34it/s]"
          ]
        },
        {
          "output_type": "stream",
          "name": "stdout",
          "text": [
            "                   all        175        175      0.841      0.737      0.806      0.693\n"
          ]
        },
        {
          "output_type": "stream",
          "name": "stderr",
          "text": [
            "\n"
          ]
        },
        {
          "output_type": "stream",
          "name": "stdout",
          "text": [
            "\n",
            "      Epoch    GPU_mem   box_loss   cls_loss   dfl_loss  Instances       Size\n"
          ]
        },
        {
          "output_type": "stream",
          "name": "stderr",
          "text": [
            "     55/100      2.25G     0.4858     0.4057     0.8656         30        640: 100%|██████████| 44/44 [00:22<00:00,  1.99it/s]\n",
            "                 Class     Images  Instances      Box(P          R      mAP50  mAP50-95): 100%|██████████| 6/6 [00:03<00:00,  1.80it/s]"
          ]
        },
        {
          "output_type": "stream",
          "name": "stdout",
          "text": [
            "                   all        175        175      0.734      0.789      0.789      0.678\n"
          ]
        },
        {
          "output_type": "stream",
          "name": "stderr",
          "text": [
            "\n"
          ]
        },
        {
          "output_type": "stream",
          "name": "stdout",
          "text": [
            "\n",
            "      Epoch    GPU_mem   box_loss   cls_loss   dfl_loss  Instances       Size\n"
          ]
        },
        {
          "output_type": "stream",
          "name": "stderr",
          "text": [
            "     56/100      2.25G     0.4824     0.4157     0.8567         32        640: 100%|██████████| 44/44 [00:21<00:00,  2.08it/s]\n",
            "                 Class     Images  Instances      Box(P          R      mAP50  mAP50-95): 100%|██████████| 6/6 [00:03<00:00,  1.59it/s]"
          ]
        },
        {
          "output_type": "stream",
          "name": "stdout",
          "text": [
            "                   all        175        175      0.811      0.826      0.831      0.712\n"
          ]
        },
        {
          "output_type": "stream",
          "name": "stderr",
          "text": [
            "\n"
          ]
        },
        {
          "output_type": "stream",
          "name": "stdout",
          "text": [
            "\n",
            "      Epoch    GPU_mem   box_loss   cls_loss   dfl_loss  Instances       Size\n"
          ]
        },
        {
          "output_type": "stream",
          "name": "stderr",
          "text": [
            "     57/100      2.25G     0.4845      0.387     0.8623         23        640: 100%|██████████| 44/44 [00:21<00:00,  2.08it/s]\n",
            "                 Class     Images  Instances      Box(P          R      mAP50  mAP50-95): 100%|██████████| 6/6 [00:02<00:00,  2.14it/s]\n"
          ]
        },
        {
          "output_type": "stream",
          "name": "stdout",
          "text": [
            "                   all        175        175      0.826      0.824      0.852      0.736\n",
            "\n",
            "      Epoch    GPU_mem   box_loss   cls_loss   dfl_loss  Instances       Size\n"
          ]
        },
        {
          "output_type": "stream",
          "name": "stderr",
          "text": [
            "     58/100      2.25G     0.4735     0.3897     0.8565         25        640: 100%|██████████| 44/44 [00:21<00:00,  2.04it/s]\n",
            "                 Class     Images  Instances      Box(P          R      mAP50  mAP50-95): 100%|██████████| 6/6 [00:02<00:00,  2.44it/s]"
          ]
        },
        {
          "output_type": "stream",
          "name": "stdout",
          "text": [
            "                   all        175        175      0.835      0.853      0.864      0.738\n"
          ]
        },
        {
          "output_type": "stream",
          "name": "stderr",
          "text": [
            "\n"
          ]
        },
        {
          "output_type": "stream",
          "name": "stdout",
          "text": [
            "\n",
            "      Epoch    GPU_mem   box_loss   cls_loss   dfl_loss  Instances       Size\n"
          ]
        },
        {
          "output_type": "stream",
          "name": "stderr",
          "text": [
            "     59/100      2.25G     0.4702     0.3831      0.861         20        640: 100%|██████████| 44/44 [00:22<00:00,  1.94it/s]\n",
            "                 Class     Images  Instances      Box(P          R      mAP50  mAP50-95): 100%|██████████| 6/6 [00:02<00:00,  2.14it/s]"
          ]
        },
        {
          "output_type": "stream",
          "name": "stdout",
          "text": [
            "                   all        175        175       0.77      0.815      0.848      0.733\n"
          ]
        },
        {
          "output_type": "stream",
          "name": "stderr",
          "text": [
            "\n"
          ]
        },
        {
          "output_type": "stream",
          "name": "stdout",
          "text": [
            "\n",
            "      Epoch    GPU_mem   box_loss   cls_loss   dfl_loss  Instances       Size\n"
          ]
        },
        {
          "output_type": "stream",
          "name": "stderr",
          "text": [
            "     60/100      2.25G     0.4618     0.3928     0.8472         25        640: 100%|██████████| 44/44 [00:22<00:00,  1.94it/s]\n",
            "                 Class     Images  Instances      Box(P          R      mAP50  mAP50-95): 100%|██████████| 6/6 [00:02<00:00,  2.24it/s]"
          ]
        },
        {
          "output_type": "stream",
          "name": "stdout",
          "text": [
            "                   all        175        175      0.773      0.877      0.869      0.742\n"
          ]
        },
        {
          "output_type": "stream",
          "name": "stderr",
          "text": [
            "\n"
          ]
        },
        {
          "output_type": "stream",
          "name": "stdout",
          "text": [
            "\n",
            "      Epoch    GPU_mem   box_loss   cls_loss   dfl_loss  Instances       Size\n"
          ]
        },
        {
          "output_type": "stream",
          "name": "stderr",
          "text": [
            "     61/100      2.25G     0.4714     0.3864     0.8589         23        640: 100%|██████████| 44/44 [00:22<00:00,  1.96it/s]\n",
            "                 Class     Images  Instances      Box(P          R      mAP50  mAP50-95): 100%|██████████| 6/6 [00:02<00:00,  2.34it/s]"
          ]
        },
        {
          "output_type": "stream",
          "name": "stdout",
          "text": [
            "                   all        175        175      0.794      0.825      0.857      0.741\n"
          ]
        },
        {
          "output_type": "stream",
          "name": "stderr",
          "text": [
            "\n"
          ]
        },
        {
          "output_type": "stream",
          "name": "stdout",
          "text": [
            "\n",
            "      Epoch    GPU_mem   box_loss   cls_loss   dfl_loss  Instances       Size\n"
          ]
        },
        {
          "output_type": "stream",
          "name": "stderr",
          "text": [
            "     62/100      2.25G     0.4724     0.3822     0.8585         20        640: 100%|██████████| 44/44 [00:22<00:00,  1.98it/s]\n",
            "                 Class     Images  Instances      Box(P          R      mAP50  mAP50-95): 100%|██████████| 6/6 [00:03<00:00,  1.90it/s]"
          ]
        },
        {
          "output_type": "stream",
          "name": "stdout",
          "text": [
            "                   all        175        175      0.691      0.854      0.821      0.707\n"
          ]
        },
        {
          "output_type": "stream",
          "name": "stderr",
          "text": [
            "\n"
          ]
        },
        {
          "output_type": "stream",
          "name": "stdout",
          "text": [
            "\n",
            "      Epoch    GPU_mem   box_loss   cls_loss   dfl_loss  Instances       Size\n"
          ]
        },
        {
          "output_type": "stream",
          "name": "stderr",
          "text": [
            "     63/100      2.25G     0.4605     0.3793     0.8556         28        640: 100%|██████████| 44/44 [00:21<00:00,  2.07it/s]\n",
            "                 Class     Images  Instances      Box(P          R      mAP50  mAP50-95): 100%|██████████| 6/6 [00:03<00:00,  1.53it/s]"
          ]
        },
        {
          "output_type": "stream",
          "name": "stdout",
          "text": [
            "                   all        175        175      0.769      0.859      0.854      0.736\n"
          ]
        },
        {
          "output_type": "stream",
          "name": "stderr",
          "text": [
            "\n"
          ]
        },
        {
          "output_type": "stream",
          "name": "stdout",
          "text": [
            "\n",
            "      Epoch    GPU_mem   box_loss   cls_loss   dfl_loss  Instances       Size\n"
          ]
        },
        {
          "output_type": "stream",
          "name": "stderr",
          "text": [
            "     64/100      2.25G      0.452     0.3814     0.8475         29        640: 100%|██████████| 44/44 [00:21<00:00,  2.07it/s]\n",
            "                 Class     Images  Instances      Box(P          R      mAP50  mAP50-95): 100%|██████████| 6/6 [00:02<00:00,  2.20it/s]"
          ]
        },
        {
          "output_type": "stream",
          "name": "stdout",
          "text": [
            "                   all        175        175      0.768      0.807      0.831      0.716\n"
          ]
        },
        {
          "output_type": "stream",
          "name": "stderr",
          "text": [
            "\n"
          ]
        },
        {
          "output_type": "stream",
          "name": "stdout",
          "text": [
            "\n",
            "      Epoch    GPU_mem   box_loss   cls_loss   dfl_loss  Instances       Size\n"
          ]
        },
        {
          "output_type": "stream",
          "name": "stderr",
          "text": [
            "     65/100      2.25G     0.4609     0.3804     0.8591         25        640: 100%|██████████| 44/44 [00:21<00:00,  2.03it/s]\n",
            "                 Class     Images  Instances      Box(P          R      mAP50  mAP50-95): 100%|██████████| 6/6 [00:02<00:00,  2.12it/s]"
          ]
        },
        {
          "output_type": "stream",
          "name": "stdout",
          "text": [
            "                   all        175        175      0.832      0.725      0.784      0.675\n"
          ]
        },
        {
          "output_type": "stream",
          "name": "stderr",
          "text": [
            "\n"
          ]
        },
        {
          "output_type": "stream",
          "name": "stdout",
          "text": [
            "\n",
            "      Epoch    GPU_mem   box_loss   cls_loss   dfl_loss  Instances       Size\n"
          ]
        },
        {
          "output_type": "stream",
          "name": "stderr",
          "text": [
            "     66/100      2.25G     0.4485      0.374     0.8463         27        640: 100%|██████████| 44/44 [00:22<00:00,  1.95it/s]\n",
            "                 Class     Images  Instances      Box(P          R      mAP50  mAP50-95): 100%|██████████| 6/6 [00:02<00:00,  2.27it/s]"
          ]
        },
        {
          "output_type": "stream",
          "name": "stdout",
          "text": [
            "                   all        175        175       0.78       0.82      0.844      0.738\n"
          ]
        },
        {
          "output_type": "stream",
          "name": "stderr",
          "text": [
            "\n"
          ]
        },
        {
          "output_type": "stream",
          "name": "stdout",
          "text": [
            "\n",
            "      Epoch    GPU_mem   box_loss   cls_loss   dfl_loss  Instances       Size\n"
          ]
        },
        {
          "output_type": "stream",
          "name": "stderr",
          "text": [
            "     67/100      2.25G     0.4573     0.3644     0.8541         29        640: 100%|██████████| 44/44 [00:22<00:00,  1.95it/s]\n",
            "                 Class     Images  Instances      Box(P          R      mAP50  mAP50-95): 100%|██████████| 6/6 [00:02<00:00,  2.13it/s]"
          ]
        },
        {
          "output_type": "stream",
          "name": "stdout",
          "text": [
            "                   all        175        175      0.778      0.873      0.878      0.755\n"
          ]
        },
        {
          "output_type": "stream",
          "name": "stderr",
          "text": [
            "\n"
          ]
        },
        {
          "output_type": "stream",
          "name": "stdout",
          "text": [
            "\n",
            "      Epoch    GPU_mem   box_loss   cls_loss   dfl_loss  Instances       Size\n"
          ]
        },
        {
          "output_type": "stream",
          "name": "stderr",
          "text": [
            "     68/100      2.25G     0.4668     0.3601     0.8592         22        640: 100%|██████████| 44/44 [00:22<00:00,  1.95it/s]\n",
            "                 Class     Images  Instances      Box(P          R      mAP50  mAP50-95): 100%|██████████| 6/6 [00:02<00:00,  2.19it/s]"
          ]
        },
        {
          "output_type": "stream",
          "name": "stdout",
          "text": [
            "                   all        175        175       0.77      0.851      0.859      0.745\n"
          ]
        },
        {
          "output_type": "stream",
          "name": "stderr",
          "text": [
            "\n"
          ]
        },
        {
          "output_type": "stream",
          "name": "stdout",
          "text": [
            "\n",
            "      Epoch    GPU_mem   box_loss   cls_loss   dfl_loss  Instances       Size\n"
          ]
        },
        {
          "output_type": "stream",
          "name": "stderr",
          "text": [
            "     69/100      2.25G     0.4488     0.3626      0.862         29        640: 100%|██████████| 44/44 [00:22<00:00,  1.98it/s]\n",
            "                 Class     Images  Instances      Box(P          R      mAP50  mAP50-95): 100%|██████████| 6/6 [00:03<00:00,  1.92it/s]\n"
          ]
        },
        {
          "output_type": "stream",
          "name": "stdout",
          "text": [
            "                   all        175        175       0.73      0.859      0.858      0.752\n",
            "\n",
            "      Epoch    GPU_mem   box_loss   cls_loss   dfl_loss  Instances       Size\n"
          ]
        },
        {
          "output_type": "stream",
          "name": "stderr",
          "text": [
            "     70/100      2.25G     0.4362     0.3551     0.8496         22        640: 100%|██████████| 44/44 [00:24<00:00,  1.77it/s]\n",
            "                 Class     Images  Instances      Box(P          R      mAP50  mAP50-95): 100%|██████████| 6/6 [00:02<00:00,  2.48it/s]"
          ]
        },
        {
          "output_type": "stream",
          "name": "stdout",
          "text": [
            "                   all        175        175      0.751      0.838      0.843      0.729\n"
          ]
        },
        {
          "output_type": "stream",
          "name": "stderr",
          "text": [
            "\n"
          ]
        },
        {
          "output_type": "stream",
          "name": "stdout",
          "text": [
            "\n",
            "      Epoch    GPU_mem   box_loss   cls_loss   dfl_loss  Instances       Size\n"
          ]
        },
        {
          "output_type": "stream",
          "name": "stderr",
          "text": [
            "     71/100      2.25G     0.4431     0.3567     0.8564         28        640: 100%|██████████| 44/44 [00:21<00:00,  2.05it/s]\n",
            "                 Class     Images  Instances      Box(P          R      mAP50  mAP50-95): 100%|██████████| 6/6 [00:03<00:00,  1.61it/s]"
          ]
        },
        {
          "output_type": "stream",
          "name": "stdout",
          "text": [
            "                   all        175        175      0.797      0.867      0.857      0.753\n"
          ]
        },
        {
          "output_type": "stream",
          "name": "stderr",
          "text": [
            "\n"
          ]
        },
        {
          "output_type": "stream",
          "name": "stdout",
          "text": [
            "\n",
            "      Epoch    GPU_mem   box_loss   cls_loss   dfl_loss  Instances       Size\n"
          ]
        },
        {
          "output_type": "stream",
          "name": "stderr",
          "text": [
            "     72/100      2.25G     0.4342     0.3413     0.8484         25        640: 100%|██████████| 44/44 [00:21<00:00,  2.07it/s]\n",
            "                 Class     Images  Instances      Box(P          R      mAP50  mAP50-95): 100%|██████████| 6/6 [00:03<00:00,  1.68it/s]"
          ]
        },
        {
          "output_type": "stream",
          "name": "stdout",
          "text": [
            "                   all        175        175      0.801      0.902      0.875      0.759\n"
          ]
        },
        {
          "output_type": "stream",
          "name": "stderr",
          "text": [
            "\n"
          ]
        },
        {
          "output_type": "stream",
          "name": "stdout",
          "text": [
            "\n",
            "      Epoch    GPU_mem   box_loss   cls_loss   dfl_loss  Instances       Size\n"
          ]
        },
        {
          "output_type": "stream",
          "name": "stderr",
          "text": [
            "     73/100      2.25G     0.4566     0.3526     0.8592         32        640: 100%|██████████| 44/44 [00:20<00:00,  2.10it/s]\n",
            "                 Class     Images  Instances      Box(P          R      mAP50  mAP50-95): 100%|██████████| 6/6 [00:02<00:00,  2.41it/s]"
          ]
        },
        {
          "output_type": "stream",
          "name": "stdout",
          "text": [
            "                   all        175        175      0.794      0.912      0.892      0.766\n"
          ]
        },
        {
          "output_type": "stream",
          "name": "stderr",
          "text": [
            "\n"
          ]
        },
        {
          "output_type": "stream",
          "name": "stdout",
          "text": [
            "\n",
            "      Epoch    GPU_mem   box_loss   cls_loss   dfl_loss  Instances       Size\n"
          ]
        },
        {
          "output_type": "stream",
          "name": "stderr",
          "text": [
            "     74/100      2.25G     0.4308     0.3363     0.8491         27        640: 100%|██████████| 44/44 [00:22<00:00,  1.99it/s]\n",
            "                 Class     Images  Instances      Box(P          R      mAP50  mAP50-95): 100%|██████████| 6/6 [00:02<00:00,  2.51it/s]"
          ]
        },
        {
          "output_type": "stream",
          "name": "stdout",
          "text": [
            "                   all        175        175      0.786      0.793      0.859      0.746\n"
          ]
        },
        {
          "output_type": "stream",
          "name": "stderr",
          "text": [
            "\n"
          ]
        },
        {
          "output_type": "stream",
          "name": "stdout",
          "text": [
            "\n",
            "      Epoch    GPU_mem   box_loss   cls_loss   dfl_loss  Instances       Size\n"
          ]
        },
        {
          "output_type": "stream",
          "name": "stderr",
          "text": [
            "     75/100      2.25G     0.4422     0.3551     0.8573         19        640: 100%|██████████| 44/44 [00:22<00:00,  1.94it/s]\n",
            "                 Class     Images  Instances      Box(P          R      mAP50  mAP50-95): 100%|██████████| 6/6 [00:02<00:00,  2.23it/s]"
          ]
        },
        {
          "output_type": "stream",
          "name": "stdout",
          "text": [
            "                   all        175        175      0.755      0.847      0.852      0.736\n"
          ]
        },
        {
          "output_type": "stream",
          "name": "stderr",
          "text": [
            "\n"
          ]
        },
        {
          "output_type": "stream",
          "name": "stdout",
          "text": [
            "\n",
            "      Epoch    GPU_mem   box_loss   cls_loss   dfl_loss  Instances       Size\n"
          ]
        },
        {
          "output_type": "stream",
          "name": "stderr",
          "text": [
            "     76/100      2.25G     0.4315     0.3534     0.8499         32        640: 100%|██████████| 44/44 [00:22<00:00,  1.94it/s]\n",
            "                 Class     Images  Instances      Box(P          R      mAP50  mAP50-95): 100%|██████████| 6/6 [00:02<00:00,  2.32it/s]"
          ]
        },
        {
          "output_type": "stream",
          "name": "stdout",
          "text": [
            "                   all        175        175      0.703      0.801      0.828      0.723\n"
          ]
        },
        {
          "output_type": "stream",
          "name": "stderr",
          "text": [
            "\n"
          ]
        },
        {
          "output_type": "stream",
          "name": "stdout",
          "text": [
            "\n",
            "      Epoch    GPU_mem   box_loss   cls_loss   dfl_loss  Instances       Size\n"
          ]
        },
        {
          "output_type": "stream",
          "name": "stderr",
          "text": [
            "     77/100      2.25G     0.4294     0.3454     0.8501         24        640: 100%|██████████| 44/44 [00:23<00:00,  1.88it/s]\n",
            "                 Class     Images  Instances      Box(P          R      mAP50  mAP50-95): 100%|██████████| 6/6 [00:02<00:00,  2.42it/s]"
          ]
        },
        {
          "output_type": "stream",
          "name": "stdout",
          "text": [
            "                   all        175        175      0.768      0.842      0.845      0.727\n"
          ]
        },
        {
          "output_type": "stream",
          "name": "stderr",
          "text": [
            "\n"
          ]
        },
        {
          "output_type": "stream",
          "name": "stdout",
          "text": [
            "\n",
            "      Epoch    GPU_mem   box_loss   cls_loss   dfl_loss  Instances       Size\n"
          ]
        },
        {
          "output_type": "stream",
          "name": "stderr",
          "text": [
            "     78/100      2.25G      0.414     0.3306     0.8529         22        640: 100%|██████████| 44/44 [00:21<00:00,  2.00it/s]\n",
            "                 Class     Images  Instances      Box(P          R      mAP50  mAP50-95): 100%|██████████| 6/6 [00:03<00:00,  1.74it/s]"
          ]
        },
        {
          "output_type": "stream",
          "name": "stdout",
          "text": [
            "                   all        175        175      0.822       0.81      0.842      0.722\n"
          ]
        },
        {
          "output_type": "stream",
          "name": "stderr",
          "text": [
            "\n"
          ]
        },
        {
          "output_type": "stream",
          "name": "stdout",
          "text": [
            "\n",
            "      Epoch    GPU_mem   box_loss   cls_loss   dfl_loss  Instances       Size\n"
          ]
        },
        {
          "output_type": "stream",
          "name": "stderr",
          "text": [
            "     79/100      2.25G     0.4237     0.3187      0.843         19        640: 100%|██████████| 44/44 [00:21<00:00,  2.07it/s]\n",
            "                 Class     Images  Instances      Box(P          R      mAP50  mAP50-95): 100%|██████████| 6/6 [00:04<00:00,  1.45it/s]"
          ]
        },
        {
          "output_type": "stream",
          "name": "stdout",
          "text": [
            "                   all        175        175      0.808      0.888      0.884       0.77\n"
          ]
        },
        {
          "output_type": "stream",
          "name": "stderr",
          "text": [
            "\n"
          ]
        },
        {
          "output_type": "stream",
          "name": "stdout",
          "text": [
            "\n",
            "      Epoch    GPU_mem   box_loss   cls_loss   dfl_loss  Instances       Size\n"
          ]
        },
        {
          "output_type": "stream",
          "name": "stderr",
          "text": [
            "     80/100      2.25G     0.4307     0.3271     0.8511         17        640: 100%|██████████| 44/44 [00:20<00:00,  2.10it/s]\n",
            "                 Class     Images  Instances      Box(P          R      mAP50  mAP50-95): 100%|██████████| 6/6 [00:03<00:00,  1.72it/s]"
          ]
        },
        {
          "output_type": "stream",
          "name": "stdout",
          "text": [
            "                   all        175        175      0.762      0.838      0.855      0.755\n"
          ]
        },
        {
          "output_type": "stream",
          "name": "stderr",
          "text": [
            "\n"
          ]
        },
        {
          "output_type": "stream",
          "name": "stdout",
          "text": [
            "\n",
            "      Epoch    GPU_mem   box_loss   cls_loss   dfl_loss  Instances       Size\n"
          ]
        },
        {
          "output_type": "stream",
          "name": "stderr",
          "text": [
            "     81/100      2.25G     0.4244     0.3409     0.8442         19        640: 100%|██████████| 44/44 [00:21<00:00,  2.03it/s]\n",
            "                 Class     Images  Instances      Box(P          R      mAP50  mAP50-95): 100%|██████████| 6/6 [00:02<00:00,  2.26it/s]"
          ]
        },
        {
          "output_type": "stream",
          "name": "stdout",
          "text": [
            "                   all        175        175      0.782       0.77      0.837      0.728\n"
          ]
        },
        {
          "output_type": "stream",
          "name": "stderr",
          "text": [
            "\n"
          ]
        },
        {
          "output_type": "stream",
          "name": "stdout",
          "text": [
            "\n",
            "      Epoch    GPU_mem   box_loss   cls_loss   dfl_loss  Instances       Size\n"
          ]
        },
        {
          "output_type": "stream",
          "name": "stderr",
          "text": [
            "     82/100      2.25G     0.4138     0.3202     0.8481         27        640: 100%|██████████| 44/44 [00:22<00:00,  1.93it/s]\n",
            "                 Class     Images  Instances      Box(P          R      mAP50  mAP50-95): 100%|██████████| 6/6 [00:02<00:00,  2.16it/s]"
          ]
        },
        {
          "output_type": "stream",
          "name": "stdout",
          "text": [
            "                   all        175        175      0.739      0.896      0.852      0.743\n"
          ]
        },
        {
          "output_type": "stream",
          "name": "stderr",
          "text": [
            "\n"
          ]
        },
        {
          "output_type": "stream",
          "name": "stdout",
          "text": [
            "\n",
            "      Epoch    GPU_mem   box_loss   cls_loss   dfl_loss  Instances       Size\n"
          ]
        },
        {
          "output_type": "stream",
          "name": "stderr",
          "text": [
            "     83/100      2.25G      0.431     0.3312      0.846         24        640: 100%|██████████| 44/44 [00:22<00:00,  1.95it/s]\n",
            "                 Class     Images  Instances      Box(P          R      mAP50  mAP50-95): 100%|██████████| 6/6 [00:02<00:00,  2.26it/s]"
          ]
        },
        {
          "output_type": "stream",
          "name": "stdout",
          "text": [
            "                   all        175        175      0.725      0.857      0.851      0.746\n"
          ]
        },
        {
          "output_type": "stream",
          "name": "stderr",
          "text": [
            "\n"
          ]
        },
        {
          "output_type": "stream",
          "name": "stdout",
          "text": [
            "\n",
            "      Epoch    GPU_mem   box_loss   cls_loss   dfl_loss  Instances       Size\n"
          ]
        },
        {
          "output_type": "stream",
          "name": "stderr",
          "text": [
            "     84/100      2.25G     0.4259     0.3189     0.8507         25        640: 100%|██████████| 44/44 [00:22<00:00,  1.94it/s]\n",
            "                 Class     Images  Instances      Box(P          R      mAP50  mAP50-95): 100%|██████████| 6/6 [00:02<00:00,  2.16it/s]"
          ]
        },
        {
          "output_type": "stream",
          "name": "stdout",
          "text": [
            "                   all        175        175      0.744      0.868      0.859      0.757\n"
          ]
        },
        {
          "output_type": "stream",
          "name": "stderr",
          "text": [
            "\n"
          ]
        },
        {
          "output_type": "stream",
          "name": "stdout",
          "text": [
            "\n",
            "      Epoch    GPU_mem   box_loss   cls_loss   dfl_loss  Instances       Size\n"
          ]
        },
        {
          "output_type": "stream",
          "name": "stderr",
          "text": [
            "     85/100      2.25G     0.4106     0.3054     0.8462         32        640: 100%|██████████| 44/44 [00:22<00:00,  1.93it/s]\n",
            "                 Class     Images  Instances      Box(P          R      mAP50  mAP50-95): 100%|██████████| 6/6 [00:02<00:00,  2.04it/s]"
          ]
        },
        {
          "output_type": "stream",
          "name": "stdout",
          "text": [
            "                   all        175        175      0.788      0.846      0.866      0.763\n"
          ]
        },
        {
          "output_type": "stream",
          "name": "stderr",
          "text": [
            "\n"
          ]
        },
        {
          "output_type": "stream",
          "name": "stdout",
          "text": [
            "\n",
            "      Epoch    GPU_mem   box_loss   cls_loss   dfl_loss  Instances       Size\n"
          ]
        },
        {
          "output_type": "stream",
          "name": "stderr",
          "text": [
            "     86/100      2.25G     0.4066     0.2995     0.8414         28        640: 100%|██████████| 44/44 [00:21<00:00,  2.05it/s]\n",
            "                 Class     Images  Instances      Box(P          R      mAP50  mAP50-95): 100%|██████████| 6/6 [00:03<00:00,  1.56it/s]"
          ]
        },
        {
          "output_type": "stream",
          "name": "stdout",
          "text": [
            "                   all        175        175      0.762      0.804      0.833      0.742\n"
          ]
        },
        {
          "output_type": "stream",
          "name": "stderr",
          "text": [
            "\n"
          ]
        },
        {
          "output_type": "stream",
          "name": "stdout",
          "text": [
            "\n",
            "      Epoch    GPU_mem   box_loss   cls_loss   dfl_loss  Instances       Size\n"
          ]
        },
        {
          "output_type": "stream",
          "name": "stderr",
          "text": [
            "     87/100      2.25G     0.4131     0.3175     0.8493         20        640: 100%|██████████| 44/44 [00:21<00:00,  2.08it/s]\n",
            "                 Class     Images  Instances      Box(P          R      mAP50  mAP50-95): 100%|██████████| 6/6 [00:03<00:00,  1.79it/s]"
          ]
        },
        {
          "output_type": "stream",
          "name": "stdout",
          "text": [
            "                   all        175        175      0.759      0.794      0.832      0.731\n"
          ]
        },
        {
          "output_type": "stream",
          "name": "stderr",
          "text": [
            "\n"
          ]
        },
        {
          "output_type": "stream",
          "name": "stdout",
          "text": [
            "\n",
            "      Epoch    GPU_mem   box_loss   cls_loss   dfl_loss  Instances       Size\n"
          ]
        },
        {
          "output_type": "stream",
          "name": "stderr",
          "text": [
            "     88/100      2.25G     0.4061     0.3114     0.8424         20        640: 100%|██████████| 44/44 [00:21<00:00,  2.02it/s]\n",
            "                 Class     Images  Instances      Box(P          R      mAP50  mAP50-95): 100%|██████████| 6/6 [00:02<00:00,  2.40it/s]"
          ]
        },
        {
          "output_type": "stream",
          "name": "stdout",
          "text": [
            "                   all        175        175      0.785      0.835      0.856      0.742\n"
          ]
        },
        {
          "output_type": "stream",
          "name": "stderr",
          "text": [
            "\n"
          ]
        },
        {
          "output_type": "stream",
          "name": "stdout",
          "text": [
            "\n",
            "      Epoch    GPU_mem   box_loss   cls_loss   dfl_loss  Instances       Size\n"
          ]
        },
        {
          "output_type": "stream",
          "name": "stderr",
          "text": [
            "     89/100      2.25G     0.4162      0.304     0.8377         26        640: 100%|██████████| 44/44 [00:22<00:00,  1.94it/s]\n",
            "                 Class     Images  Instances      Box(P          R      mAP50  mAP50-95): 100%|██████████| 6/6 [00:02<00:00,  2.44it/s]"
          ]
        },
        {
          "output_type": "stream",
          "name": "stdout",
          "text": [
            "                   all        175        175      0.796      0.858      0.862      0.754\n"
          ]
        },
        {
          "output_type": "stream",
          "name": "stderr",
          "text": [
            "\n"
          ]
        },
        {
          "output_type": "stream",
          "name": "stdout",
          "text": [
            "\n",
            "      Epoch    GPU_mem   box_loss   cls_loss   dfl_loss  Instances       Size\n"
          ]
        },
        {
          "output_type": "stream",
          "name": "stderr",
          "text": [
            "     90/100      2.25G     0.3995     0.3035     0.8428         30        640: 100%|██████████| 44/44 [00:22<00:00,  1.94it/s]\n",
            "                 Class     Images  Instances      Box(P          R      mAP50  mAP50-95): 100%|██████████| 6/6 [00:02<00:00,  2.30it/s]"
          ]
        },
        {
          "output_type": "stream",
          "name": "stdout",
          "text": [
            "                   all        175        175      0.804      0.851      0.857      0.747\n"
          ]
        },
        {
          "output_type": "stream",
          "name": "stderr",
          "text": [
            "\n"
          ]
        },
        {
          "output_type": "stream",
          "name": "stdout",
          "text": [
            "Closing dataloader mosaic\n",
            "\u001b[34m\u001b[1malbumentations: \u001b[0mBlur(p=0.01, blur_limit=(3, 7)), MedianBlur(p=0.01, blur_limit=(3, 7)), ToGray(p=0.01), CLAHE(p=0.01, clip_limit=(1, 4.0), tile_grid_size=(8, 8))\n",
            "\n",
            "      Epoch    GPU_mem   box_loss   cls_loss   dfl_loss  Instances       Size\n"
          ]
        },
        {
          "output_type": "stream",
          "name": "stderr",
          "text": [
            "     91/100      2.25G     0.3836     0.2716     0.8059         14        640: 100%|██████████| 44/44 [00:26<00:00,  1.63it/s]\n",
            "                 Class     Images  Instances      Box(P          R      mAP50  mAP50-95): 100%|██████████| 6/6 [00:02<00:00,  2.31it/s]"
          ]
        },
        {
          "output_type": "stream",
          "name": "stdout",
          "text": [
            "                   all        175        175      0.792      0.827      0.854      0.744\n"
          ]
        },
        {
          "output_type": "stream",
          "name": "stderr",
          "text": [
            "\n"
          ]
        },
        {
          "output_type": "stream",
          "name": "stdout",
          "text": [
            "\n",
            "      Epoch    GPU_mem   box_loss   cls_loss   dfl_loss  Instances       Size\n"
          ]
        },
        {
          "output_type": "stream",
          "name": "stderr",
          "text": [
            "     92/100      2.25G     0.3755     0.2621     0.8096         14        640: 100%|██████████| 44/44 [00:21<00:00,  2.01it/s]\n",
            "                 Class     Images  Instances      Box(P          R      mAP50  mAP50-95): 100%|██████████| 6/6 [00:02<00:00,  2.24it/s]"
          ]
        },
        {
          "output_type": "stream",
          "name": "stdout",
          "text": [
            "                   all        175        175      0.759      0.832      0.843      0.733\n"
          ]
        },
        {
          "output_type": "stream",
          "name": "stderr",
          "text": [
            "\n"
          ]
        },
        {
          "output_type": "stream",
          "name": "stdout",
          "text": [
            "\n",
            "      Epoch    GPU_mem   box_loss   cls_loss   dfl_loss  Instances       Size\n"
          ]
        },
        {
          "output_type": "stream",
          "name": "stderr",
          "text": [
            "     93/100      2.25G     0.3752     0.2555     0.8031         14        640: 100%|██████████| 44/44 [00:20<00:00,  2.16it/s]\n",
            "                 Class     Images  Instances      Box(P          R      mAP50  mAP50-95): 100%|██████████| 6/6 [00:03<00:00,  1.55it/s]"
          ]
        },
        {
          "output_type": "stream",
          "name": "stdout",
          "text": [
            "                   all        175        175      0.776       0.86      0.867      0.762\n"
          ]
        },
        {
          "output_type": "stream",
          "name": "stderr",
          "text": [
            "\n"
          ]
        },
        {
          "output_type": "stream",
          "name": "stdout",
          "text": [
            "\n",
            "      Epoch    GPU_mem   box_loss   cls_loss   dfl_loss  Instances       Size\n"
          ]
        },
        {
          "output_type": "stream",
          "name": "stderr",
          "text": [
            "     94/100      2.25G     0.3717     0.2459     0.8095         14        640: 100%|██████████| 44/44 [00:20<00:00,  2.20it/s]\n",
            "                 Class     Images  Instances      Box(P          R      mAP50  mAP50-95): 100%|██████████| 6/6 [00:02<00:00,  2.08it/s]"
          ]
        },
        {
          "output_type": "stream",
          "name": "stdout",
          "text": [
            "                   all        175        175      0.777      0.865       0.86       0.75\n"
          ]
        },
        {
          "output_type": "stream",
          "name": "stderr",
          "text": [
            "\n"
          ]
        },
        {
          "output_type": "stream",
          "name": "stdout",
          "text": [
            "\n",
            "      Epoch    GPU_mem   box_loss   cls_loss   dfl_loss  Instances       Size\n"
          ]
        },
        {
          "output_type": "stream",
          "name": "stderr",
          "text": [
            "     95/100      2.25G     0.3639     0.2423     0.8087         14        640: 100%|██████████| 44/44 [00:21<00:00,  2.05it/s]\n",
            "                 Class     Images  Instances      Box(P          R      mAP50  mAP50-95): 100%|██████████| 6/6 [00:02<00:00,  2.24it/s]"
          ]
        },
        {
          "output_type": "stream",
          "name": "stdout",
          "text": [
            "                   all        175        175      0.782      0.824      0.856      0.757\n"
          ]
        },
        {
          "output_type": "stream",
          "name": "stderr",
          "text": [
            "\n"
          ]
        },
        {
          "output_type": "stream",
          "name": "stdout",
          "text": [
            "\n",
            "      Epoch    GPU_mem   box_loss   cls_loss   dfl_loss  Instances       Size\n"
          ]
        },
        {
          "output_type": "stream",
          "name": "stderr",
          "text": [
            "     96/100      2.25G     0.3611     0.2404     0.8051         14        640: 100%|██████████| 44/44 [00:22<00:00,  2.00it/s]\n",
            "                 Class     Images  Instances      Box(P          R      mAP50  mAP50-95): 100%|██████████| 6/6 [00:02<00:00,  2.30it/s]"
          ]
        },
        {
          "output_type": "stream",
          "name": "stdout",
          "text": [
            "                   all        175        175      0.803      0.791      0.846      0.751\n"
          ]
        },
        {
          "output_type": "stream",
          "name": "stderr",
          "text": [
            "\n"
          ]
        },
        {
          "output_type": "stream",
          "name": "stdout",
          "text": [
            "\n",
            "      Epoch    GPU_mem   box_loss   cls_loss   dfl_loss  Instances       Size\n"
          ]
        },
        {
          "output_type": "stream",
          "name": "stderr",
          "text": [
            "     97/100      2.25G     0.3711       0.24     0.8083         14        640: 100%|██████████| 44/44 [00:21<00:00,  2.04it/s]\n",
            "                 Class     Images  Instances      Box(P          R      mAP50  mAP50-95): 100%|██████████| 6/6 [00:03<00:00,  1.87it/s]"
          ]
        },
        {
          "output_type": "stream",
          "name": "stdout",
          "text": [
            "                   all        175        175      0.784      0.821      0.847      0.747\n"
          ]
        },
        {
          "output_type": "stream",
          "name": "stderr",
          "text": [
            "\n"
          ]
        },
        {
          "output_type": "stream",
          "name": "stdout",
          "text": [
            "\n",
            "      Epoch    GPU_mem   box_loss   cls_loss   dfl_loss  Instances       Size\n"
          ]
        },
        {
          "output_type": "stream",
          "name": "stderr",
          "text": [
            "     98/100      2.25G     0.3649     0.2411     0.8113         14        640: 100%|██████████| 44/44 [00:20<00:00,  2.15it/s]\n",
            "                 Class     Images  Instances      Box(P          R      mAP50  mAP50-95): 100%|██████████| 6/6 [00:03<00:00,  1.62it/s]"
          ]
        },
        {
          "output_type": "stream",
          "name": "stdout",
          "text": [
            "                   all        175        175      0.781      0.848      0.856      0.753\n"
          ]
        },
        {
          "output_type": "stream",
          "name": "stderr",
          "text": [
            "\n"
          ]
        },
        {
          "output_type": "stream",
          "name": "stdout",
          "text": [
            "\n",
            "      Epoch    GPU_mem   box_loss   cls_loss   dfl_loss  Instances       Size\n"
          ]
        },
        {
          "output_type": "stream",
          "name": "stderr",
          "text": [
            "     99/100      2.25G     0.3501     0.2324     0.8004         14        640: 100%|██████████| 44/44 [00:20<00:00,  2.14it/s]\n",
            "                 Class     Images  Instances      Box(P          R      mAP50  mAP50-95): 100%|██████████| 6/6 [00:02<00:00,  2.42it/s]"
          ]
        },
        {
          "output_type": "stream",
          "name": "stdout",
          "text": [
            "                   all        175        175       0.77      0.853      0.863      0.752\n"
          ]
        },
        {
          "output_type": "stream",
          "name": "stderr",
          "text": [
            "\n"
          ]
        },
        {
          "output_type": "stream",
          "name": "stdout",
          "text": [
            "\n",
            "      Epoch    GPU_mem   box_loss   cls_loss   dfl_loss  Instances       Size\n"
          ]
        },
        {
          "output_type": "stream",
          "name": "stderr",
          "text": [
            "    100/100      2.25G     0.3588     0.2317     0.8062         14        640: 100%|██████████| 44/44 [00:22<00:00,  1.99it/s]\n",
            "                 Class     Images  Instances      Box(P          R      mAP50  mAP50-95): 100%|██████████| 6/6 [00:02<00:00,  2.21it/s]\n"
          ]
        },
        {
          "output_type": "stream",
          "name": "stdout",
          "text": [
            "                   all        175        175       0.77      0.851      0.863      0.758\n",
            "\n",
            "100 epochs completed in 0.738 hours.\n",
            "Optimizer stripped from runs/detect/train/weights/last.pt, 6.2MB\n",
            "Optimizer stripped from runs/detect/train/weights/best.pt, 6.2MB\n",
            "\n",
            "Validating runs/detect/train/weights/best.pt...\n",
            "Ultralytics YOLOv8.1.9 🚀 Python-3.10.12 torch-2.1.0+cu121 CUDA:0 (Tesla T4, 15102MiB)\n",
            "Model summary (fused): 168 layers, 3006428 parameters, 0 gradients, 8.1 GFLOPs\n"
          ]
        },
        {
          "output_type": "stream",
          "name": "stderr",
          "text": [
            "                 Class     Images  Instances      Box(P          R      mAP50  mAP50-95): 100%|██████████| 6/6 [00:06<00:00,  1.06s/it]\n"
          ]
        },
        {
          "output_type": "stream",
          "name": "stdout",
          "text": [
            "                   all        175        175      0.809      0.888      0.886      0.773\n",
            "                     0        175         19      0.651      0.786      0.748      0.677\n",
            "                     1        175        127      0.864      0.999      0.972      0.907\n",
            "                     2        175         12      0.828      0.803      0.833      0.546\n",
            "                     3        175         17      0.891      0.964       0.99      0.964\n",
            "Speed: 0.4ms preprocess, 4.3ms inference, 0.0ms loss, 9.4ms postprocess per image\n",
            "Results saved to \u001b[1mruns/detect/train\u001b[0m\n"
          ]
        },
        {
          "output_type": "execute_result",
          "data": {
            "text/plain": [
              "ultralytics.utils.metrics.DetMetrics object with attributes:\n",
              "\n",
              "ap_class_index: array([0, 1, 2, 3])\n",
              "box: ultralytics.utils.metrics.Metric object\n",
              "confusion_matrix: <ultralytics.utils.metrics.ConfusionMatrix object at 0x7c5932b04f70>\n",
              "curves: ['Precision-Recall(B)', 'F1-Confidence(B)', 'Precision-Confidence(B)', 'Recall-Confidence(B)']\n",
              "curves_results: [[array([          0,    0.001001,    0.002002,    0.003003,    0.004004,    0.005005,    0.006006,    0.007007,    0.008008,    0.009009,     0.01001,    0.011011,    0.012012,    0.013013,    0.014014,    0.015015,    0.016016,    0.017017,    0.018018,    0.019019,     0.02002,    0.021021,    0.022022,    0.023023,\n",
              "          0.024024,    0.025025,    0.026026,    0.027027,    0.028028,    0.029029,     0.03003,    0.031031,    0.032032,    0.033033,    0.034034,    0.035035,    0.036036,    0.037037,    0.038038,    0.039039,     0.04004,    0.041041,    0.042042,    0.043043,    0.044044,    0.045045,    0.046046,    0.047047,\n",
              "          0.048048,    0.049049,     0.05005,    0.051051,    0.052052,    0.053053,    0.054054,    0.055055,    0.056056,    0.057057,    0.058058,    0.059059,     0.06006,    0.061061,    0.062062,    0.063063,    0.064064,    0.065065,    0.066066,    0.067067,    0.068068,    0.069069,     0.07007,    0.071071,\n",
              "          0.072072,    0.073073,    0.074074,    0.075075,    0.076076,    0.077077,    0.078078,    0.079079,     0.08008,    0.081081,    0.082082,    0.083083,    0.084084,    0.085085,    0.086086,    0.087087,    0.088088,    0.089089,     0.09009,    0.091091,    0.092092,    0.093093,    0.094094,    0.095095,\n",
              "          0.096096,    0.097097,    0.098098,    0.099099,      0.1001,      0.1011,      0.1021,      0.1031,      0.1041,     0.10511,     0.10611,     0.10711,     0.10811,     0.10911,     0.11011,     0.11111,     0.11211,     0.11311,     0.11411,     0.11512,     0.11612,     0.11712,     0.11812,     0.11912,\n",
              "           0.12012,     0.12112,     0.12212,     0.12312,     0.12412,     0.12513,     0.12613,     0.12713,     0.12813,     0.12913,     0.13013,     0.13113,     0.13213,     0.13313,     0.13413,     0.13514,     0.13614,     0.13714,     0.13814,     0.13914,     0.14014,     0.14114,     0.14214,     0.14314,\n",
              "           0.14414,     0.14515,     0.14615,     0.14715,     0.14815,     0.14915,     0.15015,     0.15115,     0.15215,     0.15315,     0.15415,     0.15516,     0.15616,     0.15716,     0.15816,     0.15916,     0.16016,     0.16116,     0.16216,     0.16316,     0.16416,     0.16517,     0.16617,     0.16717,\n",
              "           0.16817,     0.16917,     0.17017,     0.17117,     0.17217,     0.17317,     0.17417,     0.17518,     0.17618,     0.17718,     0.17818,     0.17918,     0.18018,     0.18118,     0.18218,     0.18318,     0.18418,     0.18519,     0.18619,     0.18719,     0.18819,     0.18919,     0.19019,     0.19119,\n",
              "           0.19219,     0.19319,     0.19419,      0.1952,      0.1962,      0.1972,      0.1982,      0.1992,      0.2002,      0.2012,      0.2022,      0.2032,      0.2042,     0.20521,     0.20621,     0.20721,     0.20821,     0.20921,     0.21021,     0.21121,     0.21221,     0.21321,     0.21421,     0.21522,\n",
              "           0.21622,     0.21722,     0.21822,     0.21922,     0.22022,     0.22122,     0.22222,     0.22322,     0.22422,     0.22523,     0.22623,     0.22723,     0.22823,     0.22923,     0.23023,     0.23123,     0.23223,     0.23323,     0.23423,     0.23524,     0.23624,     0.23724,     0.23824,     0.23924,\n",
              "           0.24024,     0.24124,     0.24224,     0.24324,     0.24424,     0.24525,     0.24625,     0.24725,     0.24825,     0.24925,     0.25025,     0.25125,     0.25225,     0.25325,     0.25425,     0.25526,     0.25626,     0.25726,     0.25826,     0.25926,     0.26026,     0.26126,     0.26226,     0.26326,\n",
              "           0.26426,     0.26527,     0.26627,     0.26727,     0.26827,     0.26927,     0.27027,     0.27127,     0.27227,     0.27327,     0.27427,     0.27528,     0.27628,     0.27728,     0.27828,     0.27928,     0.28028,     0.28128,     0.28228,     0.28328,     0.28428,     0.28529,     0.28629,     0.28729,\n",
              "           0.28829,     0.28929,     0.29029,     0.29129,     0.29229,     0.29329,     0.29429,      0.2953,      0.2963,      0.2973,      0.2983,      0.2993,      0.3003,      0.3013,      0.3023,      0.3033,      0.3043,     0.30531,     0.30631,     0.30731,     0.30831,     0.30931,     0.31031,     0.31131,\n",
              "           0.31231,     0.31331,     0.31431,     0.31532,     0.31632,     0.31732,     0.31832,     0.31932,     0.32032,     0.32132,     0.32232,     0.32332,     0.32432,     0.32533,     0.32633,     0.32733,     0.32833,     0.32933,     0.33033,     0.33133,     0.33233,     0.33333,     0.33433,     0.33534,\n",
              "           0.33634,     0.33734,     0.33834,     0.33934,     0.34034,     0.34134,     0.34234,     0.34334,     0.34434,     0.34535,     0.34635,     0.34735,     0.34835,     0.34935,     0.35035,     0.35135,     0.35235,     0.35335,     0.35435,     0.35536,     0.35636,     0.35736,     0.35836,     0.35936,\n",
              "           0.36036,     0.36136,     0.36236,     0.36336,     0.36436,     0.36537,     0.36637,     0.36737,     0.36837,     0.36937,     0.37037,     0.37137,     0.37237,     0.37337,     0.37437,     0.37538,     0.37638,     0.37738,     0.37838,     0.37938,     0.38038,     0.38138,     0.38238,     0.38338,\n",
              "           0.38438,     0.38539,     0.38639,     0.38739,     0.38839,     0.38939,     0.39039,     0.39139,     0.39239,     0.39339,     0.39439,      0.3954,      0.3964,      0.3974,      0.3984,      0.3994,      0.4004,      0.4014,      0.4024,      0.4034,      0.4044,     0.40541,     0.40641,     0.40741,\n",
              "           0.40841,     0.40941,     0.41041,     0.41141,     0.41241,     0.41341,     0.41441,     0.41542,     0.41642,     0.41742,     0.41842,     0.41942,     0.42042,     0.42142,     0.42242,     0.42342,     0.42442,     0.42543,     0.42643,     0.42743,     0.42843,     0.42943,     0.43043,     0.43143,\n",
              "           0.43243,     0.43343,     0.43443,     0.43544,     0.43644,     0.43744,     0.43844,     0.43944,     0.44044,     0.44144,     0.44244,     0.44344,     0.44444,     0.44545,     0.44645,     0.44745,     0.44845,     0.44945,     0.45045,     0.45145,     0.45245,     0.45345,     0.45445,     0.45546,\n",
              "           0.45646,     0.45746,     0.45846,     0.45946,     0.46046,     0.46146,     0.46246,     0.46346,     0.46446,     0.46547,     0.46647,     0.46747,     0.46847,     0.46947,     0.47047,     0.47147,     0.47247,     0.47347,     0.47447,     0.47548,     0.47648,     0.47748,     0.47848,     0.47948,\n",
              "           0.48048,     0.48148,     0.48248,     0.48348,     0.48448,     0.48549,     0.48649,     0.48749,     0.48849,     0.48949,     0.49049,     0.49149,     0.49249,     0.49349,     0.49449,      0.4955,      0.4965,      0.4975,      0.4985,      0.4995,      0.5005,      0.5015,      0.5025,      0.5035,\n",
              "            0.5045,     0.50551,     0.50651,     0.50751,     0.50851,     0.50951,     0.51051,     0.51151,     0.51251,     0.51351,     0.51451,     0.51552,     0.51652,     0.51752,     0.51852,     0.51952,     0.52052,     0.52152,     0.52252,     0.52352,     0.52452,     0.52553,     0.52653,     0.52753,\n",
              "           0.52853,     0.52953,     0.53053,     0.53153,     0.53253,     0.53353,     0.53453,     0.53554,     0.53654,     0.53754,     0.53854,     0.53954,     0.54054,     0.54154,     0.54254,     0.54354,     0.54454,     0.54555,     0.54655,     0.54755,     0.54855,     0.54955,     0.55055,     0.55155,\n",
              "           0.55255,     0.55355,     0.55455,     0.55556,     0.55656,     0.55756,     0.55856,     0.55956,     0.56056,     0.56156,     0.56256,     0.56356,     0.56456,     0.56557,     0.56657,     0.56757,     0.56857,     0.56957,     0.57057,     0.57157,     0.57257,     0.57357,     0.57457,     0.57558,\n",
              "           0.57658,     0.57758,     0.57858,     0.57958,     0.58058,     0.58158,     0.58258,     0.58358,     0.58458,     0.58559,     0.58659,     0.58759,     0.58859,     0.58959,     0.59059,     0.59159,     0.59259,     0.59359,     0.59459,      0.5956,      0.5966,      0.5976,      0.5986,      0.5996,\n",
              "            0.6006,      0.6016,      0.6026,      0.6036,      0.6046,     0.60561,     0.60661,     0.60761,     0.60861,     0.60961,     0.61061,     0.61161,     0.61261,     0.61361,     0.61461,     0.61562,     0.61662,     0.61762,     0.61862,     0.61962,     0.62062,     0.62162,     0.62262,     0.62362,\n",
              "           0.62462,     0.62563,     0.62663,     0.62763,     0.62863,     0.62963,     0.63063,     0.63163,     0.63263,     0.63363,     0.63463,     0.63564,     0.63664,     0.63764,     0.63864,     0.63964,     0.64064,     0.64164,     0.64264,     0.64364,     0.64464,     0.64565,     0.64665,     0.64765,\n",
              "           0.64865,     0.64965,     0.65065,     0.65165,     0.65265,     0.65365,     0.65465,     0.65566,     0.65666,     0.65766,     0.65866,     0.65966,     0.66066,     0.66166,     0.66266,     0.66366,     0.66466,     0.66567,     0.66667,     0.66767,     0.66867,     0.66967,     0.67067,     0.67167,\n",
              "           0.67267,     0.67367,     0.67467,     0.67568,     0.67668,     0.67768,     0.67868,     0.67968,     0.68068,     0.68168,     0.68268,     0.68368,     0.68468,     0.68569,     0.68669,     0.68769,     0.68869,     0.68969,     0.69069,     0.69169,     0.69269,     0.69369,     0.69469,      0.6957,\n",
              "            0.6967,      0.6977,      0.6987,      0.6997,      0.7007,      0.7017,      0.7027,      0.7037,      0.7047,     0.70571,     0.70671,     0.70771,     0.70871,     0.70971,     0.71071,     0.71171,     0.71271,     0.71371,     0.71471,     0.71572,     0.71672,     0.71772,     0.71872,     0.71972,\n",
              "           0.72072,     0.72172,     0.72272,     0.72372,     0.72472,     0.72573,     0.72673,     0.72773,     0.72873,     0.72973,     0.73073,     0.73173,     0.73273,     0.73373,     0.73473,     0.73574,     0.73674,     0.73774,     0.73874,     0.73974,     0.74074,     0.74174,     0.74274,     0.74374,\n",
              "           0.74474,     0.74575,     0.74675,     0.74775,     0.74875,     0.74975,     0.75075,     0.75175,     0.75275,     0.75375,     0.75475,     0.75576,     0.75676,     0.75776,     0.75876,     0.75976,     0.76076,     0.76176,     0.76276,     0.76376,     0.76476,     0.76577,     0.76677,     0.76777,\n",
              "           0.76877,     0.76977,     0.77077,     0.77177,     0.77277,     0.77377,     0.77477,     0.77578,     0.77678,     0.77778,     0.77878,     0.77978,     0.78078,     0.78178,     0.78278,     0.78378,     0.78478,     0.78579,     0.78679,     0.78779,     0.78879,     0.78979,     0.79079,     0.79179,\n",
              "           0.79279,     0.79379,     0.79479,      0.7958,      0.7968,      0.7978,      0.7988,      0.7998,      0.8008,      0.8018,      0.8028,      0.8038,      0.8048,     0.80581,     0.80681,     0.80781,     0.80881,     0.80981,     0.81081,     0.81181,     0.81281,     0.81381,     0.81481,     0.81582,\n",
              "           0.81682,     0.81782,     0.81882,     0.81982,     0.82082,     0.82182,     0.82282,     0.82382,     0.82482,     0.82583,     0.82683,     0.82783,     0.82883,     0.82983,     0.83083,     0.83183,     0.83283,     0.83383,     0.83483,     0.83584,     0.83684,     0.83784,     0.83884,     0.83984,\n",
              "           0.84084,     0.84184,     0.84284,     0.84384,     0.84484,     0.84585,     0.84685,     0.84785,     0.84885,     0.84985,     0.85085,     0.85185,     0.85285,     0.85385,     0.85485,     0.85586,     0.85686,     0.85786,     0.85886,     0.85986,     0.86086,     0.86186,     0.86286,     0.86386,\n",
              "           0.86486,     0.86587,     0.86687,     0.86787,     0.86887,     0.86987,     0.87087,     0.87187,     0.87287,     0.87387,     0.87487,     0.87588,     0.87688,     0.87788,     0.87888,     0.87988,     0.88088,     0.88188,     0.88288,     0.88388,     0.88488,     0.88589,     0.88689,     0.88789,\n",
              "           0.88889,     0.88989,     0.89089,     0.89189,     0.89289,     0.89389,     0.89489,      0.8959,      0.8969,      0.8979,      0.8989,      0.8999,      0.9009,      0.9019,      0.9029,      0.9039,      0.9049,     0.90591,     0.90691,     0.90791,     0.90891,     0.90991,     0.91091,     0.91191,\n",
              "           0.91291,     0.91391,     0.91491,     0.91592,     0.91692,     0.91792,     0.91892,     0.91992,     0.92092,     0.92192,     0.92292,     0.92392,     0.92492,     0.92593,     0.92693,     0.92793,     0.92893,     0.92993,     0.93093,     0.93193,     0.93293,     0.93393,     0.93493,     0.93594,\n",
              "           0.93694,     0.93794,     0.93894,     0.93994,     0.94094,     0.94194,     0.94294,     0.94394,     0.94494,     0.94595,     0.94695,     0.94795,     0.94895,     0.94995,     0.95095,     0.95195,     0.95295,     0.95395,     0.95495,     0.95596,     0.95696,     0.95796,     0.95896,     0.95996,\n",
              "           0.96096,     0.96196,     0.96296,     0.96396,     0.96496,     0.96597,     0.96697,     0.96797,     0.96897,     0.96997,     0.97097,     0.97197,     0.97297,     0.97397,     0.97497,     0.97598,     0.97698,     0.97798,     0.97898,     0.97998,     0.98098,     0.98198,     0.98298,     0.98398,\n",
              "           0.98498,     0.98599,     0.98699,     0.98799,     0.98899,     0.98999,     0.99099,     0.99199,     0.99299,     0.99399,     0.99499,       0.996,       0.997,       0.998,       0.999,           1]), array([[          1,           1,           1, ...,   0.0076931,   0.0038465,           0],\n",
              "       [          1,           1,           1, ...,     0.86395,     0.86395,           0],\n",
              "       [          1,           1,           1, ...,   0.0049861,   0.0024931,           0],\n",
              "       [          1,           1,           1, ...,     0.89474,     0.89474,           0]]), 'Recall', 'Precision'], [array([          0,    0.001001,    0.002002,    0.003003,    0.004004,    0.005005,    0.006006,    0.007007,    0.008008,    0.009009,     0.01001,    0.011011,    0.012012,    0.013013,    0.014014,    0.015015,    0.016016,    0.017017,    0.018018,    0.019019,     0.02002,    0.021021,    0.022022,    0.023023,\n",
              "          0.024024,    0.025025,    0.026026,    0.027027,    0.028028,    0.029029,     0.03003,    0.031031,    0.032032,    0.033033,    0.034034,    0.035035,    0.036036,    0.037037,    0.038038,    0.039039,     0.04004,    0.041041,    0.042042,    0.043043,    0.044044,    0.045045,    0.046046,    0.047047,\n",
              "          0.048048,    0.049049,     0.05005,    0.051051,    0.052052,    0.053053,    0.054054,    0.055055,    0.056056,    0.057057,    0.058058,    0.059059,     0.06006,    0.061061,    0.062062,    0.063063,    0.064064,    0.065065,    0.066066,    0.067067,    0.068068,    0.069069,     0.07007,    0.071071,\n",
              "          0.072072,    0.073073,    0.074074,    0.075075,    0.076076,    0.077077,    0.078078,    0.079079,     0.08008,    0.081081,    0.082082,    0.083083,    0.084084,    0.085085,    0.086086,    0.087087,    0.088088,    0.089089,     0.09009,    0.091091,    0.092092,    0.093093,    0.094094,    0.095095,\n",
              "          0.096096,    0.097097,    0.098098,    0.099099,      0.1001,      0.1011,      0.1021,      0.1031,      0.1041,     0.10511,     0.10611,     0.10711,     0.10811,     0.10911,     0.11011,     0.11111,     0.11211,     0.11311,     0.11411,     0.11512,     0.11612,     0.11712,     0.11812,     0.11912,\n",
              "           0.12012,     0.12112,     0.12212,     0.12312,     0.12412,     0.12513,     0.12613,     0.12713,     0.12813,     0.12913,     0.13013,     0.13113,     0.13213,     0.13313,     0.13413,     0.13514,     0.13614,     0.13714,     0.13814,     0.13914,     0.14014,     0.14114,     0.14214,     0.14314,\n",
              "           0.14414,     0.14515,     0.14615,     0.14715,     0.14815,     0.14915,     0.15015,     0.15115,     0.15215,     0.15315,     0.15415,     0.15516,     0.15616,     0.15716,     0.15816,     0.15916,     0.16016,     0.16116,     0.16216,     0.16316,     0.16416,     0.16517,     0.16617,     0.16717,\n",
              "           0.16817,     0.16917,     0.17017,     0.17117,     0.17217,     0.17317,     0.17417,     0.17518,     0.17618,     0.17718,     0.17818,     0.17918,     0.18018,     0.18118,     0.18218,     0.18318,     0.18418,     0.18519,     0.18619,     0.18719,     0.18819,     0.18919,     0.19019,     0.19119,\n",
              "           0.19219,     0.19319,     0.19419,      0.1952,      0.1962,      0.1972,      0.1982,      0.1992,      0.2002,      0.2012,      0.2022,      0.2032,      0.2042,     0.20521,     0.20621,     0.20721,     0.20821,     0.20921,     0.21021,     0.21121,     0.21221,     0.21321,     0.21421,     0.21522,\n",
              "           0.21622,     0.21722,     0.21822,     0.21922,     0.22022,     0.22122,     0.22222,     0.22322,     0.22422,     0.22523,     0.22623,     0.22723,     0.22823,     0.22923,     0.23023,     0.23123,     0.23223,     0.23323,     0.23423,     0.23524,     0.23624,     0.23724,     0.23824,     0.23924,\n",
              "           0.24024,     0.24124,     0.24224,     0.24324,     0.24424,     0.24525,     0.24625,     0.24725,     0.24825,     0.24925,     0.25025,     0.25125,     0.25225,     0.25325,     0.25425,     0.25526,     0.25626,     0.25726,     0.25826,     0.25926,     0.26026,     0.26126,     0.26226,     0.26326,\n",
              "           0.26426,     0.26527,     0.26627,     0.26727,     0.26827,     0.26927,     0.27027,     0.27127,     0.27227,     0.27327,     0.27427,     0.27528,     0.27628,     0.27728,     0.27828,     0.27928,     0.28028,     0.28128,     0.28228,     0.28328,     0.28428,     0.28529,     0.28629,     0.28729,\n",
              "           0.28829,     0.28929,     0.29029,     0.29129,     0.29229,     0.29329,     0.29429,      0.2953,      0.2963,      0.2973,      0.2983,      0.2993,      0.3003,      0.3013,      0.3023,      0.3033,      0.3043,     0.30531,     0.30631,     0.30731,     0.30831,     0.30931,     0.31031,     0.31131,\n",
              "           0.31231,     0.31331,     0.31431,     0.31532,     0.31632,     0.31732,     0.31832,     0.31932,     0.32032,     0.32132,     0.32232,     0.32332,     0.32432,     0.32533,     0.32633,     0.32733,     0.32833,     0.32933,     0.33033,     0.33133,     0.33233,     0.33333,     0.33433,     0.33534,\n",
              "           0.33634,     0.33734,     0.33834,     0.33934,     0.34034,     0.34134,     0.34234,     0.34334,     0.34434,     0.34535,     0.34635,     0.34735,     0.34835,     0.34935,     0.35035,     0.35135,     0.35235,     0.35335,     0.35435,     0.35536,     0.35636,     0.35736,     0.35836,     0.35936,\n",
              "           0.36036,     0.36136,     0.36236,     0.36336,     0.36436,     0.36537,     0.36637,     0.36737,     0.36837,     0.36937,     0.37037,     0.37137,     0.37237,     0.37337,     0.37437,     0.37538,     0.37638,     0.37738,     0.37838,     0.37938,     0.38038,     0.38138,     0.38238,     0.38338,\n",
              "           0.38438,     0.38539,     0.38639,     0.38739,     0.38839,     0.38939,     0.39039,     0.39139,     0.39239,     0.39339,     0.39439,      0.3954,      0.3964,      0.3974,      0.3984,      0.3994,      0.4004,      0.4014,      0.4024,      0.4034,      0.4044,     0.40541,     0.40641,     0.40741,\n",
              "           0.40841,     0.40941,     0.41041,     0.41141,     0.41241,     0.41341,     0.41441,     0.41542,     0.41642,     0.41742,     0.41842,     0.41942,     0.42042,     0.42142,     0.42242,     0.42342,     0.42442,     0.42543,     0.42643,     0.42743,     0.42843,     0.42943,     0.43043,     0.43143,\n",
              "           0.43243,     0.43343,     0.43443,     0.43544,     0.43644,     0.43744,     0.43844,     0.43944,     0.44044,     0.44144,     0.44244,     0.44344,     0.44444,     0.44545,     0.44645,     0.44745,     0.44845,     0.44945,     0.45045,     0.45145,     0.45245,     0.45345,     0.45445,     0.45546,\n",
              "           0.45646,     0.45746,     0.45846,     0.45946,     0.46046,     0.46146,     0.46246,     0.46346,     0.46446,     0.46547,     0.46647,     0.46747,     0.46847,     0.46947,     0.47047,     0.47147,     0.47247,     0.47347,     0.47447,     0.47548,     0.47648,     0.47748,     0.47848,     0.47948,\n",
              "           0.48048,     0.48148,     0.48248,     0.48348,     0.48448,     0.48549,     0.48649,     0.48749,     0.48849,     0.48949,     0.49049,     0.49149,     0.49249,     0.49349,     0.49449,      0.4955,      0.4965,      0.4975,      0.4985,      0.4995,      0.5005,      0.5015,      0.5025,      0.5035,\n",
              "            0.5045,     0.50551,     0.50651,     0.50751,     0.50851,     0.50951,     0.51051,     0.51151,     0.51251,     0.51351,     0.51451,     0.51552,     0.51652,     0.51752,     0.51852,     0.51952,     0.52052,     0.52152,     0.52252,     0.52352,     0.52452,     0.52553,     0.52653,     0.52753,\n",
              "           0.52853,     0.52953,     0.53053,     0.53153,     0.53253,     0.53353,     0.53453,     0.53554,     0.53654,     0.53754,     0.53854,     0.53954,     0.54054,     0.54154,     0.54254,     0.54354,     0.54454,     0.54555,     0.54655,     0.54755,     0.54855,     0.54955,     0.55055,     0.55155,\n",
              "           0.55255,     0.55355,     0.55455,     0.55556,     0.55656,     0.55756,     0.55856,     0.55956,     0.56056,     0.56156,     0.56256,     0.56356,     0.56456,     0.56557,     0.56657,     0.56757,     0.56857,     0.56957,     0.57057,     0.57157,     0.57257,     0.57357,     0.57457,     0.57558,\n",
              "           0.57658,     0.57758,     0.57858,     0.57958,     0.58058,     0.58158,     0.58258,     0.58358,     0.58458,     0.58559,     0.58659,     0.58759,     0.58859,     0.58959,     0.59059,     0.59159,     0.59259,     0.59359,     0.59459,      0.5956,      0.5966,      0.5976,      0.5986,      0.5996,\n",
              "            0.6006,      0.6016,      0.6026,      0.6036,      0.6046,     0.60561,     0.60661,     0.60761,     0.60861,     0.60961,     0.61061,     0.61161,     0.61261,     0.61361,     0.61461,     0.61562,     0.61662,     0.61762,     0.61862,     0.61962,     0.62062,     0.62162,     0.62262,     0.62362,\n",
              "           0.62462,     0.62563,     0.62663,     0.62763,     0.62863,     0.62963,     0.63063,     0.63163,     0.63263,     0.63363,     0.63463,     0.63564,     0.63664,     0.63764,     0.63864,     0.63964,     0.64064,     0.64164,     0.64264,     0.64364,     0.64464,     0.64565,     0.64665,     0.64765,\n",
              "           0.64865,     0.64965,     0.65065,     0.65165,     0.65265,     0.65365,     0.65465,     0.65566,     0.65666,     0.65766,     0.65866,     0.65966,     0.66066,     0.66166,     0.66266,     0.66366,     0.66466,     0.66567,     0.66667,     0.66767,     0.66867,     0.66967,     0.67067,     0.67167,\n",
              "           0.67267,     0.67367,     0.67467,     0.67568,     0.67668,     0.67768,     0.67868,     0.67968,     0.68068,     0.68168,     0.68268,     0.68368,     0.68468,     0.68569,     0.68669,     0.68769,     0.68869,     0.68969,     0.69069,     0.69169,     0.69269,     0.69369,     0.69469,      0.6957,\n",
              "            0.6967,      0.6977,      0.6987,      0.6997,      0.7007,      0.7017,      0.7027,      0.7037,      0.7047,     0.70571,     0.70671,     0.70771,     0.70871,     0.70971,     0.71071,     0.71171,     0.71271,     0.71371,     0.71471,     0.71572,     0.71672,     0.71772,     0.71872,     0.71972,\n",
              "           0.72072,     0.72172,     0.72272,     0.72372,     0.72472,     0.72573,     0.72673,     0.72773,     0.72873,     0.72973,     0.73073,     0.73173,     0.73273,     0.73373,     0.73473,     0.73574,     0.73674,     0.73774,     0.73874,     0.73974,     0.74074,     0.74174,     0.74274,     0.74374,\n",
              "           0.74474,     0.74575,     0.74675,     0.74775,     0.74875,     0.74975,     0.75075,     0.75175,     0.75275,     0.75375,     0.75475,     0.75576,     0.75676,     0.75776,     0.75876,     0.75976,     0.76076,     0.76176,     0.76276,     0.76376,     0.76476,     0.76577,     0.76677,     0.76777,\n",
              "           0.76877,     0.76977,     0.77077,     0.77177,     0.77277,     0.77377,     0.77477,     0.77578,     0.77678,     0.77778,     0.77878,     0.77978,     0.78078,     0.78178,     0.78278,     0.78378,     0.78478,     0.78579,     0.78679,     0.78779,     0.78879,     0.78979,     0.79079,     0.79179,\n",
              "           0.79279,     0.79379,     0.79479,      0.7958,      0.7968,      0.7978,      0.7988,      0.7998,      0.8008,      0.8018,      0.8028,      0.8038,      0.8048,     0.80581,     0.80681,     0.80781,     0.80881,     0.80981,     0.81081,     0.81181,     0.81281,     0.81381,     0.81481,     0.81582,\n",
              "           0.81682,     0.81782,     0.81882,     0.81982,     0.82082,     0.82182,     0.82282,     0.82382,     0.82482,     0.82583,     0.82683,     0.82783,     0.82883,     0.82983,     0.83083,     0.83183,     0.83283,     0.83383,     0.83483,     0.83584,     0.83684,     0.83784,     0.83884,     0.83984,\n",
              "           0.84084,     0.84184,     0.84284,     0.84384,     0.84484,     0.84585,     0.84685,     0.84785,     0.84885,     0.84985,     0.85085,     0.85185,     0.85285,     0.85385,     0.85485,     0.85586,     0.85686,     0.85786,     0.85886,     0.85986,     0.86086,     0.86186,     0.86286,     0.86386,\n",
              "           0.86486,     0.86587,     0.86687,     0.86787,     0.86887,     0.86987,     0.87087,     0.87187,     0.87287,     0.87387,     0.87487,     0.87588,     0.87688,     0.87788,     0.87888,     0.87988,     0.88088,     0.88188,     0.88288,     0.88388,     0.88488,     0.88589,     0.88689,     0.88789,\n",
              "           0.88889,     0.88989,     0.89089,     0.89189,     0.89289,     0.89389,     0.89489,      0.8959,      0.8969,      0.8979,      0.8989,      0.8999,      0.9009,      0.9019,      0.9029,      0.9039,      0.9049,     0.90591,     0.90691,     0.90791,     0.90891,     0.90991,     0.91091,     0.91191,\n",
              "           0.91291,     0.91391,     0.91491,     0.91592,     0.91692,     0.91792,     0.91892,     0.91992,     0.92092,     0.92192,     0.92292,     0.92392,     0.92492,     0.92593,     0.92693,     0.92793,     0.92893,     0.92993,     0.93093,     0.93193,     0.93293,     0.93393,     0.93493,     0.93594,\n",
              "           0.93694,     0.93794,     0.93894,     0.93994,     0.94094,     0.94194,     0.94294,     0.94394,     0.94494,     0.94595,     0.94695,     0.94795,     0.94895,     0.94995,     0.95095,     0.95195,     0.95295,     0.95395,     0.95495,     0.95596,     0.95696,     0.95796,     0.95896,     0.95996,\n",
              "           0.96096,     0.96196,     0.96296,     0.96396,     0.96496,     0.96597,     0.96697,     0.96797,     0.96897,     0.96997,     0.97097,     0.97197,     0.97297,     0.97397,     0.97497,     0.97598,     0.97698,     0.97798,     0.97898,     0.97998,     0.98098,     0.98198,     0.98298,     0.98398,\n",
              "           0.98498,     0.98599,     0.98699,     0.98799,     0.98899,     0.98999,     0.99099,     0.99199,     0.99299,     0.99399,     0.99499,       0.996,       0.997,       0.998,       0.999,           1]), array([[    0.33333,     0.33333,     0.38455, ...,           0,           0,           0],\n",
              "       [    0.69972,     0.69972,     0.77846, ...,           0,           0,           0],\n",
              "       [    0.33846,     0.33846,     0.43668, ...,           0,           0,           0],\n",
              "       [    0.77273,     0.77273,     0.82556, ...,           0,           0,           0]]), 'Confidence', 'F1'], [array([          0,    0.001001,    0.002002,    0.003003,    0.004004,    0.005005,    0.006006,    0.007007,    0.008008,    0.009009,     0.01001,    0.011011,    0.012012,    0.013013,    0.014014,    0.015015,    0.016016,    0.017017,    0.018018,    0.019019,     0.02002,    0.021021,    0.022022,    0.023023,\n",
              "          0.024024,    0.025025,    0.026026,    0.027027,    0.028028,    0.029029,     0.03003,    0.031031,    0.032032,    0.033033,    0.034034,    0.035035,    0.036036,    0.037037,    0.038038,    0.039039,     0.04004,    0.041041,    0.042042,    0.043043,    0.044044,    0.045045,    0.046046,    0.047047,\n",
              "          0.048048,    0.049049,     0.05005,    0.051051,    0.052052,    0.053053,    0.054054,    0.055055,    0.056056,    0.057057,    0.058058,    0.059059,     0.06006,    0.061061,    0.062062,    0.063063,    0.064064,    0.065065,    0.066066,    0.067067,    0.068068,    0.069069,     0.07007,    0.071071,\n",
              "          0.072072,    0.073073,    0.074074,    0.075075,    0.076076,    0.077077,    0.078078,    0.079079,     0.08008,    0.081081,    0.082082,    0.083083,    0.084084,    0.085085,    0.086086,    0.087087,    0.088088,    0.089089,     0.09009,    0.091091,    0.092092,    0.093093,    0.094094,    0.095095,\n",
              "          0.096096,    0.097097,    0.098098,    0.099099,      0.1001,      0.1011,      0.1021,      0.1031,      0.1041,     0.10511,     0.10611,     0.10711,     0.10811,     0.10911,     0.11011,     0.11111,     0.11211,     0.11311,     0.11411,     0.11512,     0.11612,     0.11712,     0.11812,     0.11912,\n",
              "           0.12012,     0.12112,     0.12212,     0.12312,     0.12412,     0.12513,     0.12613,     0.12713,     0.12813,     0.12913,     0.13013,     0.13113,     0.13213,     0.13313,     0.13413,     0.13514,     0.13614,     0.13714,     0.13814,     0.13914,     0.14014,     0.14114,     0.14214,     0.14314,\n",
              "           0.14414,     0.14515,     0.14615,     0.14715,     0.14815,     0.14915,     0.15015,     0.15115,     0.15215,     0.15315,     0.15415,     0.15516,     0.15616,     0.15716,     0.15816,     0.15916,     0.16016,     0.16116,     0.16216,     0.16316,     0.16416,     0.16517,     0.16617,     0.16717,\n",
              "           0.16817,     0.16917,     0.17017,     0.17117,     0.17217,     0.17317,     0.17417,     0.17518,     0.17618,     0.17718,     0.17818,     0.17918,     0.18018,     0.18118,     0.18218,     0.18318,     0.18418,     0.18519,     0.18619,     0.18719,     0.18819,     0.18919,     0.19019,     0.19119,\n",
              "           0.19219,     0.19319,     0.19419,      0.1952,      0.1962,      0.1972,      0.1982,      0.1992,      0.2002,      0.2012,      0.2022,      0.2032,      0.2042,     0.20521,     0.20621,     0.20721,     0.20821,     0.20921,     0.21021,     0.21121,     0.21221,     0.21321,     0.21421,     0.21522,\n",
              "           0.21622,     0.21722,     0.21822,     0.21922,     0.22022,     0.22122,     0.22222,     0.22322,     0.22422,     0.22523,     0.22623,     0.22723,     0.22823,     0.22923,     0.23023,     0.23123,     0.23223,     0.23323,     0.23423,     0.23524,     0.23624,     0.23724,     0.23824,     0.23924,\n",
              "           0.24024,     0.24124,     0.24224,     0.24324,     0.24424,     0.24525,     0.24625,     0.24725,     0.24825,     0.24925,     0.25025,     0.25125,     0.25225,     0.25325,     0.25425,     0.25526,     0.25626,     0.25726,     0.25826,     0.25926,     0.26026,     0.26126,     0.26226,     0.26326,\n",
              "           0.26426,     0.26527,     0.26627,     0.26727,     0.26827,     0.26927,     0.27027,     0.27127,     0.27227,     0.27327,     0.27427,     0.27528,     0.27628,     0.27728,     0.27828,     0.27928,     0.28028,     0.28128,     0.28228,     0.28328,     0.28428,     0.28529,     0.28629,     0.28729,\n",
              "           0.28829,     0.28929,     0.29029,     0.29129,     0.29229,     0.29329,     0.29429,      0.2953,      0.2963,      0.2973,      0.2983,      0.2993,      0.3003,      0.3013,      0.3023,      0.3033,      0.3043,     0.30531,     0.30631,     0.30731,     0.30831,     0.30931,     0.31031,     0.31131,\n",
              "           0.31231,     0.31331,     0.31431,     0.31532,     0.31632,     0.31732,     0.31832,     0.31932,     0.32032,     0.32132,     0.32232,     0.32332,     0.32432,     0.32533,     0.32633,     0.32733,     0.32833,     0.32933,     0.33033,     0.33133,     0.33233,     0.33333,     0.33433,     0.33534,\n",
              "           0.33634,     0.33734,     0.33834,     0.33934,     0.34034,     0.34134,     0.34234,     0.34334,     0.34434,     0.34535,     0.34635,     0.34735,     0.34835,     0.34935,     0.35035,     0.35135,     0.35235,     0.35335,     0.35435,     0.35536,     0.35636,     0.35736,     0.35836,     0.35936,\n",
              "           0.36036,     0.36136,     0.36236,     0.36336,     0.36436,     0.36537,     0.36637,     0.36737,     0.36837,     0.36937,     0.37037,     0.37137,     0.37237,     0.37337,     0.37437,     0.37538,     0.37638,     0.37738,     0.37838,     0.37938,     0.38038,     0.38138,     0.38238,     0.38338,\n",
              "           0.38438,     0.38539,     0.38639,     0.38739,     0.38839,     0.38939,     0.39039,     0.39139,     0.39239,     0.39339,     0.39439,      0.3954,      0.3964,      0.3974,      0.3984,      0.3994,      0.4004,      0.4014,      0.4024,      0.4034,      0.4044,     0.40541,     0.40641,     0.40741,\n",
              "           0.40841,     0.40941,     0.41041,     0.41141,     0.41241,     0.41341,     0.41441,     0.41542,     0.41642,     0.41742,     0.41842,     0.41942,     0.42042,     0.42142,     0.42242,     0.42342,     0.42442,     0.42543,     0.42643,     0.42743,     0.42843,     0.42943,     0.43043,     0.43143,\n",
              "           0.43243,     0.43343,     0.43443,     0.43544,     0.43644,     0.43744,     0.43844,     0.43944,     0.44044,     0.44144,     0.44244,     0.44344,     0.44444,     0.44545,     0.44645,     0.44745,     0.44845,     0.44945,     0.45045,     0.45145,     0.45245,     0.45345,     0.45445,     0.45546,\n",
              "           0.45646,     0.45746,     0.45846,     0.45946,     0.46046,     0.46146,     0.46246,     0.46346,     0.46446,     0.46547,     0.46647,     0.46747,     0.46847,     0.46947,     0.47047,     0.47147,     0.47247,     0.47347,     0.47447,     0.47548,     0.47648,     0.47748,     0.47848,     0.47948,\n",
              "           0.48048,     0.48148,     0.48248,     0.48348,     0.48448,     0.48549,     0.48649,     0.48749,     0.48849,     0.48949,     0.49049,     0.49149,     0.49249,     0.49349,     0.49449,      0.4955,      0.4965,      0.4975,      0.4985,      0.4995,      0.5005,      0.5015,      0.5025,      0.5035,\n",
              "            0.5045,     0.50551,     0.50651,     0.50751,     0.50851,     0.50951,     0.51051,     0.51151,     0.51251,     0.51351,     0.51451,     0.51552,     0.51652,     0.51752,     0.51852,     0.51952,     0.52052,     0.52152,     0.52252,     0.52352,     0.52452,     0.52553,     0.52653,     0.52753,\n",
              "           0.52853,     0.52953,     0.53053,     0.53153,     0.53253,     0.53353,     0.53453,     0.53554,     0.53654,     0.53754,     0.53854,     0.53954,     0.54054,     0.54154,     0.54254,     0.54354,     0.54454,     0.54555,     0.54655,     0.54755,     0.54855,     0.54955,     0.55055,     0.55155,\n",
              "           0.55255,     0.55355,     0.55455,     0.55556,     0.55656,     0.55756,     0.55856,     0.55956,     0.56056,     0.56156,     0.56256,     0.56356,     0.56456,     0.56557,     0.56657,     0.56757,     0.56857,     0.56957,     0.57057,     0.57157,     0.57257,     0.57357,     0.57457,     0.57558,\n",
              "           0.57658,     0.57758,     0.57858,     0.57958,     0.58058,     0.58158,     0.58258,     0.58358,     0.58458,     0.58559,     0.58659,     0.58759,     0.58859,     0.58959,     0.59059,     0.59159,     0.59259,     0.59359,     0.59459,      0.5956,      0.5966,      0.5976,      0.5986,      0.5996,\n",
              "            0.6006,      0.6016,      0.6026,      0.6036,      0.6046,     0.60561,     0.60661,     0.60761,     0.60861,     0.60961,     0.61061,     0.61161,     0.61261,     0.61361,     0.61461,     0.61562,     0.61662,     0.61762,     0.61862,     0.61962,     0.62062,     0.62162,     0.62262,     0.62362,\n",
              "           0.62462,     0.62563,     0.62663,     0.62763,     0.62863,     0.62963,     0.63063,     0.63163,     0.63263,     0.63363,     0.63463,     0.63564,     0.63664,     0.63764,     0.63864,     0.63964,     0.64064,     0.64164,     0.64264,     0.64364,     0.64464,     0.64565,     0.64665,     0.64765,\n",
              "           0.64865,     0.64965,     0.65065,     0.65165,     0.65265,     0.65365,     0.65465,     0.65566,     0.65666,     0.65766,     0.65866,     0.65966,     0.66066,     0.66166,     0.66266,     0.66366,     0.66466,     0.66567,     0.66667,     0.66767,     0.66867,     0.66967,     0.67067,     0.67167,\n",
              "           0.67267,     0.67367,     0.67467,     0.67568,     0.67668,     0.67768,     0.67868,     0.67968,     0.68068,     0.68168,     0.68268,     0.68368,     0.68468,     0.68569,     0.68669,     0.68769,     0.68869,     0.68969,     0.69069,     0.69169,     0.69269,     0.69369,     0.69469,      0.6957,\n",
              "            0.6967,      0.6977,      0.6987,      0.6997,      0.7007,      0.7017,      0.7027,      0.7037,      0.7047,     0.70571,     0.70671,     0.70771,     0.70871,     0.70971,     0.71071,     0.71171,     0.71271,     0.71371,     0.71471,     0.71572,     0.71672,     0.71772,     0.71872,     0.71972,\n",
              "           0.72072,     0.72172,     0.72272,     0.72372,     0.72472,     0.72573,     0.72673,     0.72773,     0.72873,     0.72973,     0.73073,     0.73173,     0.73273,     0.73373,     0.73473,     0.73574,     0.73674,     0.73774,     0.73874,     0.73974,     0.74074,     0.74174,     0.74274,     0.74374,\n",
              "           0.74474,     0.74575,     0.74675,     0.74775,     0.74875,     0.74975,     0.75075,     0.75175,     0.75275,     0.75375,     0.75475,     0.75576,     0.75676,     0.75776,     0.75876,     0.75976,     0.76076,     0.76176,     0.76276,     0.76376,     0.76476,     0.76577,     0.76677,     0.76777,\n",
              "           0.76877,     0.76977,     0.77077,     0.77177,     0.77277,     0.77377,     0.77477,     0.77578,     0.77678,     0.77778,     0.77878,     0.77978,     0.78078,     0.78178,     0.78278,     0.78378,     0.78478,     0.78579,     0.78679,     0.78779,     0.78879,     0.78979,     0.79079,     0.79179,\n",
              "           0.79279,     0.79379,     0.79479,      0.7958,      0.7968,      0.7978,      0.7988,      0.7998,      0.8008,      0.8018,      0.8028,      0.8038,      0.8048,     0.80581,     0.80681,     0.80781,     0.80881,     0.80981,     0.81081,     0.81181,     0.81281,     0.81381,     0.81481,     0.81582,\n",
              "           0.81682,     0.81782,     0.81882,     0.81982,     0.82082,     0.82182,     0.82282,     0.82382,     0.82482,     0.82583,     0.82683,     0.82783,     0.82883,     0.82983,     0.83083,     0.83183,     0.83283,     0.83383,     0.83483,     0.83584,     0.83684,     0.83784,     0.83884,     0.83984,\n",
              "           0.84084,     0.84184,     0.84284,     0.84384,     0.84484,     0.84585,     0.84685,     0.84785,     0.84885,     0.84985,     0.85085,     0.85185,     0.85285,     0.85385,     0.85485,     0.85586,     0.85686,     0.85786,     0.85886,     0.85986,     0.86086,     0.86186,     0.86286,     0.86386,\n",
              "           0.86486,     0.86587,     0.86687,     0.86787,     0.86887,     0.86987,     0.87087,     0.87187,     0.87287,     0.87387,     0.87487,     0.87588,     0.87688,     0.87788,     0.87888,     0.87988,     0.88088,     0.88188,     0.88288,     0.88388,     0.88488,     0.88589,     0.88689,     0.88789,\n",
              "           0.88889,     0.88989,     0.89089,     0.89189,     0.89289,     0.89389,     0.89489,      0.8959,      0.8969,      0.8979,      0.8989,      0.8999,      0.9009,      0.9019,      0.9029,      0.9039,      0.9049,     0.90591,     0.90691,     0.90791,     0.90891,     0.90991,     0.91091,     0.91191,\n",
              "           0.91291,     0.91391,     0.91491,     0.91592,     0.91692,     0.91792,     0.91892,     0.91992,     0.92092,     0.92192,     0.92292,     0.92392,     0.92492,     0.92593,     0.92693,     0.92793,     0.92893,     0.92993,     0.93093,     0.93193,     0.93293,     0.93393,     0.93493,     0.93594,\n",
              "           0.93694,     0.93794,     0.93894,     0.93994,     0.94094,     0.94194,     0.94294,     0.94394,     0.94494,     0.94595,     0.94695,     0.94795,     0.94895,     0.94995,     0.95095,     0.95195,     0.95295,     0.95395,     0.95495,     0.95596,     0.95696,     0.95796,     0.95896,     0.95996,\n",
              "           0.96096,     0.96196,     0.96296,     0.96396,     0.96496,     0.96597,     0.96697,     0.96797,     0.96897,     0.96997,     0.97097,     0.97197,     0.97297,     0.97397,     0.97497,     0.97598,     0.97698,     0.97798,     0.97898,     0.97998,     0.98098,     0.98198,     0.98298,     0.98398,\n",
              "           0.98498,     0.98599,     0.98699,     0.98799,     0.98899,     0.98999,     0.99099,     0.99199,     0.99299,     0.99399,     0.99499,       0.996,       0.997,       0.998,       0.999,           1]), array([[    0.20225,     0.20225,     0.24124, ...,           1,           1,           1],\n",
              "       [    0.53814,     0.53814,     0.63728, ...,           1,           1,           1],\n",
              "       [    0.20755,     0.20755,     0.28661, ...,           1,           1,           1],\n",
              "       [    0.62963,     0.62963,     0.70294, ...,           1,           1,           1]]), 'Confidence', 'Precision'], [array([          0,    0.001001,    0.002002,    0.003003,    0.004004,    0.005005,    0.006006,    0.007007,    0.008008,    0.009009,     0.01001,    0.011011,    0.012012,    0.013013,    0.014014,    0.015015,    0.016016,    0.017017,    0.018018,    0.019019,     0.02002,    0.021021,    0.022022,    0.023023,\n",
              "          0.024024,    0.025025,    0.026026,    0.027027,    0.028028,    0.029029,     0.03003,    0.031031,    0.032032,    0.033033,    0.034034,    0.035035,    0.036036,    0.037037,    0.038038,    0.039039,     0.04004,    0.041041,    0.042042,    0.043043,    0.044044,    0.045045,    0.046046,    0.047047,\n",
              "          0.048048,    0.049049,     0.05005,    0.051051,    0.052052,    0.053053,    0.054054,    0.055055,    0.056056,    0.057057,    0.058058,    0.059059,     0.06006,    0.061061,    0.062062,    0.063063,    0.064064,    0.065065,    0.066066,    0.067067,    0.068068,    0.069069,     0.07007,    0.071071,\n",
              "          0.072072,    0.073073,    0.074074,    0.075075,    0.076076,    0.077077,    0.078078,    0.079079,     0.08008,    0.081081,    0.082082,    0.083083,    0.084084,    0.085085,    0.086086,    0.087087,    0.088088,    0.089089,     0.09009,    0.091091,    0.092092,    0.093093,    0.094094,    0.095095,\n",
              "          0.096096,    0.097097,    0.098098,    0.099099,      0.1001,      0.1011,      0.1021,      0.1031,      0.1041,     0.10511,     0.10611,     0.10711,     0.10811,     0.10911,     0.11011,     0.11111,     0.11211,     0.11311,     0.11411,     0.11512,     0.11612,     0.11712,     0.11812,     0.11912,\n",
              "           0.12012,     0.12112,     0.12212,     0.12312,     0.12412,     0.12513,     0.12613,     0.12713,     0.12813,     0.12913,     0.13013,     0.13113,     0.13213,     0.13313,     0.13413,     0.13514,     0.13614,     0.13714,     0.13814,     0.13914,     0.14014,     0.14114,     0.14214,     0.14314,\n",
              "           0.14414,     0.14515,     0.14615,     0.14715,     0.14815,     0.14915,     0.15015,     0.15115,     0.15215,     0.15315,     0.15415,     0.15516,     0.15616,     0.15716,     0.15816,     0.15916,     0.16016,     0.16116,     0.16216,     0.16316,     0.16416,     0.16517,     0.16617,     0.16717,\n",
              "           0.16817,     0.16917,     0.17017,     0.17117,     0.17217,     0.17317,     0.17417,     0.17518,     0.17618,     0.17718,     0.17818,     0.17918,     0.18018,     0.18118,     0.18218,     0.18318,     0.18418,     0.18519,     0.18619,     0.18719,     0.18819,     0.18919,     0.19019,     0.19119,\n",
              "           0.19219,     0.19319,     0.19419,      0.1952,      0.1962,      0.1972,      0.1982,      0.1992,      0.2002,      0.2012,      0.2022,      0.2032,      0.2042,     0.20521,     0.20621,     0.20721,     0.20821,     0.20921,     0.21021,     0.21121,     0.21221,     0.21321,     0.21421,     0.21522,\n",
              "           0.21622,     0.21722,     0.21822,     0.21922,     0.22022,     0.22122,     0.22222,     0.22322,     0.22422,     0.22523,     0.22623,     0.22723,     0.22823,     0.22923,     0.23023,     0.23123,     0.23223,     0.23323,     0.23423,     0.23524,     0.23624,     0.23724,     0.23824,     0.23924,\n",
              "           0.24024,     0.24124,     0.24224,     0.24324,     0.24424,     0.24525,     0.24625,     0.24725,     0.24825,     0.24925,     0.25025,     0.25125,     0.25225,     0.25325,     0.25425,     0.25526,     0.25626,     0.25726,     0.25826,     0.25926,     0.26026,     0.26126,     0.26226,     0.26326,\n",
              "           0.26426,     0.26527,     0.26627,     0.26727,     0.26827,     0.26927,     0.27027,     0.27127,     0.27227,     0.27327,     0.27427,     0.27528,     0.27628,     0.27728,     0.27828,     0.27928,     0.28028,     0.28128,     0.28228,     0.28328,     0.28428,     0.28529,     0.28629,     0.28729,\n",
              "           0.28829,     0.28929,     0.29029,     0.29129,     0.29229,     0.29329,     0.29429,      0.2953,      0.2963,      0.2973,      0.2983,      0.2993,      0.3003,      0.3013,      0.3023,      0.3033,      0.3043,     0.30531,     0.30631,     0.30731,     0.30831,     0.30931,     0.31031,     0.31131,\n",
              "           0.31231,     0.31331,     0.31431,     0.31532,     0.31632,     0.31732,     0.31832,     0.31932,     0.32032,     0.32132,     0.32232,     0.32332,     0.32432,     0.32533,     0.32633,     0.32733,     0.32833,     0.32933,     0.33033,     0.33133,     0.33233,     0.33333,     0.33433,     0.33534,\n",
              "           0.33634,     0.33734,     0.33834,     0.33934,     0.34034,     0.34134,     0.34234,     0.34334,     0.34434,     0.34535,     0.34635,     0.34735,     0.34835,     0.34935,     0.35035,     0.35135,     0.35235,     0.35335,     0.35435,     0.35536,     0.35636,     0.35736,     0.35836,     0.35936,\n",
              "           0.36036,     0.36136,     0.36236,     0.36336,     0.36436,     0.36537,     0.36637,     0.36737,     0.36837,     0.36937,     0.37037,     0.37137,     0.37237,     0.37337,     0.37437,     0.37538,     0.37638,     0.37738,     0.37838,     0.37938,     0.38038,     0.38138,     0.38238,     0.38338,\n",
              "           0.38438,     0.38539,     0.38639,     0.38739,     0.38839,     0.38939,     0.39039,     0.39139,     0.39239,     0.39339,     0.39439,      0.3954,      0.3964,      0.3974,      0.3984,      0.3994,      0.4004,      0.4014,      0.4024,      0.4034,      0.4044,     0.40541,     0.40641,     0.40741,\n",
              "           0.40841,     0.40941,     0.41041,     0.41141,     0.41241,     0.41341,     0.41441,     0.41542,     0.41642,     0.41742,     0.41842,     0.41942,     0.42042,     0.42142,     0.42242,     0.42342,     0.42442,     0.42543,     0.42643,     0.42743,     0.42843,     0.42943,     0.43043,     0.43143,\n",
              "           0.43243,     0.43343,     0.43443,     0.43544,     0.43644,     0.43744,     0.43844,     0.43944,     0.44044,     0.44144,     0.44244,     0.44344,     0.44444,     0.44545,     0.44645,     0.44745,     0.44845,     0.44945,     0.45045,     0.45145,     0.45245,     0.45345,     0.45445,     0.45546,\n",
              "           0.45646,     0.45746,     0.45846,     0.45946,     0.46046,     0.46146,     0.46246,     0.46346,     0.46446,     0.46547,     0.46647,     0.46747,     0.46847,     0.46947,     0.47047,     0.47147,     0.47247,     0.47347,     0.47447,     0.47548,     0.47648,     0.47748,     0.47848,     0.47948,\n",
              "           0.48048,     0.48148,     0.48248,     0.48348,     0.48448,     0.48549,     0.48649,     0.48749,     0.48849,     0.48949,     0.49049,     0.49149,     0.49249,     0.49349,     0.49449,      0.4955,      0.4965,      0.4975,      0.4985,      0.4995,      0.5005,      0.5015,      0.5025,      0.5035,\n",
              "            0.5045,     0.50551,     0.50651,     0.50751,     0.50851,     0.50951,     0.51051,     0.51151,     0.51251,     0.51351,     0.51451,     0.51552,     0.51652,     0.51752,     0.51852,     0.51952,     0.52052,     0.52152,     0.52252,     0.52352,     0.52452,     0.52553,     0.52653,     0.52753,\n",
              "           0.52853,     0.52953,     0.53053,     0.53153,     0.53253,     0.53353,     0.53453,     0.53554,     0.53654,     0.53754,     0.53854,     0.53954,     0.54054,     0.54154,     0.54254,     0.54354,     0.54454,     0.54555,     0.54655,     0.54755,     0.54855,     0.54955,     0.55055,     0.55155,\n",
              "           0.55255,     0.55355,     0.55455,     0.55556,     0.55656,     0.55756,     0.55856,     0.55956,     0.56056,     0.56156,     0.56256,     0.56356,     0.56456,     0.56557,     0.56657,     0.56757,     0.56857,     0.56957,     0.57057,     0.57157,     0.57257,     0.57357,     0.57457,     0.57558,\n",
              "           0.57658,     0.57758,     0.57858,     0.57958,     0.58058,     0.58158,     0.58258,     0.58358,     0.58458,     0.58559,     0.58659,     0.58759,     0.58859,     0.58959,     0.59059,     0.59159,     0.59259,     0.59359,     0.59459,      0.5956,      0.5966,      0.5976,      0.5986,      0.5996,\n",
              "            0.6006,      0.6016,      0.6026,      0.6036,      0.6046,     0.60561,     0.60661,     0.60761,     0.60861,     0.60961,     0.61061,     0.61161,     0.61261,     0.61361,     0.61461,     0.61562,     0.61662,     0.61762,     0.61862,     0.61962,     0.62062,     0.62162,     0.62262,     0.62362,\n",
              "           0.62462,     0.62563,     0.62663,     0.62763,     0.62863,     0.62963,     0.63063,     0.63163,     0.63263,     0.63363,     0.63463,     0.63564,     0.63664,     0.63764,     0.63864,     0.63964,     0.64064,     0.64164,     0.64264,     0.64364,     0.64464,     0.64565,     0.64665,     0.64765,\n",
              "           0.64865,     0.64965,     0.65065,     0.65165,     0.65265,     0.65365,     0.65465,     0.65566,     0.65666,     0.65766,     0.65866,     0.65966,     0.66066,     0.66166,     0.66266,     0.66366,     0.66466,     0.66567,     0.66667,     0.66767,     0.66867,     0.66967,     0.67067,     0.67167,\n",
              "           0.67267,     0.67367,     0.67467,     0.67568,     0.67668,     0.67768,     0.67868,     0.67968,     0.68068,     0.68168,     0.68268,     0.68368,     0.68468,     0.68569,     0.68669,     0.68769,     0.68869,     0.68969,     0.69069,     0.69169,     0.69269,     0.69369,     0.69469,      0.6957,\n",
              "            0.6967,      0.6977,      0.6987,      0.6997,      0.7007,      0.7017,      0.7027,      0.7037,      0.7047,     0.70571,     0.70671,     0.70771,     0.70871,     0.70971,     0.71071,     0.71171,     0.71271,     0.71371,     0.71471,     0.71572,     0.71672,     0.71772,     0.71872,     0.71972,\n",
              "           0.72072,     0.72172,     0.72272,     0.72372,     0.72472,     0.72573,     0.72673,     0.72773,     0.72873,     0.72973,     0.73073,     0.73173,     0.73273,     0.73373,     0.73473,     0.73574,     0.73674,     0.73774,     0.73874,     0.73974,     0.74074,     0.74174,     0.74274,     0.74374,\n",
              "           0.74474,     0.74575,     0.74675,     0.74775,     0.74875,     0.74975,     0.75075,     0.75175,     0.75275,     0.75375,     0.75475,     0.75576,     0.75676,     0.75776,     0.75876,     0.75976,     0.76076,     0.76176,     0.76276,     0.76376,     0.76476,     0.76577,     0.76677,     0.76777,\n",
              "           0.76877,     0.76977,     0.77077,     0.77177,     0.77277,     0.77377,     0.77477,     0.77578,     0.77678,     0.77778,     0.77878,     0.77978,     0.78078,     0.78178,     0.78278,     0.78378,     0.78478,     0.78579,     0.78679,     0.78779,     0.78879,     0.78979,     0.79079,     0.79179,\n",
              "           0.79279,     0.79379,     0.79479,      0.7958,      0.7968,      0.7978,      0.7988,      0.7998,      0.8008,      0.8018,      0.8028,      0.8038,      0.8048,     0.80581,     0.80681,     0.80781,     0.80881,     0.80981,     0.81081,     0.81181,     0.81281,     0.81381,     0.81481,     0.81582,\n",
              "           0.81682,     0.81782,     0.81882,     0.81982,     0.82082,     0.82182,     0.82282,     0.82382,     0.82482,     0.82583,     0.82683,     0.82783,     0.82883,     0.82983,     0.83083,     0.83183,     0.83283,     0.83383,     0.83483,     0.83584,     0.83684,     0.83784,     0.83884,     0.83984,\n",
              "           0.84084,     0.84184,     0.84284,     0.84384,     0.84484,     0.84585,     0.84685,     0.84785,     0.84885,     0.84985,     0.85085,     0.85185,     0.85285,     0.85385,     0.85485,     0.85586,     0.85686,     0.85786,     0.85886,     0.85986,     0.86086,     0.86186,     0.86286,     0.86386,\n",
              "           0.86486,     0.86587,     0.86687,     0.86787,     0.86887,     0.86987,     0.87087,     0.87187,     0.87287,     0.87387,     0.87487,     0.87588,     0.87688,     0.87788,     0.87888,     0.87988,     0.88088,     0.88188,     0.88288,     0.88388,     0.88488,     0.88589,     0.88689,     0.88789,\n",
              "           0.88889,     0.88989,     0.89089,     0.89189,     0.89289,     0.89389,     0.89489,      0.8959,      0.8969,      0.8979,      0.8989,      0.8999,      0.9009,      0.9019,      0.9029,      0.9039,      0.9049,     0.90591,     0.90691,     0.90791,     0.90891,     0.90991,     0.91091,     0.91191,\n",
              "           0.91291,     0.91391,     0.91491,     0.91592,     0.91692,     0.91792,     0.91892,     0.91992,     0.92092,     0.92192,     0.92292,     0.92392,     0.92492,     0.92593,     0.92693,     0.92793,     0.92893,     0.92993,     0.93093,     0.93193,     0.93293,     0.93393,     0.93493,     0.93594,\n",
              "           0.93694,     0.93794,     0.93894,     0.93994,     0.94094,     0.94194,     0.94294,     0.94394,     0.94494,     0.94595,     0.94695,     0.94795,     0.94895,     0.94995,     0.95095,     0.95195,     0.95295,     0.95395,     0.95495,     0.95596,     0.95696,     0.95796,     0.95896,     0.95996,\n",
              "           0.96096,     0.96196,     0.96296,     0.96396,     0.96496,     0.96597,     0.96697,     0.96797,     0.96897,     0.96997,     0.97097,     0.97197,     0.97297,     0.97397,     0.97497,     0.97598,     0.97698,     0.97798,     0.97898,     0.97998,     0.98098,     0.98198,     0.98298,     0.98398,\n",
              "           0.98498,     0.98599,     0.98699,     0.98799,     0.98899,     0.98999,     0.99099,     0.99199,     0.99299,     0.99399,     0.99499,       0.996,       0.997,       0.998,       0.999,           1]), array([[    0.94737,     0.94737,     0.94737, ...,           0,           0,           0],\n",
              "       [          1,           1,           1, ...,           0,           0,           0],\n",
              "       [    0.91667,     0.91667,     0.91667, ...,           0,           0,           0],\n",
              "       [          1,           1,           1, ...,           0,           0,           0]]), 'Confidence', 'Recall']]\n",
              "fitness: 0.7845096080654127\n",
              "keys: ['metrics/precision(B)', 'metrics/recall(B)', 'metrics/mAP50(B)', 'metrics/mAP50-95(B)']\n",
              "maps: array([    0.67684,     0.90655,     0.54601,     0.96374])\n",
              "names: {0: '0', 1: '1', 2: '2', 3: '3'}\n",
              "plot: True\n",
              "results_dict: {'metrics/precision(B)': 0.8085120532759869, 'metrics/recall(B)': 0.88812410428039, 'metrics/mAP50(B)': 0.8855390960195533, 'metrics/mAP50-95(B)': 0.7732841094038415, 'fitness': 0.7845096080654127}\n",
              "save_dir: PosixPath('runs/detect/train')\n",
              "speed: {'preprocess': 0.3742395128522601, 'inference': 4.333588736397879, 'loss': 0.0005667550223214286, 'postprocess': 9.419037955147878}\n",
              "task: 'detect'"
            ]
          },
          "metadata": {},
          "execution_count": 41
        }
      ],
      "source": [
        "model.train(data='/content/drive/MyDrive/drive_folder/data.yaml',epochs=100)"
      ],
      "id": "657354dc"
    },
    {
      "cell_type": "code",
      "execution_count": 42,
      "metadata": {
        "id": "ky7_6P6l9HNC"
      },
      "outputs": [],
      "source": [
        "import torch\n",
        "\n",
        "torch.save(model.state_dict(), '/content/drive/MyDrive/drive_folder/yolo_model.pth')\n",
        "\n",
        "# loaded_model = Yolo()\n",
        "# loaded_model.load_state_dict(torch.load('yolo_model.pth'))"
      ],
      "id": "ky7_6P6l9HNC"
    },
    {
      "cell_type": "code",
      "source": [
        "test_list=glob('/content/drive/MyDrive/drive_folder/images_labels_yolo/test/images/*.png')"
      ],
      "metadata": {
        "id": "3OJ1owsSj0Yt"
      },
      "id": "3OJ1owsSj0Yt",
      "execution_count": 43,
      "outputs": []
    },
    {
      "cell_type": "code",
      "source": [
        "len(test_list)"
      ],
      "metadata": {
        "colab": {
          "base_uri": "https://localhost:8080/"
        },
        "id": "GyGLB_5a4t-Z",
        "outputId": "2bdc4ce6-e96d-42b2-db5f-66a80055fc51"
      },
      "id": "GyGLB_5a4t-Z",
      "execution_count": 44,
      "outputs": [
        {
          "output_type": "execute_result",
          "data": {
            "text/plain": [
              "175"
            ]
          },
          "metadata": {},
          "execution_count": 44
        }
      ]
    },
    {
      "cell_type": "code",
      "execution_count": 46,
      "metadata": {
        "id": "FDafc5GDYU3D",
        "colab": {
          "base_uri": "https://localhost:8080/"
        },
        "outputId": "85540ff0-ee8d-4b80-b5ac-522be08e0973"
      },
      "outputs": [
        {
          "output_type": "stream",
          "name": "stdout",
          "text": [
            "\n",
            "0: 480x640 1 1, 1 2, 458.3ms\n",
            "Speed: 3.0ms preprocess, 458.3ms inference, 4.1ms postprocess per image at shape (1, 3, 480, 640)\n"
          ]
        }
      ],
      "source": [
        "img=cv2.imread(test_list[1])\n",
        "pred=model(img)"
      ],
      "id": "FDafc5GDYU3D"
    },
    {
      "cell_type": "code",
      "source": [
        "test_list[1]"
      ],
      "metadata": {
        "colab": {
          "base_uri": "https://localhost:8080/",
          "height": 36
        },
        "id": "qvXcyXq6gwxv",
        "outputId": "e64b7dd6-f097-437e-fa24-7eb8b839233c"
      },
      "id": "qvXcyXq6gwxv",
      "execution_count": 49,
      "outputs": [
        {
          "output_type": "execute_result",
          "data": {
            "text/plain": [
              "'/content/drive/MyDrive/drive_folder/images_labels_yolo/test/images/road1.png'"
            ],
            "application/vnd.google.colaboratory.intrinsic+json": {
              "type": "string"
            }
          },
          "metadata": {},
          "execution_count": 49
        }
      ]
    },
    {
      "cell_type": "code",
      "execution_count": 47,
      "metadata": {
        "id": "ycfYKv4ZYU5U"
      },
      "outputs": [],
      "source": [
        "a=pred[0].boxes"
      ],
      "id": "ycfYKv4ZYU5U"
    },
    {
      "cell_type": "code",
      "source": [
        "a"
      ],
      "metadata": {
        "colab": {
          "base_uri": "https://localhost:8080/"
        },
        "id": "sCWzV8UIi_Ym",
        "outputId": "86f429a9-3c74-4d86-9a7a-cb66d02f4e4b"
      },
      "id": "sCWzV8UIi_Ym",
      "execution_count": 48,
      "outputs": [
        {
          "output_type": "execute_result",
          "data": {
            "text/plain": [
              "ultralytics.engine.results.Boxes object with attributes:\n",
              "\n",
              "cls: tensor([2., 1.], device='cuda:0')\n",
              "conf: tensor([0.8952, 0.4265], device='cuda:0')\n",
              "data: tensor([[147.1671,  59.0136, 259.6715, 282.8051,   0.8952,   2.0000],\n",
              "        [279.5699, 112.7240, 298.6195, 134.0763,   0.4265,   1.0000]], device='cuda:0')\n",
              "id: None\n",
              "is_track: False\n",
              "orig_shape: (283, 400)\n",
              "shape: torch.Size([2, 6])\n",
              "xywh: tensor([[203.4193, 170.9093, 112.5044, 223.7915],\n",
              "        [289.0947, 123.4002,  19.0496,  21.3523]], device='cuda:0')\n",
              "xywhn: tensor([[0.5085, 0.6039, 0.2813, 0.7908],\n",
              "        [0.7227, 0.4360, 0.0476, 0.0754]], device='cuda:0')\n",
              "xyxy: tensor([[147.1671,  59.0136, 259.6715, 282.8051],\n",
              "        [279.5699, 112.7240, 298.6195, 134.0763]], device='cuda:0')\n",
              "xyxyn: tensor([[0.3679, 0.2085, 0.6492, 0.9993],\n",
              "        [0.6989, 0.3983, 0.7465, 0.4738]], device='cuda:0')"
            ]
          },
          "metadata": {},
          "execution_count": 48
        }
      ]
    },
    {
      "cell_type": "code",
      "source": [
        "xywh=a.xywh.cpu().numpy()\n",
        "l=a.cls[0].cpu().numpy()"
      ],
      "metadata": {
        "id": "2CNdLxhVi_a8"
      },
      "id": "2CNdLxhVi_a8",
      "execution_count": 50,
      "outputs": []
    },
    {
      "cell_type": "code",
      "source": [
        "x=int(xywh[0][0])\n",
        "y=int(xywh[0][1])\n",
        "w=int(xywh[0][2])\n",
        "h=int(xywh[0][3])"
      ],
      "metadata": {
        "id": "uLHMpxB7i_gU"
      },
      "id": "uLHMpxB7i_gU",
      "execution_count": 51,
      "outputs": []
    },
    {
      "cell_type": "code",
      "source": [
        "s_p=(x-w//2,y-h//2)\n",
        "e_p=(x+w//2,y+h//2)"
      ],
      "metadata": {
        "id": "WEh1SRLUjnhN"
      },
      "id": "WEh1SRLUjnhN",
      "execution_count": 52,
      "outputs": []
    },
    {
      "cell_type": "code",
      "source": [
        "from google.colab.patches import cv2_imshow\n",
        "cv2.rectangle(img,s_p,e_p,(0,255,0),2)\n",
        "cv2_imshow(img)"
      ],
      "metadata": {
        "colab": {
          "base_uri": "https://localhost:8080/",
          "height": 300
        },
        "id": "WDlpsk_cj0WZ",
        "outputId": "4ed13544-807b-46cd-b6cc-55ae16174e73"
      },
      "id": "WDlpsk_cj0WZ",
      "execution_count": 53,
      "outputs": [
        {
          "output_type": "display_data",
          "data": {
            "text/plain": [
              "<PIL.Image.Image image mode=RGB size=400x283>"
            ],
            "image/png": "[encoded data removed]"
          },
          "metadata": {}
        }
      ]
    },
    {
      "cell_type": "code",
      "source": [
        "def iou_score_calculator(o,p):\n",
        "  # area of union\n",
        "  area_1=(o[2]-o[0])*(o[3]-o[1])\n",
        "  area_2=(p[2]-p[0])*(p[3]-p[1])\n",
        "\n",
        "  #area of intersection\n",
        "  x1=max(o[0],p[0])\n",
        "  y1=max(o[1],p[1])\n",
        "  x2=min(o[2],p[2])\n",
        "  y2=min(o[3],p[3])\n",
        "\n",
        "  if x2<x1 or y2<y1:\n",
        "    return 0\n",
        "\n",
        "  i=(x2-x1)*(y2-y1)\n",
        "\n",
        "  iou_score=i/(area_1+area_2-i)\n",
        "\n",
        "  return iou_score"
      ],
      "metadata": {
        "id": "oFOpBcXUlPC5"
      },
      "id": "oFOpBcXUlPC5",
      "execution_count": 54,
      "outputs": []
    },
    {
      "cell_type": "code",
      "source": [
        "label_path='/content/drive/MyDrive/drive_folder/images_labels_yolo/test/labels'\n",
        "\n",
        "iou_scores=[]\n",
        "p_labels=[]\n",
        "o_labels=[]\n",
        "\n",
        "for i in test_list:\n",
        "\n",
        "  image=cv2.imread(i)\n",
        "\n",
        "  result=model(image)\n",
        "\n",
        "  if(len(result[0].boxes)==0):\n",
        "    iou_scores.append(0)\n",
        "    continue\n",
        "\n",
        "  l=int(result[0].boxes.cls[0].cpu().numpy())\n",
        "  p_labels.append(l)\n",
        "\n",
        "  bb=result[0].boxes.xywh.cpu().numpy()\n",
        "  x=int(bb[0][0])\n",
        "  y=int(bb[0][1])\n",
        "  w=int(bb[0][2])\n",
        "  h=int(bb[0][3])\n",
        "\n",
        "  x_min_p=x-w//2\n",
        "  y_min_p=y-h//2\n",
        "  x_max_p=x+w//2\n",
        "  y_max_p=y+h//2\n",
        "  print('xmin: ',x_min_p,\" xmax: \",x_max_p,\" ymin: \",y_min_p,\" y_max: \",y_max_p)\n",
        "\n",
        "  box_2=[x_min_p,y_min_p,x_max_p,y_max_p]\n",
        "\n",
        "  image_n=os.path.split(i)[1]\n",
        "\n",
        "  x_min_o=test_df.loc[test_df['image_name']==image_n, 'xmin'].values[0]\n",
        "  y_min_o=test_df.loc[test_df['image_name']==image_n, 'ymin'].values[0]\n",
        "  x_max_o=test_df.loc[test_df['image_name']==image_n, 'xmax'].values[0]\n",
        "  y_max_o=test_df.loc[test_df['image_name']==image_n, 'ymax'].values[0]\n",
        "  o_label=test_df.loc[test_df['image_name']==image_n, 'label'].values[0]\n",
        "\n",
        "  print('xmin: ',x_min_o,\" xmax: \",x_max_o,\" ymin: \",y_min_o,\" y_max: \",y_max_o)\n",
        "\n",
        "\n",
        "  box_1=[x_min_o,y_min_o,x_max_o,y_max_o]\n",
        "\n",
        "  score=iou_score_calculator(box_1,box_2)\n",
        "\n",
        "  iou_scores.append(score)\n",
        "  o_labels.append(o_label)"
      ],
      "metadata": {
        "colab": {
          "base_uri": "https://localhost:8080/"
        },
        "id": "JQrYZ0IklPHf",
        "outputId": "92a55b44-eff9-4372-b131-585476d6a8b6"
      },
      "id": "JQrYZ0IklPHf",
      "execution_count": 55,
      "outputs": [
        {
          "output_type": "stream",
          "name": "stdout",
          "text": [
            "\n",
            "0: 640x448 (no detections), 23.5ms\n",
            "Speed: 3.9ms preprocess, 23.5ms inference, 1.0ms postprocess per image at shape (1, 3, 640, 448)\n",
            "\n",
            "0: 480x640 1 1, 1 2, 29.8ms\n",
            "Speed: 3.3ms preprocess, 29.8ms inference, 2.0ms postprocess per image at shape (1, 3, 480, 640)\n",
            "xmin:  147  xmax:  259  ymin:  59  y_max:  281\n",
            "xmin:  154  xmax:  258  ymin:  63  y_max:  281\n",
            "\n",
            "0: 448x640 1 1, 136.5ms\n",
            "Speed: 5.8ms preprocess, 136.5ms inference, 2.4ms postprocess per image at shape (1, 3, 448, 640)\n",
            "xmin:  31  xmax:  243  ymin:  41  y_max:  247\n",
            "xmin:  37  xmax:  243  ymin:  38  y_max:  245\n",
            "\n",
            "0: 512x640 1 1, 115.5ms\n",
            "Speed: 4.5ms preprocess, 115.5ms inference, 2.3ms postprocess per image at shape (1, 3, 512, 640)\n",
            "xmin:  81  xmax:  297  ymin:  26  y_max:  272\n",
            "xmin:  89  xmax:  297  ymin:  25  y_max:  272\n",
            "\n",
            "0: 608x640 1 1, 118.1ms\n",
            "Speed: 5.7ms preprocess, 118.1ms inference, 2.0ms postprocess per image at shape (1, 3, 608, 640)\n",
            "xmin:  45  xmax:  339  ymin:  26  y_max:  346\n",
            "xmin:  48  xmax:  344  ymin:  14  y_max:  345\n",
            "\n",
            "0: 448x640 1 1, 18.4ms\n",
            "Speed: 4.5ms preprocess, 18.4ms inference, 1.9ms postprocess per image at shape (1, 3, 448, 640)\n",
            "xmin:  35  xmax:  99  ymin:  94  y_max:  158\n",
            "xmin:  35  xmax:  101  ymin:  92  y_max:  159\n",
            "\n",
            "0: 384x640 1 1, 152.0ms\n",
            "Speed: 2.5ms preprocess, 152.0ms inference, 2.0ms postprocess per image at shape (1, 3, 384, 640)\n",
            "xmin:  226  xmax:  286  ymin:  30  y_max:  102\n",
            "xmin:  224  xmax:  289  ymin:  32  y_max:  103\n",
            "\n",
            "0: 448x640 1 1, 1 2, 16.4ms\n",
            "Speed: 4.5ms preprocess, 16.4ms inference, 1.9ms postprocess per image at shape (1, 3, 448, 640)\n",
            "xmin:  188  xmax:  394  ymin:  15  y_max:  225\n",
            "xmin:  182  xmax:  394  ymin:  12  y_max:  224\n",
            "\n",
            "0: 448x640 2 0s, 14.4ms\n",
            "Speed: 2.9ms preprocess, 14.4ms inference, 1.9ms postprocess per image at shape (1, 3, 448, 640)\n",
            "xmin:  298  xmax:  318  ymin:  120  y_max:  142\n",
            "xmin:  156  xmax:  177  ymin:  8  y_max:  31\n",
            "\n",
            "0: 448x640 1 0, 14.0ms\n",
            "Speed: 2.9ms preprocess, 14.0ms inference, 2.0ms postprocess per image at shape (1, 3, 448, 640)\n",
            "xmin:  202  xmax:  336  ymin:  35  y_max:  167\n",
            "xmin:  207  xmax:  334  ymin:  38  y_max:  165\n",
            "\n",
            "0: 480x640 1 0, 13.7ms\n",
            "Speed: 2.8ms preprocess, 13.7ms inference, 2.1ms postprocess per image at shape (1, 3, 480, 640)\n",
            "xmin:  171  xmax:  227  ymin:  66  y_max:  124\n",
            "xmin:  170  xmax:  227  ymin:  68  y_max:  125\n",
            "\n",
            "0: 640x448 (no detections), 14.1ms\n",
            "Speed: 3.2ms preprocess, 14.1ms inference, 0.9ms postprocess per image at shape (1, 3, 640, 448)\n",
            "\n",
            "0: 384x640 1 0, 16.6ms\n",
            "Speed: 2.3ms preprocess, 16.6ms inference, 1.9ms postprocess per image at shape (1, 3, 384, 640)\n",
            "xmin:  128  xmax:  272  ymin:  39  y_max:  159\n",
            "xmin:  123  xmax:  277  ymin:  36  y_max:  158\n",
            "\n",
            "0: 640x480 1 1, 24.6ms\n",
            "Speed: 3.2ms preprocess, 24.6ms inference, 2.0ms postprocess per image at shape (1, 3, 640, 480)\n",
            "xmin:  178  xmax:  230  ymin:  51  y_max:  101\n",
            "xmin:  178  xmax:  230  ymin:  50  y_max:  102\n",
            "\n",
            "0: 640x480 (no detections), 13.9ms\n",
            "Speed: 4.0ms preprocess, 13.9ms inference, 0.9ms postprocess per image at shape (1, 3, 640, 480)\n",
            "\n",
            "0: 640x480 2 0s, 14.6ms\n",
            "Speed: 3.3ms preprocess, 14.6ms inference, 2.2ms postprocess per image at shape (1, 3, 640, 480)\n",
            "xmin:  85  xmax:  137  ymin:  158  y_max:  232\n",
            "xmin:  84  xmax:  136  ymin:  159  y_max:  234\n",
            "\n",
            "0: 640x480 1 1, 17.8ms\n",
            "Speed: 3.6ms preprocess, 17.8ms inference, 2.4ms postprocess per image at shape (1, 3, 640, 480)\n",
            "xmin:  134  xmax:  150  ymin:  169  y_max:  185\n",
            "xmin:  134  xmax:  152  ymin:  168  y_max:  186\n",
            "\n",
            "0: 640x480 1 1, 17.8ms\n",
            "Speed: 3.7ms preprocess, 17.8ms inference, 2.3ms postprocess per image at shape (1, 3, 640, 480)\n",
            "xmin:  54  xmax:  136  ymin:  94  y_max:  176\n",
            "xmin:  55  xmax:  136  ymin:  93  y_max:  176\n",
            "\n",
            "0: 640x480 1 0, 14.3ms\n",
            "Speed: 3.3ms preprocess, 14.3ms inference, 1.9ms postprocess per image at shape (1, 3, 640, 480)\n",
            "xmin:  51  xmax:  115  ymin:  134  y_max:  200\n",
            "xmin:  52  xmax:  115  ymin:  134  y_max:  201\n",
            "\n",
            "0: 640x480 1 0, 22.3ms\n",
            "Speed: 3.2ms preprocess, 22.3ms inference, 5.7ms postprocess per image at shape (1, 3, 640, 480)\n",
            "xmin:  86  xmax:  128  ymin:  135  y_max:  179\n",
            "xmin:  85  xmax:  131  ymin:  133  y_max:  181\n",
            "\n",
            "0: 640x480 1 1, 17.9ms\n",
            "Speed: 8.0ms preprocess, 17.9ms inference, 2.3ms postprocess per image at shape (1, 3, 640, 480)\n",
            "xmin:  133  xmax:  205  ymin:  222  y_max:  298\n",
            "xmin:  133  xmax:  205  ymin:  223  y_max:  300\n",
            "\n",
            "0: 640x480 1 2, 16.1ms\n",
            "Speed: 2.8ms preprocess, 16.1ms inference, 2.6ms postprocess per image at shape (1, 3, 640, 480)\n",
            "xmin:  137  xmax:  165  ymin:  175  y_max:  249\n",
            "xmin:  135  xmax:  189  ymin:  177  y_max:  250\n",
            "\n",
            "0: 640x512 1 2, 125.6ms\n",
            "Speed: 3.9ms preprocess, 125.6ms inference, 2.2ms postprocess per image at shape (1, 3, 640, 512)\n",
            "xmin:  144  xmax:  174  ymin:  270  y_max:  354\n",
            "xmin:  144  xmax:  174  ymin:  270  y_max:  352\n",
            "\n",
            "0: 640x480 1 1, 17.6ms\n",
            "Speed: 4.0ms preprocess, 17.6ms inference, 1.9ms postprocess per image at shape (1, 3, 640, 480)\n",
            "xmin:  177  xmax:  225  ymin:  144  y_max:  192\n",
            "xmin:  176  xmax:  226  ymin:  145  y_max:  193\n",
            "\n",
            "0: 640x480 1 0, 22.7ms\n",
            "Speed: 2.9ms preprocess, 22.7ms inference, 2.2ms postprocess per image at shape (1, 3, 640, 480)\n",
            "xmin:  126  xmax:  236  ymin:  126  y_max:  230\n",
            "xmin:  127  xmax:  236  ymin:  125  y_max:  233\n",
            "\n",
            "0: 640x480 1 1, 16.2ms\n",
            "Speed: 3.0ms preprocess, 16.2ms inference, 2.2ms postprocess per image at shape (1, 3, 640, 480)\n",
            "xmin:  89  xmax:  115  ymin:  137  y_max:  173\n",
            "xmin:  90  xmax:  115  ymin:  137  y_max:  174\n",
            "\n",
            "0: 640x480 1 0, 1 1, 15.8ms\n",
            "Speed: 2.8ms preprocess, 15.8ms inference, 2.1ms postprocess per image at shape (1, 3, 640, 480)\n",
            "xmin:  232  xmax:  280  ymin:  132  y_max:  182\n",
            "xmin:  134  xmax:  156  ymin:  175  y_max:  197\n",
            "\n",
            "0: 640x480 1 1, 17.5ms\n",
            "Speed: 2.8ms preprocess, 17.5ms inference, 2.1ms postprocess per image at shape (1, 3, 640, 480)\n",
            "xmin:  157  xmax:  171  ymin:  180  y_max:  194\n",
            "xmin:  156  xmax:  172  ymin:  179  y_max:  196\n",
            "\n",
            "0: 640x480 1 1, 14.8ms\n",
            "Speed: 2.9ms preprocess, 14.8ms inference, 2.1ms postprocess per image at shape (1, 3, 640, 480)\n",
            "xmin:  125  xmax:  141  ymin:  196  y_max:  212\n",
            "xmin:  124  xmax:  143  ymin:  194  y_max:  214\n",
            "\n",
            "0: 640x480 2 1s, 15.0ms\n",
            "Speed: 2.8ms preprocess, 15.0ms inference, 2.1ms postprocess per image at shape (1, 3, 640, 480)\n",
            "xmin:  143  xmax:  153  ymin:  249  y_max:  259\n",
            "xmin:  142  xmax:  153  ymin:  249  y_max:  260\n",
            "\n",
            "0: 640x480 1 1, 15.8ms\n",
            "Speed: 2.7ms preprocess, 15.8ms inference, 2.2ms postprocess per image at shape (1, 3, 640, 480)\n",
            "xmin:  143  xmax:  153  ymin:  152  y_max:  162\n",
            "xmin:  143  xmax:  151  ymin:  152  y_max:  162\n",
            "\n",
            "0: 640x480 1 1, 18.7ms\n",
            "Speed: 2.9ms preprocess, 18.7ms inference, 2.3ms postprocess per image at shape (1, 3, 640, 480)\n",
            "xmin:  167  xmax:  191  ymin:  206  y_max:  228\n",
            "xmin:  167  xmax:  192  ymin:  205  y_max:  229\n",
            "\n",
            "0: 640x480 1 1, 18.0ms\n",
            "Speed: 3.1ms preprocess, 18.0ms inference, 2.1ms postprocess per image at shape (1, 3, 640, 480)\n",
            "xmin:  145  xmax:  155  ymin:  240  y_max:  250\n",
            "xmin:  145  xmax:  156  ymin:  239  y_max:  251\n",
            "\n",
            "0: 640x480 1 1, 19.0ms\n",
            "Speed: 2.9ms preprocess, 19.0ms inference, 2.3ms postprocess per image at shape (1, 3, 640, 480)\n",
            "xmin:  136  xmax:  174  ymin:  132  y_max:  172\n",
            "xmin:  136  xmax:  176  ymin:  131  y_max:  173\n",
            "\n",
            "0: 640x480 1 1, 15.9ms\n",
            "Speed: 2.8ms preprocess, 15.9ms inference, 2.3ms postprocess per image at shape (1, 3, 640, 480)\n",
            "xmin:  105  xmax:  131  ymin:  141  y_max:  167\n",
            "xmin:  105  xmax:  132  ymin:  142  y_max:  169\n",
            "\n",
            "0: 640x480 1 1, 15.6ms\n",
            "Speed: 2.9ms preprocess, 15.6ms inference, 2.3ms postprocess per image at shape (1, 3, 640, 480)\n",
            "xmin:  133  xmax:  173  ymin:  111  y_max:  153\n",
            "xmin:  133  xmax:  174  ymin:  110  y_max:  154\n",
            "\n",
            "0: 640x480 1 1, 23.0ms\n",
            "Speed: 3.0ms preprocess, 23.0ms inference, 2.5ms postprocess per image at shape (1, 3, 640, 480)\n",
            "xmin:  138  xmax:  218  ymin:  111  y_max:  191\n",
            "xmin:  136  xmax:  218  ymin:  111  y_max:  192\n",
            "\n",
            "0: 640x480 1 3, 15.6ms\n",
            "Speed: 4.8ms preprocess, 15.6ms inference, 2.2ms postprocess per image at shape (1, 3, 640, 480)\n",
            "xmin:  110  xmax:  148  ymin:  162  y_max:  202\n",
            "xmin:  109  xmax:  149  ymin:  161  y_max:  202\n",
            "\n",
            "0: 640x480 1 1, 17.4ms\n",
            "Speed: 2.9ms preprocess, 17.4ms inference, 2.3ms postprocess per image at shape (1, 3, 640, 480)\n",
            "xmin:  133  xmax:  167  ymin:  161  y_max:  195\n",
            "xmin:  133  xmax:  167  ymin:  161  y_max:  193\n",
            "\n",
            "0: 640x480 1 1, 16.9ms\n",
            "Speed: 2.9ms preprocess, 16.9ms inference, 2.2ms postprocess per image at shape (1, 3, 640, 480)\n",
            "xmin:  118  xmax:  154  ymin:  135  y_max:  173\n",
            "xmin:  120  xmax:  155  ymin:  135  y_max:  171\n",
            "\n",
            "0: 640x480 1 1, 16.5ms\n",
            "Speed: 2.8ms preprocess, 16.5ms inference, 2.1ms postprocess per image at shape (1, 3, 640, 480)\n",
            "xmin:  107  xmax:  171  ymin:  156  y_max:  220\n",
            "xmin:  105  xmax:  171  ymin:  157  y_max:  224\n",
            "\n",
            "0: 640x480 1 1, 15.0ms\n",
            "Speed: 2.9ms preprocess, 15.0ms inference, 2.1ms postprocess per image at shape (1, 3, 640, 480)\n",
            "xmin:  127  xmax:  141  ymin:  117  y_max:  131\n",
            "xmin:  126  xmax:  141  ymin:  117  y_max:  132\n",
            "\n",
            "0: 448x640 1 2, 16.7ms\n",
            "Speed: 3.8ms preprocess, 16.7ms inference, 2.1ms postprocess per image at shape (1, 3, 448, 640)\n",
            "xmin:  42  xmax:  100  ymin:  6  y_max:  118\n",
            "xmin:  40  xmax:  101  ymin:  6  y_max:  121\n",
            "\n",
            "0: 640x480 1 0, 16.3ms\n",
            "Speed: 3.4ms preprocess, 16.3ms inference, 2.1ms postprocess per image at shape (1, 3, 640, 480)\n",
            "xmin:  134  xmax:  200  ymin:  117  y_max:  217\n",
            "xmin:  134  xmax:  205  ymin:  117  y_max:  218\n",
            "\n",
            "0: 640x480 1 0, 15.2ms\n",
            "Speed: 3.4ms preprocess, 15.2ms inference, 2.5ms postprocess per image at shape (1, 3, 640, 480)\n",
            "xmin:  127  xmax:  195  ymin:  173  y_max:  241\n",
            "xmin:  125  xmax:  195  ymin:  86  y_max:  155\n",
            "\n",
            "0: 640x480 1 1, 15.9ms\n",
            "Speed: 3.0ms preprocess, 15.9ms inference, 2.4ms postprocess per image at shape (1, 3, 640, 480)\n",
            "xmin:  156  xmax:  202  ymin:  171  y_max:  223\n",
            "xmin:  157  xmax:  204  ymin:  171  y_max:  224\n",
            "\n",
            "0: 640x480 1 0, 1 1, 15.6ms\n",
            "Speed: 3.4ms preprocess, 15.6ms inference, 2.1ms postprocess per image at shape (1, 3, 640, 480)\n",
            "xmin:  42  xmax:  160  ymin:  231  y_max:  347\n",
            "xmin:  38  xmax:  156  ymin:  88  y_max:  205\n",
            "\n",
            "0: 640x480 1 1, 15.8ms\n",
            "Speed: 5.0ms preprocess, 15.8ms inference, 2.1ms postprocess per image at shape (1, 3, 640, 480)\n",
            "xmin:  92  xmax:  152  ymin:  173  y_max:  233\n",
            "xmin:  92  xmax:  153  ymin:  173  y_max:  234\n",
            "\n",
            "0: 640x448 1 2, 17.7ms\n",
            "Speed: 2.8ms preprocess, 17.7ms inference, 2.3ms postprocess per image at shape (1, 3, 640, 448)\n",
            "xmin:  22  xmax:  178  ymin:  29  y_max:  387\n",
            "xmin:  23  xmax:  178  ymin:  6  y_max:  387\n",
            "\n",
            "0: 640x480 1 1, 19.2ms\n",
            "Speed: 3.7ms preprocess, 19.2ms inference, 2.1ms postprocess per image at shape (1, 3, 640, 480)\n",
            "xmin:  102  xmax:  160  ymin:  112  y_max:  170\n",
            "xmin:  102  xmax:  161  ymin:  112  y_max:  171\n",
            "\n",
            "0: 640x480 1 3, 16.9ms\n",
            "Speed: 3.0ms preprocess, 16.9ms inference, 2.1ms postprocess per image at shape (1, 3, 640, 480)\n",
            "xmin:  92  xmax:  206  ymin:  46  y_max:  160\n",
            "xmin:  92  xmax:  206  ymin:  46  y_max:  163\n",
            "\n",
            "0: 640x480 1 1, 19.3ms\n",
            "Speed: 2.8ms preprocess, 19.3ms inference, 2.3ms postprocess per image at shape (1, 3, 640, 480)\n",
            "xmin:  149  xmax:  265  ymin:  1  y_max:  95\n",
            "xmin:  149  xmax:  267  ymin:  1  y_max:  96\n",
            "\n",
            "0: 640x480 1 1, 17.9ms\n",
            "Speed: 3.9ms preprocess, 17.9ms inference, 2.2ms postprocess per image at shape (1, 3, 640, 480)\n",
            "xmin:  128  xmax:  154  ymin:  117  y_max:  143\n",
            "xmin:  128  xmax:  155  ymin:  117  y_max:  145\n",
            "\n",
            "0: 640x480 1 1, 17.7ms\n",
            "Speed: 2.8ms preprocess, 17.7ms inference, 2.3ms postprocess per image at shape (1, 3, 640, 480)\n",
            "xmin:  110  xmax:  156  ymin:  167  y_max:  213\n",
            "xmin:  110  xmax:  157  ymin:  166  y_max:  214\n",
            "\n",
            "0: 640x480 1 1, 11.0ms\n",
            "Speed: 3.4ms preprocess, 11.0ms inference, 1.6ms postprocess per image at shape (1, 3, 640, 480)\n",
            "xmin:  67  xmax:  151  ymin:  219  y_max:  301\n",
            "xmin:  67  xmax:  152  ymin:  219  y_max:  301\n",
            "\n",
            "0: 640x480 1 1, 10.6ms\n",
            "Speed: 3.7ms preprocess, 10.6ms inference, 1.6ms postprocess per image at shape (1, 3, 640, 480)\n",
            "xmin:  83  xmax:  155  ymin:  213  y_max:  287\n",
            "xmin:  81  xmax:  156  ymin:  213  y_max:  287\n",
            "\n",
            "0: 640x480 1 1, 11.4ms\n",
            "Speed: 3.4ms preprocess, 11.4ms inference, 1.6ms postprocess per image at shape (1, 3, 640, 480)\n",
            "xmin:  39  xmax:  135  ymin:  192  y_max:  288\n",
            "xmin:  39  xmax:  136  ymin:  193  y_max:  289\n",
            "\n",
            "0: 640x480 1 1, 11.4ms\n",
            "Speed: 4.3ms preprocess, 11.4ms inference, 1.6ms postprocess per image at shape (1, 3, 640, 480)\n",
            "xmin:  104  xmax:  174  ymin:  2  y_max:  88\n",
            "xmin:  105  xmax:  175  ymin:  2  y_max:  90\n",
            "\n",
            "0: 640x480 1 1, 11.2ms\n",
            "Speed: 4.1ms preprocess, 11.2ms inference, 1.5ms postprocess per image at shape (1, 3, 640, 480)\n",
            "xmin:  106  xmax:  144  ymin:  160  y_max:  196\n",
            "xmin:  107  xmax:  145  ymin:  160  y_max:  197\n",
            "\n",
            "0: 640x480 1 1, 10.9ms\n",
            "Speed: 4.2ms preprocess, 10.9ms inference, 1.6ms postprocess per image at shape (1, 3, 640, 480)\n",
            "xmin:  135  xmax:  191  ymin:  154  y_max:  212\n",
            "xmin:  134  xmax:  195  ymin:  154  y_max:  214\n",
            "\n",
            "0: 640x480 1 1, 13.9ms\n",
            "Speed: 4.3ms preprocess, 13.9ms inference, 1.8ms postprocess per image at shape (1, 3, 640, 480)\n",
            "xmin:  143  xmax:  177  ymin:  137  y_max:  169\n",
            "xmin:  143  xmax:  177  ymin:  137  y_max:  170\n",
            "\n",
            "0: 640x480 1 1, 13.3ms\n",
            "Speed: 3.1ms preprocess, 13.3ms inference, 1.6ms postprocess per image at shape (1, 3, 640, 480)\n",
            "xmin:  232  xmax:  296  ymin:  30  y_max:  92\n",
            "xmin:  232  xmax:  297  ymin:  29  y_max:  93\n",
            "\n",
            "0: 640x480 1 1, 11.4ms\n",
            "Speed: 4.8ms preprocess, 11.4ms inference, 1.6ms postprocess per image at shape (1, 3, 640, 480)\n",
            "xmin:  145  xmax:  179  ymin:  255  y_max:  287\n",
            "xmin:  147  xmax:  180  ymin:  255  y_max:  289\n",
            "\n",
            "0: 640x480 1 1, 10.5ms\n",
            "Speed: 3.8ms preprocess, 10.5ms inference, 1.6ms postprocess per image at shape (1, 3, 640, 480)\n",
            "xmin:  167  xmax:  205  ymin:  187  y_max:  225\n",
            "xmin:  167  xmax:  206  ymin:  188  y_max:  227\n",
            "\n",
            "0: 640x480 1 1, 10.6ms\n",
            "Speed: 4.3ms preprocess, 10.6ms inference, 1.7ms postprocess per image at shape (1, 3, 640, 480)\n",
            "xmin:  103  xmax:  159  ymin:  196  y_max:  252\n",
            "xmin:  103  xmax:  160  ymin:  197  y_max:  254\n",
            "\n",
            "0: 640x480 1 1, 13.9ms\n",
            "Speed: 3.6ms preprocess, 13.9ms inference, 1.8ms postprocess per image at shape (1, 3, 640, 480)\n",
            "xmin:  166  xmax:  212  ymin:  202  y_max:  246\n",
            "xmin:  166  xmax:  212  ymin:  203  y_max:  248\n",
            "\n",
            "0: 640x480 1 1, 11.0ms\n",
            "Speed: 4.1ms preprocess, 11.0ms inference, 1.8ms postprocess per image at shape (1, 3, 640, 480)\n",
            "xmin:  164  xmax:  220  ymin:  190  y_max:  246\n",
            "xmin:  163  xmax:  221  ymin:  190  y_max:  247\n",
            "\n",
            "0: 640x480 1 1, 11.5ms\n",
            "Speed: 3.5ms preprocess, 11.5ms inference, 1.6ms postprocess per image at shape (1, 3, 640, 480)\n",
            "xmin:  109  xmax:  143  ymin:  247  y_max:  281\n",
            "xmin:  109  xmax:  144  ymin:  247  y_max:  281\n",
            "\n",
            "0: 640x480 1 1, 10.5ms\n",
            "Speed: 3.8ms preprocess, 10.5ms inference, 1.8ms postprocess per image at shape (1, 3, 640, 480)\n",
            "xmin:  106  xmax:  170  ymin:  163  y_max:  229\n",
            "xmin:  107  xmax:  171  ymin:  164  y_max:  230\n",
            "\n",
            "0: 640x480 1 1, 10.9ms\n",
            "Speed: 3.7ms preprocess, 10.9ms inference, 1.6ms postprocess per image at shape (1, 3, 640, 480)\n",
            "xmin:  146  xmax:  164  ymin:  171  y_max:  189\n",
            "xmin:  146  xmax:  165  ymin:  171  y_max:  191\n",
            "\n",
            "0: 640x480 1 1, 10.8ms\n",
            "Speed: 4.3ms preprocess, 10.8ms inference, 1.5ms postprocess per image at shape (1, 3, 640, 480)\n",
            "xmin:  41  xmax:  91  ymin:  175  y_max:  225\n",
            "xmin:  41  xmax:  91  ymin:  176  y_max:  227\n",
            "\n",
            "0: 640x480 1 1, 10.3ms\n",
            "Speed: 3.0ms preprocess, 10.3ms inference, 1.5ms postprocess per image at shape (1, 3, 640, 480)\n",
            "xmin:  116  xmax:  196  ymin:  160  y_max:  238\n",
            "xmin:  116  xmax:  195  ymin:  160  y_max:  239\n",
            "\n",
            "0: 640x480 1 1, 10.9ms\n",
            "Speed: 3.7ms preprocess, 10.9ms inference, 1.6ms postprocess per image at shape (1, 3, 640, 480)\n",
            "xmin:  63  xmax:  171  ymin:  102  y_max:  214\n",
            "xmin:  63  xmax:  173  ymin:  102  y_max:  216\n",
            "\n",
            "0: 640x480 1 1, 16.2ms\n",
            "Speed: 3.0ms preprocess, 16.2ms inference, 1.6ms postprocess per image at shape (1, 3, 640, 480)\n",
            "xmin:  32  xmax:  74  ymin:  261  y_max:  303\n",
            "xmin:  33  xmax:  76  ymin:  261  y_max:  303\n",
            "\n",
            "0: 640x480 1 1, 12.9ms\n",
            "Speed: 3.1ms preprocess, 12.9ms inference, 1.5ms postprocess per image at shape (1, 3, 640, 480)\n",
            "xmin:  50  xmax:  102  ymin:  291  y_max:  341\n",
            "xmin:  50  xmax:  102  ymin:  290  y_max:  342\n",
            "\n",
            "0: 640x448 1 2, 11.8ms\n",
            "Speed: 3.1ms preprocess, 11.8ms inference, 1.9ms postprocess per image at shape (1, 3, 640, 448)\n",
            "xmin:  189  xmax:  207  ymin:  87  y_max:  123\n",
            "xmin:  95  xmax:  115  ymin:  50  y_max:  95\n",
            "\n",
            "0: 640x480 1 1, 11.9ms\n",
            "Speed: 4.4ms preprocess, 11.9ms inference, 1.6ms postprocess per image at shape (1, 3, 640, 480)\n",
            "xmin:  145  xmax:  189  ymin:  122  y_max:  166\n",
            "xmin:  146  xmax:  190  ymin:  122  y_max:  166\n",
            "\n",
            "0: 640x480 1 1, 11.1ms\n",
            "Speed: 3.5ms preprocess, 11.1ms inference, 1.5ms postprocess per image at shape (1, 3, 640, 480)\n",
            "xmin:  124  xmax:  190  ymin:  110  y_max:  178\n",
            "xmin:  124  xmax:  190  ymin:  110  y_max:  179\n",
            "\n",
            "0: 640x480 1 1, 10.9ms\n",
            "Speed: 3.1ms preprocess, 10.9ms inference, 1.7ms postprocess per image at shape (1, 3, 640, 480)\n",
            "xmin:  100  xmax:  126  ymin:  233  y_max:  263\n",
            "xmin:  100  xmax:  127  ymin:  233  y_max:  263\n",
            "\n",
            "0: 640x480 1 0, 1 1, 11.3ms\n",
            "Speed: 3.8ms preprocess, 11.3ms inference, 1.5ms postprocess per image at shape (1, 3, 640, 480)\n",
            "xmin:  98  xmax:  170  ymin:  125  y_max:  199\n",
            "xmin:  149  xmax:  228  ymin:  311  y_max:  390\n",
            "\n",
            "0: 640x480 1 0, 1 1, 10.9ms\n",
            "Speed: 4.1ms preprocess, 10.9ms inference, 1.6ms postprocess per image at shape (1, 3, 640, 480)\n",
            "xmin:  91  xmax:  171  ymin:  115  y_max:  197\n",
            "xmin:  151  xmax:  237  ymin:  319  y_max:  399\n",
            "\n",
            "0: 640x480 1 0, 1 1, 10.6ms\n",
            "Speed: 3.7ms preprocess, 10.6ms inference, 1.5ms postprocess per image at shape (1, 3, 640, 480)\n",
            "xmin:  100  xmax:  182  ymin:  70  y_max:  154\n",
            "xmin:  100  xmax:  182  ymin:  70  y_max:  155\n",
            "\n",
            "0: 640x480 1 0, 1 1, 11.5ms\n",
            "Speed: 2.9ms preprocess, 11.5ms inference, 1.6ms postprocess per image at shape (1, 3, 640, 480)\n",
            "xmin:  112  xmax:  166  ymin:  126  y_max:  180\n",
            "xmin:  152  xmax:  209  ymin:  262  y_max:  319\n",
            "\n",
            "0: 640x480 1 1, 11.9ms\n",
            "Speed: 4.1ms preprocess, 11.9ms inference, 1.6ms postprocess per image at shape (1, 3, 640, 480)\n",
            "xmin:  52  xmax:  126  ymin:  157  y_max:  231\n",
            "xmin:  51  xmax:  128  ymin:  157  y_max:  232\n",
            "\n",
            "0: 640x480 1 1, 12.3ms\n",
            "Speed: 3.3ms preprocess, 12.3ms inference, 1.7ms postprocess per image at shape (1, 3, 640, 480)\n",
            "xmin:  147  xmax:  187  ymin:  175  y_max:  215\n",
            "xmin:  145  xmax:  187  ymin:  176  y_max:  216\n",
            "\n",
            "0: 640x480 1 1, 10.6ms\n",
            "Speed: 3.2ms preprocess, 10.6ms inference, 1.5ms postprocess per image at shape (1, 3, 640, 480)\n",
            "xmin:  114  xmax:  198  ymin:  76  y_max:  158\n",
            "xmin:  114  xmax:  198  ymin:  76  y_max:  160\n",
            "\n",
            "0: 640x480 1 1, 11.8ms\n",
            "Speed: 3.4ms preprocess, 11.8ms inference, 1.6ms postprocess per image at shape (1, 3, 640, 480)\n",
            "xmin:  111  xmax:  183  ymin:  136  y_max:  206\n",
            "xmin:  110  xmax:  182  ymin:  137  y_max:  208\n",
            "\n",
            "0: 640x480 1 1, 11.2ms\n",
            "Speed: 3.8ms preprocess, 11.2ms inference, 1.5ms postprocess per image at shape (1, 3, 640, 480)\n",
            "xmin:  107  xmax:  145  ymin:  197  y_max:  235\n",
            "xmin:  107  xmax:  145  ymin:  196  y_max:  236\n",
            "\n",
            "0: 640x480 1 1, 10.7ms\n",
            "Speed: 3.4ms preprocess, 10.7ms inference, 1.8ms postprocess per image at shape (1, 3, 640, 480)\n",
            "xmin:  115  xmax:  167  ymin:  160  y_max:  212\n",
            "xmin:  114  xmax:  169  ymin:  160  y_max:  213\n",
            "\n",
            "0: 640x480 1 1, 11.3ms\n",
            "Speed: 4.0ms preprocess, 11.3ms inference, 1.5ms postprocess per image at shape (1, 3, 640, 480)\n",
            "xmin:  83  xmax:  161  ymin:  134  y_max:  208\n",
            "xmin:  84  xmax:  163  ymin:  133  y_max:  210\n",
            "\n",
            "0: 640x480 1 3, 12.0ms\n",
            "Speed: 3.8ms preprocess, 12.0ms inference, 1.7ms postprocess per image at shape (1, 3, 640, 480)\n",
            "xmin:  41  xmax:  247  ymin:  169  y_max:  365\n",
            "xmin:  42  xmax:  246  ymin:  166  y_max:  367\n",
            "\n",
            "0: 640x480 1 1, 11.3ms\n",
            "Speed: 5.3ms preprocess, 11.3ms inference, 1.6ms postprocess per image at shape (1, 3, 640, 480)\n",
            "xmin:  92  xmax:  134  ymin:  205  y_max:  245\n",
            "xmin:  93  xmax:  134  ymin:  205  y_max:  246\n",
            "\n",
            "0: 640x480 1 0, 1 1, 10.9ms\n",
            "Speed: 3.5ms preprocess, 10.9ms inference, 1.6ms postprocess per image at shape (1, 3, 640, 480)\n",
            "xmin:  107  xmax:  145  ymin:  222  y_max:  258\n",
            "xmin:  148  xmax:  202  ymin:  276  y_max:  330\n",
            "\n",
            "0: 640x480 1 1, 13.7ms\n",
            "Speed: 3.5ms preprocess, 13.7ms inference, 2.4ms postprocess per image at shape (1, 3, 640, 480)\n",
            "xmin:  116  xmax:  190  ymin:  268  y_max:  342\n",
            "xmin:  116  xmax:  193  ymin:  268  y_max:  343\n",
            "\n",
            "0: 640x480 1 1, 11.2ms\n",
            "Speed: 3.4ms preprocess, 11.2ms inference, 1.6ms postprocess per image at shape (1, 3, 640, 480)\n",
            "xmin:  146  xmax:  188  ymin:  211  y_max:  251\n",
            "xmin:  145  xmax:  189  ymin:  254  y_max:  298\n",
            "\n",
            "0: 640x480 1 0, 1 1, 14.6ms\n",
            "Speed: 3.7ms preprocess, 14.6ms inference, 1.5ms postprocess per image at shape (1, 3, 640, 480)\n",
            "xmin:  56  xmax:  106  ymin:  261  y_max:  311\n",
            "xmin:  57  xmax:  105  ymin:  210  y_max:  258\n",
            "\n",
            "0: 640x480 1 1, 11.3ms\n",
            "Speed: 3.3ms preprocess, 11.3ms inference, 1.5ms postprocess per image at shape (1, 3, 640, 480)\n",
            "xmin:  133  xmax:  185  ymin:  237  y_max:  289\n",
            "xmin:  132  xmax:  184  ymin:  238  y_max:  291\n",
            "\n",
            "0: 640x480 1 1, 11.5ms\n",
            "Speed: 4.1ms preprocess, 11.5ms inference, 1.9ms postprocess per image at shape (1, 3, 640, 480)\n",
            "xmin:  115  xmax:  165  ymin:  246  y_max:  298\n",
            "xmin:  116  xmax:  166  ymin:  246  y_max:  299\n",
            "\n",
            "0: 640x480 1 0, 1 1, 10.4ms\n",
            "Speed: 3.6ms preprocess, 10.4ms inference, 1.5ms postprocess per image at shape (1, 3, 640, 480)\n",
            "xmin:  71  xmax:  159  ymin:  317  y_max:  399\n",
            "xmin:  69  xmax:  163  ymin:  315  y_max:  399\n",
            "\n",
            "0: 640x480 1 0, 1 1, 12.8ms\n",
            "Speed: 3.2ms preprocess, 12.8ms inference, 1.6ms postprocess per image at shape (1, 3, 640, 480)\n",
            "xmin:  85  xmax:  207  ymin:  205  y_max:  323\n",
            "xmin:  86  xmax:  206  ymin:  202  y_max:  327\n",
            "\n",
            "0: 512x640 1 3, 11.2ms\n",
            "Speed: 4.7ms preprocess, 11.2ms inference, 1.5ms postprocess per image at shape (1, 3, 512, 640)\n",
            "xmin:  56  xmax:  330  ymin:  22  y_max:  294\n",
            "xmin:  58  xmax:  331  ymin:  24  y_max:  295\n",
            "\n",
            "0: 640x480 1 1, 11.2ms\n",
            "Speed: 3.3ms preprocess, 11.2ms inference, 1.5ms postprocess per image at shape (1, 3, 640, 480)\n",
            "xmin:  145  xmax:  173  ymin:  161  y_max:  189\n",
            "xmin:  145  xmax:  175  ymin:  161  y_max:  190\n",
            "\n",
            "0: 640x480 1 1, 11.4ms\n",
            "Speed: 3.4ms preprocess, 11.4ms inference, 1.6ms postprocess per image at shape (1, 3, 640, 480)\n",
            "xmin:  129  xmax:  169  ymin:  108  y_max:  148\n",
            "xmin:  129  xmax:  170  ymin:  108  y_max:  148\n",
            "\n",
            "0: 640x480 1 1, 11.8ms\n",
            "Speed: 2.8ms preprocess, 11.8ms inference, 1.8ms postprocess per image at shape (1, 3, 640, 480)\n",
            "xmin:  98  xmax:  204  ymin:  50  y_max:  154\n",
            "xmin:  98  xmax:  204  ymin:  51  y_max:  155\n",
            "\n",
            "0: 640x480 1 1, 11.8ms\n",
            "Speed: 2.8ms preprocess, 11.8ms inference, 1.7ms postprocess per image at shape (1, 3, 640, 480)\n",
            "xmin:  130  xmax:  154  ymin:  191  y_max:  215\n",
            "xmin:  129  xmax:  155  ymin:  191  y_max:  216\n",
            "\n",
            "0: 640x480 1 1, 10.5ms\n",
            "Speed: 3.6ms preprocess, 10.5ms inference, 1.7ms postprocess per image at shape (1, 3, 640, 480)\n",
            "xmin:  56  xmax:  92  ymin:  222  y_max:  256\n",
            "xmin:  57  xmax:  92  ymin:  222  y_max:  259\n",
            "\n",
            "0: 640x480 1 1, 10.8ms\n",
            "Speed: 4.2ms preprocess, 10.8ms inference, 1.7ms postprocess per image at shape (1, 3, 640, 480)\n",
            "xmin:  251  xmax:  299  ymin:  84  y_max:  142\n",
            "xmin:  251  xmax:  299  ymin:  82  y_max:  143\n",
            "\n",
            "0: 640x480 1 1, 10.9ms\n",
            "Speed: 4.2ms preprocess, 10.9ms inference, 1.5ms postprocess per image at shape (1, 3, 640, 480)\n",
            "xmin:  121  xmax:  135  ymin:  192  y_max:  206\n",
            "xmin:  121  xmax:  136  ymin:  193  y_max:  208\n",
            "\n",
            "0: 640x480 1 1, 10.9ms\n",
            "Speed: 3.8ms preprocess, 10.9ms inference, 1.5ms postprocess per image at shape (1, 3, 640, 480)\n",
            "xmin:  68  xmax:  98  ymin:  92  y_max:  122\n",
            "xmin:  68  xmax:  100  ymin:  92  y_max:  125\n",
            "\n",
            "0: 640x480 1 3, 12.4ms\n",
            "Speed: 4.2ms preprocess, 12.4ms inference, 1.9ms postprocess per image at shape (1, 3, 640, 480)\n",
            "xmin:  99  xmax:  137  ymin:  107  y_max:  145\n",
            "xmin:  98  xmax:  137  ymin:  107  y_max:  145\n",
            "\n",
            "0: 640x480 1 3, 10.9ms\n",
            "Speed: 4.3ms preprocess, 10.9ms inference, 1.5ms postprocess per image at shape (1, 3, 640, 480)\n",
            "xmin:  97  xmax:  149  ymin:  101  y_max:  153\n",
            "xmin:  97  xmax:  150  ymin:  101  y_max:  154\n",
            "\n",
            "0: 640x480 1 3, 10.8ms\n",
            "Speed: 4.3ms preprocess, 10.8ms inference, 1.8ms postprocess per image at shape (1, 3, 640, 480)\n",
            "xmin:  52  xmax:  118  ymin:  29  y_max:  93\n",
            "xmin:  52  xmax:  119  ymin:  29  y_max:  94\n",
            "\n",
            "0: 640x480 1 3, 10.7ms\n",
            "Speed: 3.8ms preprocess, 10.7ms inference, 1.6ms postprocess per image at shape (1, 3, 640, 480)\n",
            "xmin:  124  xmax:  210  ymin:  88  y_max:  174\n",
            "xmin:  122  xmax:  211  ymin:  88  y_max:  175\n",
            "\n",
            "0: 640x480 1 1, 11.1ms\n",
            "Speed: 3.7ms preprocess, 11.1ms inference, 2.2ms postprocess per image at shape (1, 3, 640, 480)\n",
            "xmin:  99  xmax:  157  ymin:  70  y_max:  128\n",
            "xmin:  98  xmax:  158  ymin:  71  y_max:  130\n",
            "\n",
            "0: 640x480 1 1, 10.6ms\n",
            "Speed: 4.9ms preprocess, 10.6ms inference, 1.6ms postprocess per image at shape (1, 3, 640, 480)\n",
            "xmin:  135  xmax:  151  ymin:  174  y_max:  190\n",
            "xmin:  135  xmax:  153  ymin:  174  y_max:  191\n",
            "\n",
            "0: 640x480 2 1s, 11.3ms\n",
            "Speed: 3.5ms preprocess, 11.3ms inference, 1.8ms postprocess per image at shape (1, 3, 640, 480)\n",
            "xmin:  180  xmax:  206  ymin:  197  y_max:  223\n",
            "xmin:  78  xmax:  98  ymin:  214  y_max:  234\n",
            "\n",
            "0: 640x480 2 1s, 10.9ms\n",
            "Speed: 4.2ms preprocess, 10.9ms inference, 1.5ms postprocess per image at shape (1, 3, 640, 480)\n",
            "xmin:  31  xmax:  51  ymin:  185  y_max:  205\n",
            "xmin:  72  xmax:  99  ymin:  155  y_max:  181\n",
            "\n",
            "0: 640x480 2 1s, 11.1ms\n",
            "Speed: 4.3ms preprocess, 11.1ms inference, 1.5ms postprocess per image at shape (1, 3, 640, 480)\n",
            "xmin:  23  xmax:  47  ymin:  211  y_max:  235\n",
            "xmin:  82  xmax:  115  ymin:  173  y_max:  205\n",
            "\n",
            "0: 512x640 1 3, 12.1ms\n",
            "Speed: 5.7ms preprocess, 12.1ms inference, 1.9ms postprocess per image at shape (1, 3, 512, 640)\n",
            "xmin:  96  xmax:  310  ymin:  24  y_max:  224\n",
            "xmin:  95  xmax:  311  ymin:  23  y_max:  227\n",
            "\n",
            "0: 640x480 1 1, 12.6ms\n",
            "Speed: 3.0ms preprocess, 12.6ms inference, 1.7ms postprocess per image at shape (1, 3, 640, 480)\n",
            "xmin:  160  xmax:  176  ymin:  176  y_max:  192\n",
            "xmin:  161  xmax:  178  ymin:  176  y_max:  193\n",
            "\n",
            "0: 640x480 1 1, 11.9ms\n",
            "Speed: 3.3ms preprocess, 11.9ms inference, 2.5ms postprocess per image at shape (1, 3, 640, 480)\n",
            "xmin:  156  xmax:  202  ymin:  123  y_max:  175\n",
            "xmin:  156  xmax:  203  ymin:  123  y_max:  175\n",
            "\n",
            "0: 640x480 1 0, 1 1, 11.2ms\n",
            "Speed: 3.0ms preprocess, 11.2ms inference, 1.5ms postprocess per image at shape (1, 3, 640, 480)\n",
            "xmin:  139  xmax:  177  ymin:  250  y_max:  286\n",
            "xmin:  139  xmax:  177  ymin:  250  y_max:  287\n",
            "\n",
            "0: 640x480 1 1, 10.6ms\n",
            "Speed: 3.3ms preprocess, 10.6ms inference, 1.4ms postprocess per image at shape (1, 3, 640, 480)\n",
            "xmin:  93  xmax:  159  ymin:  232  y_max:  296\n",
            "xmin:  92  xmax:  159  ymin:  231  y_max:  297\n",
            "\n",
            "0: 640x480 1 1, 11.1ms\n",
            "Speed: 4.3ms preprocess, 11.1ms inference, 1.5ms postprocess per image at shape (1, 3, 640, 480)\n",
            "xmin:  99  xmax:  141  ymin:  153  y_max:  191\n",
            "xmin:  99  xmax:  141  ymin:  152  y_max:  192\n",
            "\n",
            "0: 640x480 2 1s, 10.9ms\n",
            "Speed: 4.7ms preprocess, 10.9ms inference, 1.5ms postprocess per image at shape (1, 3, 640, 480)\n",
            "xmin:  101  xmax:  201  ymin:  128  y_max:  230\n",
            "xmin:  101  xmax:  202  ymin:  128  y_max:  230\n",
            "\n",
            "0: 640x480 1 1, 10.8ms\n",
            "Speed: 4.0ms preprocess, 10.8ms inference, 1.6ms postprocess per image at shape (1, 3, 640, 480)\n",
            "xmin:  135  xmax:  157  ymin:  170  y_max:  190\n",
            "xmin:  134  xmax:  156  ymin:  170  y_max:  192\n",
            "\n",
            "0: 640x480 2 1s, 13.7ms\n",
            "Speed: 4.2ms preprocess, 13.7ms inference, 1.6ms postprocess per image at shape (1, 3, 640, 480)\n",
            "xmin:  140  xmax:  164  ymin:  214  y_max:  240\n",
            "xmin:  139  xmax:  165  ymin:  215  y_max:  242\n",
            "\n",
            "0: 640x480 1 1, 11.0ms\n",
            "Speed: 2.8ms preprocess, 11.0ms inference, 1.5ms postprocess per image at shape (1, 3, 640, 480)\n",
            "xmin:  103  xmax:  133  ymin:  167  y_max:  197\n",
            "xmin:  103  xmax:  134  ymin:  166  y_max:  198\n",
            "\n",
            "0: 640x480 1 1, 11.0ms\n",
            "Speed: 4.0ms preprocess, 11.0ms inference, 1.5ms postprocess per image at shape (1, 3, 640, 480)\n",
            "xmin:  129  xmax:  175  ymin:  156  y_max:  202\n",
            "xmin:  131  xmax:  176  ymin:  156  y_max:  203\n",
            "\n",
            "0: 640x512 1 2, 12.7ms\n",
            "Speed: 3.6ms preprocess, 12.7ms inference, 1.6ms postprocess per image at shape (1, 3, 640, 512)\n",
            "xmin:  122  xmax:  150  ymin:  140  y_max:  220\n",
            "xmin:  120  xmax:  159  ymin:  145  y_max:  218\n",
            "\n",
            "0: 512x640 1 3, 11.7ms\n",
            "Speed: 4.7ms preprocess, 11.7ms inference, 1.7ms postprocess per image at shape (1, 3, 512, 640)\n",
            "xmin:  61  xmax:  199  ymin:  56  y_max:  200\n",
            "xmin:  58  xmax:  203  ymin:  55  y_max:  203\n",
            "\n",
            "0: 640x480 2 1s, 12.3ms\n",
            "Speed: 3.4ms preprocess, 12.3ms inference, 1.7ms postprocess per image at shape (1, 3, 640, 480)\n",
            "xmin:  64  xmax:  126  ymin:  272  y_max:  332\n",
            "xmin:  66  xmax:  126  ymin:  176  y_max:  236\n",
            "\n",
            "0: 640x480 1 1, 11.1ms\n",
            "Speed: 2.7ms preprocess, 11.1ms inference, 1.7ms postprocess per image at shape (1, 3, 640, 480)\n",
            "xmin:  146  xmax:  166  ymin:  192  y_max:  214\n",
            "xmin:  146  xmax:  167  ymin:  192  y_max:  214\n",
            "\n",
            "0: 640x480 1 1, 16.7ms\n",
            "Speed: 3.1ms preprocess, 16.7ms inference, 2.3ms postprocess per image at shape (1, 3, 640, 480)\n",
            "xmin:  116  xmax:  140  ymin:  209  y_max:  231\n",
            "xmin:  116  xmax:  141  ymin:  209  y_max:  234\n",
            "\n",
            "0: 640x480 1 1, 13.0ms\n",
            "Speed: 3.6ms preprocess, 13.0ms inference, 1.5ms postprocess per image at shape (1, 3, 640, 480)\n",
            "xmin:  100  xmax:  126  ymin:  195  y_max:  221\n",
            "xmin:  99  xmax:  127  ymin:  194  y_max:  222\n",
            "\n",
            "0: 640x480 1 1, 17.9ms\n",
            "Speed: 2.9ms preprocess, 17.9ms inference, 2.4ms postprocess per image at shape (1, 3, 640, 480)\n",
            "xmin:  66  xmax:  110  ymin:  155  y_max:  199\n",
            "xmin:  66  xmax:  112  ymin:  155  y_max:  201\n",
            "\n",
            "0: 640x480 1 1, 11.3ms\n",
            "Speed: 3.2ms preprocess, 11.3ms inference, 1.6ms postprocess per image at shape (1, 3, 640, 480)\n",
            "xmin:  138  xmax:  174  ymin:  170  y_max:  204\n",
            "xmin:  138  xmax:  174  ymin:  170  y_max:  207\n",
            "\n",
            "0: 640x480 1 1, 13.6ms\n",
            "Speed: 2.8ms preprocess, 13.6ms inference, 1.5ms postprocess per image at shape (1, 3, 640, 480)\n",
            "xmin:  71  xmax:  107  ymin:  167  y_max:  201\n",
            "xmin:  73  xmax:  107  ymin:  168  y_max:  203\n",
            "\n",
            "0: 640x480 1 1, 11.8ms\n",
            "Speed: 2.9ms preprocess, 11.8ms inference, 1.5ms postprocess per image at shape (1, 3, 640, 480)\n",
            "xmin:  118  xmax:  166  ymin:  165  y_max:  211\n",
            "xmin:  119  xmax:  166  ymin:  165  y_max:  212\n",
            "\n",
            "0: 640x480 1 1, 13.0ms\n",
            "Speed: 5.0ms preprocess, 13.0ms inference, 1.6ms postprocess per image at shape (1, 3, 640, 480)\n",
            "xmin:  152  xmax:  174  ymin:  216  y_max:  238\n",
            "xmin:  153  xmax:  175  ymin:  218  y_max:  239\n",
            "\n",
            "0: 640x480 1 1, 10.7ms\n",
            "Speed: 3.3ms preprocess, 10.7ms inference, 1.5ms postprocess per image at shape (1, 3, 640, 480)\n",
            "xmin:  103  xmax:  169  ymin:  153  y_max:  221\n",
            "xmin:  104  xmax:  170  ymin:  153  y_max:  220\n",
            "\n",
            "0: 640x480 1 1, 10.5ms\n",
            "Speed: 3.6ms preprocess, 10.5ms inference, 1.5ms postprocess per image at shape (1, 3, 640, 480)\n",
            "xmin:  109  xmax:  131  ymin:  194  y_max:  216\n",
            "xmin:  108  xmax:  133  ymin:  194  y_max:  218\n",
            "\n",
            "0: 640x480 1 1, 11.5ms\n",
            "Speed: 3.8ms preprocess, 11.5ms inference, 1.5ms postprocess per image at shape (1, 3, 640, 480)\n",
            "xmin:  139  xmax:  169  ymin:  164  y_max:  194\n",
            "xmin:  138  xmax:  171  ymin:  164  y_max:  194\n",
            "\n",
            "0: 640x480 1 1, 10.7ms\n",
            "Speed: 4.7ms preprocess, 10.7ms inference, 1.5ms postprocess per image at shape (1, 3, 640, 480)\n",
            "xmin:  75  xmax:  125  ymin:  191  y_max:  239\n",
            "xmin:  73  xmax:  125  ymin:  191  y_max:  242\n",
            "\n",
            "0: 448x640 1 3, 11.5ms\n",
            "Speed: 3.9ms preprocess, 11.5ms inference, 1.6ms postprocess per image at shape (1, 3, 448, 640)\n",
            "xmin:  72  xmax:  152  ymin:  37  y_max:  111\n",
            "xmin:  72  xmax:  153  ymin:  38  y_max:  112\n",
            "\n",
            "0: 640x480 1 1, 11.7ms\n",
            "Speed: 2.9ms preprocess, 11.7ms inference, 1.7ms postprocess per image at shape (1, 3, 640, 480)\n",
            "xmin:  95  xmax:  141  ymin:  109  y_max:  155\n",
            "xmin:  137  xmax:  164  ymin:  183  y_max:  220\n",
            "\n",
            "0: 640x480 1 0, 1 1, 12.6ms\n",
            "Speed: 6.1ms preprocess, 12.6ms inference, 1.5ms postprocess per image at shape (1, 3, 640, 480)\n",
            "xmin:  73  xmax:  167  ymin:  63  y_max:  157\n",
            "xmin:  74  xmax:  168  ymin:  65  y_max:  160\n",
            "\n",
            "0: 640x480 1 1, 11.5ms\n",
            "Speed: 3.6ms preprocess, 11.5ms inference, 1.8ms postprocess per image at shape (1, 3, 640, 480)\n",
            "xmin:  97  xmax:  121  ymin:  155  y_max:  179\n",
            "xmin:  97  xmax:  124  ymin:  155  y_max:  181\n",
            "\n",
            "0: 640x480 1 1, 11.6ms\n",
            "Speed: 4.2ms preprocess, 11.6ms inference, 1.5ms postprocess per image at shape (1, 3, 640, 480)\n",
            "xmin:  112  xmax:  166  ymin:  169  y_max:  221\n",
            "xmin:  113  xmax:  166  ymin:  169  y_max:  222\n",
            "\n",
            "0: 640x480 1 1, 13.4ms\n",
            "Speed: 4.1ms preprocess, 13.4ms inference, 1.6ms postprocess per image at shape (1, 3, 640, 480)\n",
            "xmin:  97  xmax:  145  ymin:  192  y_max:  238\n",
            "xmin:  98  xmax:  145  ymin:  192  y_max:  241\n",
            "\n",
            "0: 640x480 2 1s, 11.0ms\n",
            "Speed: 3.5ms preprocess, 11.0ms inference, 1.6ms postprocess per image at shape (1, 3, 640, 480)\n",
            "xmin:  101  xmax:  163  ymin:  213  y_max:  273\n",
            "xmin:  101  xmax:  163  ymin:  213  y_max:  275\n",
            "\n",
            "0: 640x480 1 1, 12.3ms\n",
            "Speed: 3.4ms preprocess, 12.3ms inference, 1.5ms postprocess per image at shape (1, 3, 640, 480)\n",
            "xmin:  90  xmax:  142  ymin:  181  y_max:  231\n",
            "xmin:  92  xmax:  143  ymin:  180  y_max:  231\n",
            "\n",
            "0: 640x480 1 1, 12.3ms\n",
            "Speed: 3.5ms preprocess, 12.3ms inference, 1.5ms postprocess per image at shape (1, 3, 640, 480)\n",
            "xmin:  117  xmax:  185  ymin:  165  y_max:  233\n",
            "xmin:  117  xmax:  187  ymin:  166  y_max:  235\n",
            "\n",
            "0: 640x480 1 2, 1 3, 17.4ms\n",
            "Speed: 2.6ms preprocess, 17.4ms inference, 2.1ms postprocess per image at shape (1, 3, 640, 480)\n",
            "xmin:  106  xmax:  166  ymin:  78  y_max:  138\n",
            "xmin:  35  xmax:  58  ymin:  308  y_max:  352\n",
            "\n",
            "0: 640x480 1 1, 13.8ms\n",
            "Speed: 2.9ms preprocess, 13.8ms inference, 1.5ms postprocess per image at shape (1, 3, 640, 480)\n",
            "xmin:  119  xmax:  177  ymin:  112  y_max:  168\n",
            "xmin:  120  xmax:  178  ymin:  111  y_max:  170\n",
            "\n",
            "0: 640x480 1 1, 11.3ms\n",
            "Speed: 3.0ms preprocess, 11.3ms inference, 1.7ms postprocess per image at shape (1, 3, 640, 480)\n",
            "xmin:  81  xmax:  165  ymin:  103  y_max:  183\n",
            "xmin:  81  xmax:  165  ymin:  104  y_max:  185\n",
            "\n",
            "0: 640x480 1 1, 16.3ms\n",
            "Speed: 2.8ms preprocess, 16.3ms inference, 1.6ms postprocess per image at shape (1, 3, 640, 480)\n",
            "xmin:  68  xmax:  168  ymin:  108  y_max:  204\n",
            "xmin:  69  xmax:  169  ymin:  108  y_max:  204\n",
            "\n",
            "0: 640x480 1 0, 1 1, 11.8ms\n",
            "Speed: 2.8ms preprocess, 11.8ms inference, 1.5ms postprocess per image at shape (1, 3, 640, 480)\n",
            "xmin:  77  xmax:  141  ymin:  129  y_max:  191\n",
            "xmin:  78  xmax:  141  ymin:  128  y_max:  190\n",
            "\n",
            "0: 640x480 1 1, 12.0ms\n",
            "Speed: 3.7ms preprocess, 12.0ms inference, 1.6ms postprocess per image at shape (1, 3, 640, 480)\n",
            "xmin:  109  xmax:  189  ymin:  86  y_max:  164\n",
            "xmin:  109  xmax:  189  ymin:  87  y_max:  166\n",
            "\n",
            "0: 640x480 1 1, 10.9ms\n",
            "Speed: 2.9ms preprocess, 10.9ms inference, 1.7ms postprocess per image at shape (1, 3, 640, 480)\n",
            "xmin:  170  xmax:  208  ymin:  99  y_max:  135\n",
            "xmin:  172  xmax:  209  ymin:  98  y_max:  136\n",
            "\n",
            "0: 640x480 1 3, 11.7ms\n",
            "Speed: 3.8ms preprocess, 11.7ms inference, 1.8ms postprocess per image at shape (1, 3, 640, 480)\n",
            "xmin:  82  xmax:  232  ymin:  144  y_max:  288\n",
            "xmin:  80  xmax:  230  ymin:  145  y_max:  292\n",
            "\n",
            "0: 640x480 1 1, 12.1ms\n",
            "Speed: 2.7ms preprocess, 12.1ms inference, 1.8ms postprocess per image at shape (1, 3, 640, 480)\n",
            "xmin:  113  xmax:  133  ymin:  118  y_max:  138\n",
            "xmin:  113  xmax:  134  ymin:  118  y_max:  139\n",
            "\n",
            "0: 640x480 1 1, 12.3ms\n",
            "Speed: 3.3ms preprocess, 12.3ms inference, 1.6ms postprocess per image at shape (1, 3, 640, 480)\n",
            "xmin:  126  xmax:  148  ymin:  147  y_max:  169\n",
            "xmin:  126  xmax:  150  ymin:  147  y_max:  170\n",
            "\n",
            "0: 640x480 1 1, 21.7ms\n",
            "Speed: 3.0ms preprocess, 21.7ms inference, 1.9ms postprocess per image at shape (1, 3, 640, 480)\n",
            "xmin:  118  xmax:  148  ymin:  131  y_max:  161\n",
            "xmin:  117  xmax:  150  ymin:  130  y_max:  162\n",
            "\n",
            "0: 640x480 1 1, 18.5ms\n",
            "Speed: 5.2ms preprocess, 18.5ms inference, 2.2ms postprocess per image at shape (1, 3, 640, 480)\n",
            "xmin:  95  xmax:  133  ymin:  85  y_max:  123\n",
            "xmin:  94  xmax:  134  ymin:  86  y_max:  125\n",
            "\n",
            "0: 640x480 1 1, 14.8ms\n",
            "Speed: 2.9ms preprocess, 14.8ms inference, 2.2ms postprocess per image at shape (1, 3, 640, 480)\n",
            "xmin:  214  xmax:  286  ymin:  30  y_max:  100\n",
            "xmin:  214  xmax:  287  ymin:  29  y_max:  101\n",
            "\n",
            "0: 640x480 1 1, 16.1ms\n",
            "Speed: 5.4ms preprocess, 16.1ms inference, 2.0ms postprocess per image at shape (1, 3, 640, 480)\n",
            "xmin:  124  xmax:  152  ymin:  123  y_max:  153\n",
            "xmin:  44  xmax:  52  ymin:  249  y_max:  256\n",
            "\n",
            "0: 640x480 1 1, 17.0ms\n",
            "Speed: 2.9ms preprocess, 17.0ms inference, 2.7ms postprocess per image at shape (1, 3, 640, 480)\n",
            "xmin:  84  xmax:  166  ymin:  125  y_max:  207\n",
            "xmin:  83  xmax:  168  ymin:  124  y_max:  208\n",
            "\n",
            "0: 640x480 1 1, 20.5ms\n",
            "Speed: 4.3ms preprocess, 20.5ms inference, 2.0ms postprocess per image at shape (1, 3, 640, 480)\n",
            "xmin:  174  xmax:  276  ymin:  52  y_max:  152\n",
            "xmin:  173  xmax:  276  ymin:  51  y_max:  153\n",
            "\n",
            "0: 640x480 1 1, 15.2ms\n",
            "Speed: 2.9ms preprocess, 15.2ms inference, 2.0ms postprocess per image at shape (1, 3, 640, 480)\n",
            "xmin:  108  xmax:  176  ymin:  111  y_max:  179\n",
            "xmin:  83  xmax:  97  ymin:  297  y_max:  314\n",
            "\n",
            "0: 640x448 1 3, 14.8ms\n",
            "Speed: 3.3ms preprocess, 14.8ms inference, 2.1ms postprocess per image at shape (1, 3, 640, 448)\n",
            "xmin:  109  xmax:  183  ymin:  146  y_max:  220\n",
            "xmin:  109  xmax:  183  ymin:  146  y_max:  223\n",
            "\n",
            "0: 640x480 3 2s, 15.3ms\n",
            "Speed: 2.9ms preprocess, 15.3ms inference, 1.9ms postprocess per image at shape (1, 3, 640, 480)\n",
            "xmin:  80  xmax:  156  ymin:  122  y_max:  328\n",
            "xmin:  81  xmax:  158  ymin:  119  y_max:  336\n",
            "\n",
            "0: 448x640 1 3, 22.0ms\n",
            "Speed: 6.4ms preprocess, 22.0ms inference, 2.0ms postprocess per image at shape (1, 3, 448, 640)\n",
            "xmin:  127  xmax:  265  ymin:  37  y_max:  211\n",
            "xmin:  126  xmax:  268  ymin:  36  y_max:  212\n",
            "\n",
            "0: 448x640 1 3, 15.2ms\n",
            "Speed: 6.4ms preprocess, 15.2ms inference, 2.1ms postprocess per image at shape (1, 3, 448, 640)\n",
            "xmin:  44  xmax:  128  ymin:  69  y_max:  151\n",
            "xmin:  42  xmax:  130  ymin:  66  y_max:  154\n",
            "\n",
            "0: 448x640 1 3, 14.1ms\n",
            "Speed: 2.9ms preprocess, 14.1ms inference, 2.0ms postprocess per image at shape (1, 3, 448, 640)\n",
            "xmin:  136  xmax:  376  ymin:  15  y_max:  241\n",
            "xmin:  138  xmax:  376  ymin:  17  y_max:  245\n"
          ]
        }
      ]
    },
    {
      "cell_type": "code",
      "source": [
        "len(iou_scores)"
      ],
      "metadata": {
        "colab": {
          "base_uri": "https://localhost:8080/"
        },
        "id": "UyhBtpCwj0cs",
        "outputId": "2d10b964-0b38-43a3-914c-7aa4c46a8f9f"
      },
      "id": "UyhBtpCwj0cs",
      "execution_count": 56,
      "outputs": [
        {
          "output_type": "execute_result",
          "data": {
            "text/plain": [
              "175"
            ]
          },
          "metadata": {},
          "execution_count": 56
        }
      ]
    },
    {
      "cell_type": "code",
      "source": [
        "len(p_labels)"
      ],
      "metadata": {
        "colab": {
          "base_uri": "https://localhost:8080/"
        },
        "id": "4nKuU5VNj0gR",
        "outputId": "b36574d9-70dd-4fce-c426-c1642065616f"
      },
      "id": "4nKuU5VNj0gR",
      "execution_count": 57,
      "outputs": [
        {
          "output_type": "execute_result",
          "data": {
            "text/plain": [
              "172"
            ]
          },
          "metadata": {},
          "execution_count": 57
        }
      ]
    },
    {
      "cell_type": "code",
      "source": [
        "len(o_labels)"
      ],
      "metadata": {
        "colab": {
          "base_uri": "https://localhost:8080/"
        },
        "id": "f9B9zEc5-czI",
        "outputId": "11661840-80bf-44ff-fdbe-a2ab4e8e451d"
      },
      "id": "f9B9zEc5-czI",
      "execution_count": 58,
      "outputs": [
        {
          "output_type": "execute_result",
          "data": {
            "text/plain": [
              "172"
            ]
          },
          "metadata": {},
          "execution_count": 58
        }
      ]
    },
    {
      "cell_type": "code",
      "source": [
        "from sklearn.metrics import accuracy_score,precision_score,recall_score,f1_score\n",
        "print(\"Accuracy: \",accuracy_score(p_labels,o_labels))\n",
        "print(\"Precision: \",precision_score(p_labels,o_labels,average='weighted'))\n",
        "print(\"Recall: \",recall_score(p_labels,o_labels,average='weighted'))\n",
        "print(\"f1_score: \",f1_score(p_labels,o_labels,average='weighted'))"
      ],
      "metadata": {
        "colab": {
          "base_uri": "https://localhost:8080/"
        },
        "id": "wZmZw-el-c07",
        "outputId": "5bc9734d-98d3-41a5-83b6-190c8031ccdf"
      },
      "id": "wZmZw-el-c07",
      "execution_count": 59,
      "outputs": [
        {
          "output_type": "stream",
          "name": "stdout",
          "text": [
            "Accuracy:  0.9127906976744186\n",
            "Precision:  0.9261078824755229\n",
            "Recall:  0.9127906976744186\n",
            "f1_score:  0.9177483824884646\n"
          ]
        }
      ]
    },
    {
      "cell_type": "code",
      "source": [
        "avg_iou_score=sum(iou_scores)/len(iou_scores)\n",
        "\n",
        "print('Average IOU Score : ',avg_iou_score)"
      ],
      "metadata": {
        "colab": {
          "base_uri": "https://localhost:8080/"
        },
        "id": "jlwYckMJ-c4P",
        "outputId": "101f0adf-c675-471a-e322-d5666d301b81"
      },
      "id": "jlwYckMJ-c4P",
      "execution_count": 60,
      "outputs": [
        {
          "output_type": "stream",
          "name": "stdout",
          "text": [
            "Average IOU Score :  0.8014180690977861\n"
          ]
        }
      ]
    }
  ],
  "metadata": {
    "colab": {
      "provenance": [],
      "gpuType": "T4",
      "include_colab_link": true
    },
    "kernelspec": {
      "display_name": "Python 3",
      "name": "python3"
    },
    "language_info": {
      "codemirror_mode": {
        "name": "ipython",
        "version": 3
      },
      "file_extension": ".py",
      "mimetype": "text/x-python",
      "name": "python",
      "nbconvert_exporter": "python",
      "pygments_lexer": "ipython3",
      "version": "3.11.5"
    },
    "accelerator": "GPU"
  },
  "nbformat": 4,
  "nbformat_minor": 5
}